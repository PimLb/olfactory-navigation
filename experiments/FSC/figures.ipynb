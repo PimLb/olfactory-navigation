{
 "cells": [
  {
   "cell_type": "code",
   "execution_count": null,
   "metadata": {},
   "outputs": [],
   "source": [
    "import numpy as np\n",
    "from scipy.special import  softmax\n",
    "import matplotlib.pyplot as plt\n",
    "import os\n",
    "from matplotlib.collections import LineCollection\n",
    "from matplotlib.patches import Rectangle\n",
    "import re\n",
    "import glob\n",
    "import modelBasedTrain as mb"
   ]
  },
  {
   "cell_type": "code",
   "execution_count": null,
   "metadata": {},
   "outputs": [],
   "source": [
    "SC = 92 * 131 # Number of States\n",
    "cSource = 45.5 # Source coordinates\n",
    "rSource = 91\n",
    "cols = 92\n",
    "rows = 131\n",
    "find_range = 1.1 # Source radius\n",
    "gamma = 0.99975\n",
    "reward = -(1 -gamma)\n",
    "ActionDict = np.asarray([\n",
    "            [-1,  0], # North\n",
    "            [ 0,  1], # East\n",
    "            [ 1,  0], # South\n",
    "            [ 0, -1]  # West\n",
    "        ])\n",
    "dataC = np.load(\"celaniData/fine5.npy\")\n",
    "rho = np.zeros(SC)\n",
    "rho[:cols] = (1-dataC[0,:cols])/np.sum((1-dataC[0,:cols]))\n",
    "R = np.ones(SC*1) * -(1 - gamma)\n",
    "for s in range(SC):\n",
    "    r, c = s // 92, s % 92 \n",
    "    if (r - rSource) ** 2 + (c -cSource) **2 < find_range**2:\n",
    "        R[s::SC] = 0"
   ]
  },
  {
   "cell_type": "code",
   "execution_count": null,
   "metadata": {},
   "outputs": [],
   "source": [
    "def isEnd(state):\n",
    "    s = np.unravel_index(state, (131, 92))\n",
    "    return (s[0] - rSource) ** 2 + (s[1] -cSource) **2 < find_range**2\n",
    "\n",
    "def choose_action(pi, o):\n",
    "    return np.random.choice(4, p = pi[o, 0])\n",
    "\n",
    "def move(s, a):\n",
    "    r, c = s // cols, s % cols\n",
    "    action = ActionDict[a]\n",
    "    rNew = r + action[0]\n",
    "    cNew = c + action[1]\n",
    "    r = rNew if rNew >= 0 and rNew < 131 else r\n",
    "    c = cNew if cNew >= 0 and cNew < 92 else c\n",
    "    return r * 92 + c\n",
    "\n",
    "def getTraj(pi, pObs, rho):\n",
    "    start = np.random.choice(range(131*92), size=1, p = rho).astype(int)[0]\n",
    "    print(start)\n",
    "    obs = np.random.choice(2, p = pObs[:, start])\n",
    "    curState = start\n",
    "    history = np.zeros((3, 10000)).astype(int)\n",
    "    history[0, 0] = start\n",
    "    history[1, 0] = obs\n",
    "    t = 0\n",
    "    while not isEnd(curState) and t < 10000:\n",
    "        if curState == 8417 or curState == 8418:\n",
    "            print(\"AAAAAA\")\n",
    "        action = choose_action(pi, obs)\n",
    "        history[2, t] = action\n",
    "        newState = move(curState, action)\n",
    "        obs = np.random.choice(2, p = pObs[:, newState])\n",
    "        print(curState, newState, action, obs)\n",
    "        t += 1\n",
    "        history[0, t] = newState\n",
    "        history[1, t] = obs\n",
    "        curState = newState\n",
    "    return history, t\n",
    "\n",
    "def plot_and_save(totIter, thetas, obj, normDiff, diffFromOpt, diffPrev, paramas, name, delayed = None):\n",
    "    color = \"orange\"\n",
    "    style = \"--\"\n",
    "    plt.figure(figsize=(15, 10))\n",
    "    plt.suptitle(f\"{name}\\n Actor Lambda {paramas[0]}; Lr {paramas[2]}\\nCritic Lambda {paramas[1]}; Lr {paramas[3]}\")\n",
    "    plt.subplot(2,2, 1)\n",
    "    plt.plot(range(totIter), thetas, label = \"Theta Norm\")\n",
    "    plt.vlines(delayed, *plt.ylim(),color, style)\n",
    "    plt.legend()\n",
    "    plt.subplot(2,2,2)\n",
    "    plt.plot(range(totIter), obj, label = \"Objective\")\n",
    "    plt.hlines(-0.48, 0,totIter, \"r\", label = \"Optimal\")\n",
    "    plt.ylim(-1, -0.475)\n",
    "    plt.vlines(delayed, *plt.ylim(),color, style)\n",
    "    plt.legend()\n",
    "    plt.subplot(2,2,3)\n",
    "    plt.plot(range(totIter), normDiff, label = \"Diff from True\")\n",
    "    plt.plot(range(totIter), diffFromOpt, label = \"Diff from Optimal\")\n",
    "    plt.hlines(0, 0,totIter, \"k\", label= \"0\")\n",
    "    plt.vlines(delayed, *plt.ylim(),color, style)\n",
    "    plt.legend()\n",
    "    plt.subplot(2,2,4)\n",
    "    plt.plot(range(1, totIter), diffPrev[1:], label = \"Diff from Prev\")\n",
    "    plt.hlines(0, 0,totIter, \"k\", label= \"0\")\n",
    "    plt.legend()\n",
    "    plt.vlines(delayed, *plt.ylim(),color, style)\n",
    "    plt.savefig(f\"objOut/png/{name}_{paramas}.png\")"
   ]
  },
  {
   "cell_type": "code",
   "execution_count": null,
   "metadata": {},
   "outputs": [],
   "source": [
    "[a for a in range(SC) if isEnd(a)]"
   ]
  },
  {
   "cell_type": "code",
   "execution_count": null,
   "metadata": {},
   "outputs": [],
   "source": [
    "pi = softmax(np.load(\"celaniData/thetaLoro.npy\"), axis = 2)\n",
    "print(pi)\n",
    "hst, end = getTraj(pi, dataC, rho)\n",
    "end"
   ]
  },
  {
   "cell_type": "code",
   "execution_count": null,
   "metadata": {},
   "outputs": [],
   "source": [
    "np.any(hst[0] == 8417)"
   ]
  },
  {
   "cell_type": "code",
   "execution_count": null,
   "metadata": {},
   "outputs": [],
   "source": [
    "hst[0, 0:end]"
   ]
  },
  {
   "cell_type": "code",
   "execution_count": null,
   "metadata": {},
   "outputs": [],
   "source": [
    "scemo = np.load(\"celaniData/fine5.npy\").reshape((2, 131,92))\n",
    "x, y = np.unravel_index(hst[0, :end], (131, 92))\n",
    "cols = np.linspace(0,1, len(x))\n",
    "points = np.array([x, y]).T.reshape(-1, 1, 2)\n",
    "segments = np.concatenate([points[:-1], points[1:]], axis=1)\n",
    "fig, ax = plt.subplots(figsize=(20,100))\n",
    "lc = LineCollection(segments, cmap=\"viridis\")\n",
    "lc.set_linewidth(2)\n",
    "lc.set_array(cols)\n",
    "line = ax.add_collection(lc)\n",
    "ax.set_xlim([0,131])\n",
    "ax.set_ylim([0,92])\n",
    "\n",
    "ax.matshow(scemo[1].T, cmap = \"binary\")\n",
    "ax.add_patch(plt.Circle((91,45.5), 1.1, color=\"r\"))\n",
    "xObs = x[np.where(hst[1, :end])]\n",
    "yObs = y[np.where(hst[1, :end])]\n",
    "ax.scatter(xObs, yObs, c=\"k\")\n",
    "# plt.xticks([])\n",
    "# plt.yticks([])"
   ]
  },
  {
   "cell_type": "code",
   "execution_count": null,
   "metadata": {},
   "outputs": [],
   "source": [
    "x, y = np.unravel_index(hst[0, :end], (131, 92))\n",
    "cols = np.linspace(0,1, len(x))\n",
    "points = np.array([x, y]).T.reshape(-1, 1, 2)\n",
    "segments = np.concatenate([points[:-1], points[1:]], axis=1)\n",
    "fig, ax = plt.subplots()\n",
    "lc = LineCollection(segments, cmap=\"viridis\")\n",
    "lc.set_linewidth(2)\n",
    "lc.set_array(cols)\n",
    "line = ax.add_collection(lc)\n",
    "ax.set_xlim([0,131])\n",
    "ax.set_ylim([0,92])"
   ]
  },
  {
   "cell_type": "code",
   "execution_count": null,
   "metadata": {},
   "outputs": [],
   "source": [
    "thOPt = np.load(\"results/modelBased/M1/celani/fine5/sparseCPUTest/theta_Conv8000.npy\")\n",
    "Vopt, eta = mb.sparse_T_CPU(softmax(thOPt, axis=2), dataC, rSource, cSource, find_range, R, rho, 1)\n",
    "Vopt"
   ]
  },
  {
   "cell_type": "code",
   "execution_count": null,
   "metadata": {},
   "outputs": [],
   "source": [
    "parents = glob.glob(\"results/TD_Lambda/M1/lambda_actor*/lambda_critic*/alphaActor_0.5_Scheduled_alphaCritic_*/*oPiccolo*/\")\n",
    "\n",
    "for parentDir in parents:\n",
    "    print(parentDir)"
   ]
  },
  {
   "cell_type": "code",
   "execution_count": null,
   "metadata": {},
   "outputs": [],
   "source": [
    "parents = glob.glob(\"results/TD_Lambda/M1/lambda_actor*/lambda_critic*/alphaActor_0.5_Scheduled_alphaCritic_*/*oPiccolo*/\")\n",
    "for parentDir in parents:\n",
    "    ls = glob.glob(parentDir+\"Actors/theta*\")\n",
    "    totIter = len(ls) -2\n",
    "    minTh = int(re.search(\"theta([0-9]+).npy\", min(ls)).group(1))\n",
    "    reg = re.compile(\"results/TD_Lambda/M1/lambda_actor(0\\\\.[0-9]*)/lambda_critic(0\\\\.[0-9]*)/alphaActor_([0-9]+\\\\.[0-9]*)(?:_Scheduled)?_alphaCritic_([0-9]+\\\\.[0-9]*)(?:_Scheduled)?/(.*)/\")\n",
    "    gr = reg.match(parentDir).groups()\n",
    "    print(f\"{gr}\")\n",
    "    print(f\"Actor Lambda {gr[0]}; Lr {gr[2]}\\nCritic Lambda {gr[1]}; Lr {gr[3]}; {gr[4]}\")\n",
    "    normDiff = np.zeros(totIter)\n",
    "    diffFromOpt = np.zeros(totIter)\n",
    "    obj = np.zeros(totIter)\n",
    "    thetas = np.zeros(totIter)\n",
    "    diffPrev = np.zeros(totIter)\n",
    "    for i in range(0, totIter):\n",
    "        th = np.load(parentDir + f\"Actors/theta{minTh + i*1000}.npy\")\n",
    "        thetas[i] = np.linalg.norm(th)\n",
    "        trueV, _ = mb.sparse_T_CPU(softmax(th, axis = 2), dataC, rSource, cSource, find_range, R, rho, 1)\n",
    "        lambdaV = np.load(parentDir + f\"Critics/critic{minTh + i*1000}.npy\")\n",
    "        obj[i] = np.dot(trueV, rho)\n",
    "        normDiff[i] = np.linalg.norm(trueV - lambdaV, 2)\n",
    "        diffFromOpt[i] = np.linalg.norm(lambdaV - Vopt, 2)\n",
    "        if i > 0:\n",
    "            diffPrev[i] = np.linalg.norm(lambdaV - prev)\n",
    "        prev = lambdaV\n",
    "    plot_and_save(totIter, thetas, obj, normDiff, diffFromOpt,diffPrev, gr[:4],gr[4] )    \n",
    "    "
   ]
  },
  {
   "cell_type": "code",
   "execution_count": null,
   "metadata": {},
   "outputs": [],
   "source": [
    "minTh"
   ]
  },
  {
   "cell_type": "code",
   "execution_count": null,
   "metadata": {},
   "outputs": [],
   "source": [
    "i = 15100\n",
    "0.1 / (i - 15000) if i > 15000 else 0.1"
   ]
  },
  {
   "cell_type": "code",
   "execution_count": null,
   "metadata": {},
   "outputs": [],
   "source": [
    "plot_and_save(totIter, thetas, obj, normDiff, diffFromOpt, diffPrev, gr[:4], \"scemo\")"
   ]
  },
  {
   "cell_type": "code",
   "execution_count": null,
   "metadata": {},
   "outputs": [],
   "source": [
    "delta = 0.001\n",
    "value = -0.49\n",
    "np.argmax(obj ) "
   ]
  },
  {
   "cell_type": "code",
   "execution_count": null,
   "metadata": {},
   "outputs": [],
   "source": [
    "obj[13], obj[0], obj[214], obj[54], obj[74], obj[226]"
   ]
  },
  {
   "cell_type": "code",
   "execution_count": null,
   "metadata": {},
   "outputs": [],
   "source": [
    "plt.plot(range(100), range(100), \"k--\")\n",
    "plt.vlines(50, 0, 100, \"r\", \"--\")"
   ]
  },
  {
   "cell_type": "code",
   "execution_count": null,
   "metadata": {},
   "outputs": [],
   "source": [
    "def f(x):\n",
    "    return 0.1 * 1000 / (1000 + x**(2/3))\n",
    "def g(x):\n",
    "    return 0.1 * 1000 / (1000 + x)\n",
    "plt.plot(range(0, 50000, 1000), [f(a) for a in range(0,  50000, 1000)], label =\"2/3\")\n",
    "plt.plot(range(0, 50000, 1000), [g(a) for a in range(0,  50000, 1000)], label =\"1\")\n",
    "plt.hlines(0, *plt.xlim(), \"k\")\n",
    "plt.legend()"
   ]
  },
  {
   "cell_type": "code",
   "execution_count": null,
   "metadata": {},
   "outputs": [],
   "source": [
    "f(3), g(3)"
   ]
  },
  {
   "cell_type": "code",
   "execution_count": null,
   "metadata": {},
   "outputs": [],
   "source": [
    "res = np.load(\"eval/results/objectiveOpt.npy\")\n",
    "res1 = np.load(\"eval/results/objective5.npy\")\n",
    "res2 = np.load(\"eval/results/objective6.npy\")\n",
    "res3 = np.load(\"eval/results/objective7.npy\")\n",
    "res4 = np.load(\"eval/results/objective9.npy\")\n",
    "np.histogram(res,[i for i in range(0, 10000-1, 200) ]+ [9999], (0,10000))"
   ]
  },
  {
   "cell_type": "code",
   "execution_count": null,
   "metadata": {},
   "outputs": [],
   "source": [
    "np.count_nonzero(res == 10000)"
   ]
  },
  {
   "cell_type": "code",
   "execution_count": null,
   "metadata": {},
   "outputs": [],
   "source": [
    "fig, ax = plt.subplots(figsize=(15,10))\n",
    "ax.hist(res,[i for i in range(0, 10000-1, 200) ]+ [9999], histtype=\"step\", color=\"red\", label=\"Optimal ~0.48\")\n",
    "ax.hist(res1,[i for i in range(0, 10000-1, 200) ]+ [9999], histtype=\"step\", color=\"blue\", label=\"~ 0.5\")\n",
    "ax.hist(res2,[i for i in range(0, 10000-1, 200) ]+ [9999], histtype=\"step\", color=\"orange\", label=\"~ 0.6\")\n",
    "ax.hist(res3,[i for i in range(0, 10000-1, 200) ]+ [9999], histtype=\"step\", color=\"purple\", label=\"~ 0.7\")\n",
    "ax.hist(res4,[i for i in range(0, 10000-1, 200) ]+ [9999], histtype=\"step\", color=\"black\", label=\"~ 0.9\")\n",
    "ax.add_patch(Rectangle((10800,0), 200, np.count_nonzero(res==10000), edgecolor=\"red\", facecolor= \"none\"))\n",
    "ax.add_patch(Rectangle((10600,0), 200, np.count_nonzero(res1==10000), edgecolor=\"blue\", facecolor= \"none\"))\n",
    "ax.add_patch(Rectangle((10200,0), 200, np.count_nonzero(res2==10000), edgecolor=\"orange\", facecolor= \"none\"))\n",
    "ax.add_patch(Rectangle((10400,0), 200, np.count_nonzero(res3==10000), edgecolor=\"purple\", facecolor= \"none\"))\n",
    "ax.add_patch(Rectangle((10000,0), 200, np.count_nonzero(res4==10000), edgecolor=\"black\", facecolor= \"none\"))\n",
    "# ax.set_ylim(0,5000)\n",
    "plt.legend()"
   ]
  },
  {
   "cell_type": "code",
   "execution_count": null,
   "metadata": {},
   "outputs": [],
   "source": [
    "avg = 0\n",
    "for t in res4:\n",
    "    tot = 0\n",
    "    for i in range(int(t)):\n",
    "        tot += -(1-0.99975) * 0.99975**i\n",
    "    avg += tot\n",
    "avg, avg / len(res4)"
   ]
  },
  {
   "cell_type": "code",
   "execution_count": null,
   "metadata": {},
   "outputs": [],
   "source": [
    "avg = 0\n",
    "for t in res4:\n",
    "    tot = 0\n",
    "    if t == 10000:\n",
    "        avg += -1\n",
    "        continue\n",
    "    for i in range(int(t)):\n",
    "        tot += -(1-0.99975) * 0.99975**i\n",
    "    avg += tot\n",
    "avg, avg / len(res4)"
   ]
  },
  {
   "cell_type": "code",
   "execution_count": null,
   "metadata": {},
   "outputs": [],
   "source": [
    "tot = 0\n",
    "for i in range(500000):\n",
    "    tot += -(1-0.99975) * 0.99975**i\n",
    "print(tot)"
   ]
  }
 ],
 "metadata": {
  "kernelspec": {
   "display_name": "base",
   "language": "python",
   "name": "python3"
  },
  "language_info": {
   "codemirror_mode": {
    "name": "ipython",
    "version": 3
   },
   "file_extension": ".py",
   "mimetype": "text/x-python",
   "name": "python",
   "nbconvert_exporter": "python",
   "pygments_lexer": "ipython3",
   "version": "3.12.2"
  }
 },
 "nbformat": 4,
 "nbformat_minor": 2
}
