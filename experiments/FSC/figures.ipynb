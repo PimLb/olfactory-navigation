{
 "cells": [
  {
   "cell_type": "code",
   "execution_count": 1,
   "metadata": {},
   "outputs": [],
   "source": [
    "import numpy as np\n",
    "import cupy as cp\n",
    "from scipy.special import  softmax\n",
    "from cupyx.scipy.special import softmax as softmaxGPU\n",
    "import matplotlib.pyplot as plt\n",
    "import os\n",
    "from matplotlib.collections import LineCollection\n",
    "from matplotlib.patches import Rectangle\n",
    "import re\n",
    "import glob\n",
    "from importlib import reload\n",
    "import modelBasedTrain as mb\n",
    "import scipy.sparse as sparse\n",
    "import time"
   ]
  },
  {
   "cell_type": "code",
   "execution_count": 2,
   "metadata": {},
   "outputs": [],
   "source": [
    "SC = 92 * 131 # Number of States\n",
    "M = 2\n",
    "cSource = 45.5 # Source coordinates\n",
    "rSource = 91\n",
    "cols = 92\n",
    "rows = 131\n",
    "find_range = 1.1 # Source radius\n",
    "gamma = 0.99975\n",
    "reward = -(1 -gamma)\n",
    "ActionDict = np.asarray([\n",
    "            [-1,  0], # North\n",
    "            [ 0,  1], # East\n",
    "            [ 1,  0], # South\n",
    "            [ 0, -1]  # West\n",
    "        ])\n",
    "dataC = np.load(\"celaniData/fine5.npy\")\n",
    "rho = np.zeros(SC * M)\n",
    "rho[:cols] = (1-dataC[0,:cols])/np.sum((1-dataC[0,:cols]))\n",
    "R = np.ones(SC*M) * -(1 - gamma)\n",
    "for s in range(SC):\n",
    "    r, c = s // 92, s % 92 \n",
    "    if (r - rSource) ** 2 + (c -cSource) **2 < find_range**2:\n",
    "        R[s::SC] = 0"
   ]
  },
  {
   "cell_type": "code",
   "execution_count": 3,
   "metadata": {},
   "outputs": [],
   "source": [
    "def isEnd(sm):\n",
    "    s = sm % SC\n",
    "    r, c = s // cols, s % cols\n",
    "    return (r +1 - rSource) ** 2 + (c +1 -cSource) **2 < find_range**2\n",
    "\n",
    "\n",
    "def get_observation(sm, pObs):\n",
    "    s = sm % SC\n",
    "    return np.random.choice(2, p=pObs[:, s])\n",
    "\n",
    "def choose_action(pi, o, M, curMem):\n",
    "    return np.random.choice(4 * M, p = pi[o, curMem])\n",
    "\n",
    "def takeAction(sm, am):\n",
    "    s = sm % SC\n",
    "    a = am % 4\n",
    "    newM = am // 4\n",
    "    r, c = s // cols, s % cols # forse usare unravel_index\n",
    "    action = ActionDict[a]\n",
    "    rNew = r + action[0]\n",
    "    cNew = c + action[1]\n",
    "    r = rNew if rNew >= 0 and rNew < 131 else r\n",
    "    c = cNew if cNew >= 0 and cNew < 92 else c\n",
    "    return r * 92 + c + newM * SC, newM\n",
    "\n",
    "def getTraj(pi, pObs, rho):\n",
    "    start = np.random.choice(range(131*92), size=1, p = rho[:SC]).astype(int)[0]\n",
    "    obs = get_observation(start, pObs)\n",
    "    curState = start\n",
    "    curM = 0\n",
    "    history = np.zeros((3, 10001)).astype(int)\n",
    "    history[0, 0] = start\n",
    "    history[1, 0] = obs\n",
    "    t = 0\n",
    "    while not isEnd(curState) and t < 10000:\n",
    "        if curState == 8417 or curState == 8418 or curState == 20469 or curState == 20470:\n",
    "            print(\"AAAAAA\")\n",
    "        action = choose_action(pi, obs, M, curM)\n",
    "        history[2, t] = action\n",
    "        newState, curM = takeAction(curState, action)\n",
    "        obs = get_observation(newState, pObs)\n",
    "        t += 1\n",
    "        history[0, t] = newState\n",
    "        history[1, t] = obs\n",
    "        curState = newState\n",
    "    return history, t\n",
    "\n",
    "def plot_and_save(totIter, thetas, obj, normDiff, diffFromOpt, diffPrev, paramas, name, close = False):\n",
    "    color = \"orange\"\n",
    "    style = \"--\"\n",
    "    plt.figure(figsize=(15, 10))\n",
    "    plt.suptitle(f\"{name}\\n Actor Lambda {paramas[1]}; Lr {paramas[3]}\\nCritic Lambda {paramas[2]}; Lr {paramas[4]}; M {paramas[0]}\")\n",
    "    plt.subplot(2,2, 1)\n",
    "    plt.plot(range(totIter), thetas, label = \"Theta Norm\")\n",
    "    plt.legend()\n",
    "    plt.subplot(2,2,2)\n",
    "    plt.hlines(-0.48477305214190447, 0,totIter, \"r\", label = \"Optimal M1\")\n",
    "    plt.hlines(-0.19, 0,totIter, \"r\", label = \"~Optimal M2\")\n",
    "    plt.plot(range(totIter), obj, label = \"Objective\")\n",
    "    plt.yticks([0, -0.1, -0.2, -0.3, -0.4,-0.48477305214190447, -0.5, -0.6, -0.7, -0.8, -0.9, -1])\n",
    "    plt.grid()\n",
    "    # plt.ylim(-1, -0.475)\n",
    "    plt.legend()\n",
    "    plt.subplot(2,2,3)\n",
    "    plt.plot(range(totIter), normDiff, label = \"Diff from True\")\n",
    "    plt.plot(range(totIter), diffFromOpt, label = \"Diff from Optimal\")\n",
    "    plt.hlines(0, 0,totIter, \"k\", label= \"0\")\n",
    "    plt.legend()\n",
    "    plt.subplot(2,2,4)\n",
    "    plt.plot(range(1, totIter), diffPrev[1:], label = \"Diff from Prev\")\n",
    "    plt.hlines(0, 0,totIter, \"k\", label= \"0\")\n",
    "    plt.legend()\n",
    "    plt.savefig(f\"objOut/png/{name}_{paramas}.png\")\n",
    "    if not close:\n",
    "        plt.close()"
   ]
  },
  {
   "cell_type": "code",
   "execution_count": 68,
   "metadata": {},
   "outputs": [
    {
     "data": {
      "text/plain": [
       "<module 'modelBasedTrain' from '/home/marchi/olfactory-navigation/experiments/FSC/modelBasedTrain.py'>"
      ]
     },
     "execution_count": 68,
     "metadata": {},
     "output_type": "execute_result"
    }
   ],
   "source": [
    "reload(mb)"
   ]
  },
  {
   "cell_type": "code",
   "execution_count": 69,
   "metadata": {},
   "outputs": [
    {
     "name": "stdout",
     "output_type": "stream",
     "text": [
      "get 0.10187109932303429\n",
      "AV 0.000807393342256546\n",
      "Aeta 0.0013891048729419708\n",
      "V 0.36372674629092216\n",
      "eta 0.36766230314970016\n",
      "0.8363250643014908 Time\n"
     ]
    },
    {
     "data": {
      "text/plain": [
       "-0.1977790976161042"
      ]
     },
     "execution_count": 69,
     "metadata": {},
     "output_type": "execute_result"
    }
   ],
   "source": [
    "if M == 1:\n",
    "    thOPt = np.load(\"results/modelBased/M1/celani/fine5/sparseCPUTest/theta_Conv8000.npy\")\n",
    "else:\n",
    "    thOPt = np.load(\"celaniData/thetaLoroM2.npy\")\n",
    "s = time.perf_counter()\n",
    "Vopt, eta = mb.sparse_T_CPU(softmax(thOPt, axis=2), dataC, rSource, cSource, find_range, R, rho, M)\n",
    "e = time.perf_counter()\n",
    "print(e-s, \"Time\")\n",
    "Vopt @ rho"
   ]
  },
  {
   "cell_type": "code",
   "execution_count": 83,
   "metadata": {},
   "outputs": [
    {
     "name": "stdout",
     "output_type": "stream",
     "text": [
      "AA\n",
      "31.590935450047255\n"
     ]
    }
   ],
   "source": [
    "piGPU = cp.asarray(softmax(thOPt, axis = 2))\n",
    "pObsGPU = cp.asarray(dataC)\n",
    "RGPU = cp.asarray(R)\n",
    "rhoGPU = cp.asarray(rho)\n",
    "print(\"AA\")\n",
    "s = time.perf_counter()\n",
    "VG, etaG = mb.sparse_T_GPU(piGPU, pObsGPU, rSource, cSource, find_range, RGPU, rhoGPU, M)\n",
    "e = time.perf_counter()\n",
    "print(e-s)"
   ]
  },
  {
   "cell_type": "code",
   "execution_count": 84,
   "metadata": {},
   "outputs": [
    {
     "data": {
      "text/plain": [
       "array(-0.1977791)"
      ]
     },
     "execution_count": 27,
     "metadata": {},
     "output_type": "execute_result"
    }
   ],
   "source": [
    "cp.dot(VG, rhoGPU)"
   ]
  },
  {
   "cell_type": "code",
   "execution_count": 8,
   "metadata": {},
   "outputs": [
    {
     "data": {
      "text/plain": [
       "array([[[1.05101880e-36, 3.78053758e-01, 4.39318690e-64, 4.31070763e-01,\n",
       "         1.80616625e-36, 1.42540545e-01, 7.18403496e-67, 4.83349344e-02],\n",
       "        [8.10535426e-74, 9.80407867e-02, 1.41692277e-02, 1.12083001e-01,\n",
       "         1.86924058e-72, 4.14780478e-01, 8.22069104e-04, 3.60104438e-01]],\n",
       "\n",
       "       [[1.02633074e-59, 5.18927982e-40, 1.03026927e-01, 1.11919726e-36,\n",
       "         9.88678534e-59, 3.74017103e-39, 8.96973073e-01, 1.18231882e-35],\n",
       "        [8.62360631e-77, 3.24198416e-53, 6.75051298e-02, 2.71640456e-49,\n",
       "         9.83449165e-76, 4.57711534e-52, 9.32494870e-01, 4.13554365e-48]]])"
      ]
     },
     "execution_count": 8,
     "metadata": {},
     "output_type": "execute_result"
    }
   ],
   "source": [
    "th  = np.load(\"results/modelBased/M2/celani/fine5/alpha0.15_Rescale_Subtract/mb_2_2/theta_35000.npy\")\n",
    "softmax(th, axis = 2)"
   ]
  },
  {
   "cell_type": "code",
   "execution_count": 7,
   "metadata": {},
   "outputs": [
    {
     "data": {
      "text/plain": [
       "-0.8043757482946803"
      ]
     },
     "execution_count": 7,
     "metadata": {},
     "output_type": "execute_result"
    }
   ],
   "source": [
    "V = np.load(\"results/modelBased/M2/celani/fine5/alpha0.15_Rescale_Subtract/mb_2_2/V_35000.npy\")\n",
    "V @ rho"
   ]
  },
  {
   "cell_type": "code",
   "execution_count": 9,
   "metadata": {},
   "outputs": [
    {
     "name": "stdout",
     "output_type": "stream",
     "text": [
      "TOT 106.3604904524982\n",
      "True\n",
      "-0.8043757482946803 -0.8043757482997032 -0.8043757482946803 -0.8043757482997032 -0.80437574829972\n"
     ]
    }
   ],
   "source": [
    "V2, eta = mb.sparse_T_CPU(softmax(th, axis = 2), dataC, rSource, cSource, 1.1, R, rho, 2)\n",
    "print(np.allclose(V, V2))\n",
    "print(V @ rho, V2 @ rho, np.dot(V, rho), np.dot(V2, rho), eta @ R)"
   ]
  },
  {
   "cell_type": "code",
   "execution_count": null,
   "metadata": {},
   "outputs": [
    {
     "name": "stdout",
     "output_type": "stream",
     "text": [
      "AAAAAA\n",
      "AAAAAA\n",
      "AAAAAA\n",
      "2419\n"
     ]
    },
    {
     "data": {
      "text/plain": [
       "<matplotlib.collections.PathCollection at 0x7f0c4363a5d0>"
      ]
     },
     "execution_count": 16,
     "metadata": {},
     "output_type": "execute_result"
    },
    {
     "data": {
      "image/png": "[encoded data removed]",
      "text/plain": [
       "<Figure size 2000x1000 with 1 Axes>"
      ]
     },
     "metadata": {},
     "output_type": "display_data"
    }
   ],
   "source": [
    "hst, t = getTraj(softmax(th, axis = 2), dataC, rho)\n",
    "print(t)\n",
    "x, y = np.unravel_index(hst[0, :t] % SC, (131, 92))\n",
    "pippo = np.linspace(0,1, len(x))\n",
    "points = np.array([x, y]).T.reshape(-1, 1, 2)\n",
    "segments = np.concatenate([points[:-1], points[1:]], axis=1)\n",
    "fig, ax = plt.subplots(figsize=(20,10))\n",
    "lc = LineCollection(segments, cmap=\"viridis\")\n",
    "lc.set_linewidth(2)\n",
    "lc.set_array(pippo)\n",
    "line = ax.add_collection(lc)\n",
    "ax.set_xlim([0,131])\n",
    "ax.set_ylim([0,92])\n",
    "\n",
    "ax.matshow(dataC.reshape((2,131,92))[1].T, cmap = \"binary\")\n",
    "ax.add_patch(plt.Circle((91,45.5), 1.1, color=\"r\"))\n",
    "ax.add_patch(plt.Circle((x[0], y[0]), 0.9, color=\"b\"))\n",
    "ax.add_patch(plt.Circle((x[-1], y[-1]), 0.7, color=\"g\"))\n",
    "xObs = x[np.where(hst[1, :t])]\n",
    "yObs = y[np.where(hst[1, :t])]\n",
    "ax.scatter(xObs, yObs, c=\"k\")"
   ]
  },
  {
   "cell_type": "code",
   "execution_count": 24,
   "metadata": {},
   "outputs": [
    {
     "name": "stdout",
     "output_type": "stream",
     "text": [
      "results/TD_Lambda/M2/lambda_actor0.9/lambda_critic0.9/alphaActor_0.03_Scheduled_alphaCritic_0.1_Scheduled/replicable_0_episodes_350000/\n",
      "('0.9', '0.9', '0.03', '0.1', 'replicable_0_episodes_350000')\n",
      "results/TD_Lambda/M2/lambda_actor0.9/lambda_critic0.9/alphaActor_0.03_Scheduled_alphaCritic_0.1_Scheduled/replicable_1_episodes_350000/\n",
      "('0.9', '0.9', '0.03', '0.1', 'replicable_1_episodes_350000')\n",
      "results/TD_Lambda/M2/lambda_actor0.9/lambda_critic0.9/alphaActor_0.03_Scheduled_alphaCritic_0.1_Scheduled/replicable_2_episodes_350000/\n",
      "('0.9', '0.9', '0.03', '0.1', 'replicable_2_episodes_350000')\n",
      "results/TD_Lambda/M2/lambda_actor0.9/lambda_critic0.9/alphaActor_0.03_Scheduled_alphaCritic_0.1_Scheduled/replicable_3_episodes_350000/\n",
      "('0.9', '0.9', '0.03', '0.1', 'replicable_3_episodes_350000')\n",
      "results/TD_Lambda/M2/lambda_actor0.9/lambda_critic0.9/alphaActor_0.03_Scheduled_alphaCritic_0.1_Scheduled/replicable_4_episodes_350000/\n",
      "('0.9', '0.9', '0.03', '0.1', 'replicable_4_episodes_350000')\n",
      "results/TD_Lambda/M2/lambda_actor0.9/lambda_critic0.9/alphaActor_0.03_Scheduled_alphaCritic_0.1_Scheduled/replicable_5_episodes_350000/\n",
      "('0.9', '0.9', '0.03', '0.1', 'replicable_5_episodes_350000')\n",
      "results/TD_Lambda/M2/lambda_actor0.9/lambda_critic0.9/alphaActor_0.03_Scheduled_alphaCritic_0.1_Scheduled/replicable_6_episodes_350000/\n",
      "('0.9', '0.9', '0.03', '0.1', 'replicable_6_episodes_350000')\n",
      "results/TD_Lambda/M2/lambda_actor0.9/lambda_critic0.9/alphaActor_0.03_Scheduled_alphaCritic_0.1_Scheduled/replicable_7_episodes_350000/\n",
      "('0.9', '0.9', '0.03', '0.1', 'replicable_7_episodes_350000')\n",
      "results/TD_Lambda/M2/lambda_actor0.9/lambda_critic0.9/alphaActor_0.03_Scheduled_alphaCritic_0.1_Scheduled/replicable_8_episodes_350000/\n",
      "('0.9', '0.9', '0.03', '0.1', 'replicable_8_episodes_350000')\n",
      "results/TD_Lambda/M2/lambda_actor0.9/lambda_critic0.9/alphaActor_0.03_Scheduled_alphaCritic_0.1_Scheduled/replicable_9_episodes_350000/\n",
      "('0.9', '0.9', '0.03', '0.1', 'replicable_9_episodes_350000')\n"
     ]
    },
    {
     "data": {
      "text/plain": [
       "10"
      ]
     },
     "execution_count": 24,
     "metadata": {},
     "output_type": "execute_result"
    }
   ],
   "source": [
    "globDir = f\"results/TD_Lambda/M2/lambda_actor*/lambda_critic*/alphaActor_*_Scheduled_alphaCritic_*_Scheduled/replicable_?_episodes_350000/\"\n",
    "parents = sorted(glob.glob(globDir))\n",
    "\n",
    "for parentDir in parents:\n",
    "    print(parentDir)\n",
    "    reg = re.compile(f\"results/TD_Lambda/M{M}/lambda_actor([01]\\\\.[0-9]*)/lambda_critic([01]\\\\.[0-9]*)/alphaActor_([0-9]+\\\\.[0-9]*)(?:_Scheduled)?_alphaCritic_([0-9]+\\\\.[0-9]*)(?:_Scheduled)?/(.*)/\")\n",
    "    print(reg.match(parentDir).groups())\n",
    "len(parents)"
   ]
  },
  {
   "cell_type": "code",
   "execution_count": null,
   "metadata": {},
   "outputs": [
    {
     "name": "stdout",
     "output_type": "stream",
     "text": [
      "2\n",
      "('2', '0.9', '0.9', '0.03', '0.1', 'replicable_0_episodes_350000')\n",
      "Actor Lambda 0.9; M 2; Lr 0.03\n",
      "Critic Lambda 0.9; Lr 0.1; replicable_0_episodes_350000\n",
      "350\n"
     ]
    },
    {
     "ename": "KeyboardInterrupt",
     "evalue": "",
     "output_type": "error",
     "traceback": [
      "\u001b[0;31m---------------------------------------------------------------------------\u001b[0m",
      "\u001b[0;31mKeyboardInterrupt\u001b[0m                         Traceback (most recent call last)",
      "Cell \u001b[0;32mIn[23], line 23\u001b[0m\n\u001b[1;32m     19\u001b[0m thetas[i] \u001b[38;5;241m=\u001b[39m np\u001b[38;5;241m.\u001b[39mlinalg\u001b[38;5;241m.\u001b[39mnorm(th)\n\u001b[1;32m     20\u001b[0m \u001b[38;5;66;03m# T = mb.prova(softmax(th, axis = 2), dataC, rSource, cSource, find_range, M)\u001b[39;00m\n\u001b[1;32m     21\u001b[0m \u001b[38;5;66;03m# AV = sparse.eye(SC * M, format=\"csr\") - gamma * T\u001b[39;00m\n\u001b[1;32m     22\u001b[0m \u001b[38;5;66;03m# trueV = sparse.linalg.spsolve(AV, R)\u001b[39;00m\n\u001b[0;32m---> 23\u001b[0m trueV, _ \u001b[38;5;241m=\u001b[39m \u001b[43mmb\u001b[49m\u001b[38;5;241;43m.\u001b[39;49m\u001b[43msparse_T_CPU\u001b[49m\u001b[43m(\u001b[49m\u001b[43msoftmax\u001b[49m\u001b[43m(\u001b[49m\u001b[43mth\u001b[49m\u001b[43m,\u001b[49m\u001b[43m \u001b[49m\u001b[43maxis\u001b[49m\u001b[43m \u001b[49m\u001b[38;5;241;43m=\u001b[39;49m\u001b[43m \u001b[49m\u001b[38;5;241;43m2\u001b[39;49m\u001b[43m)\u001b[49m\u001b[43m,\u001b[49m\u001b[43m \u001b[49m\u001b[43mdataC\u001b[49m\u001b[43m,\u001b[49m\u001b[43m \u001b[49m\u001b[43mrSource\u001b[49m\u001b[43m,\u001b[49m\u001b[43m \u001b[49m\u001b[43mcSource\u001b[49m\u001b[43m,\u001b[49m\u001b[43m \u001b[49m\u001b[43mfind_range\u001b[49m\u001b[43m,\u001b[49m\u001b[43m \u001b[49m\u001b[43mR\u001b[49m\u001b[43m,\u001b[49m\u001b[43m \u001b[49m\u001b[43mrho\u001b[49m\u001b[43m,\u001b[49m\u001b[43m \u001b[49m\u001b[43mM\u001b[49m\u001b[43m)\u001b[49m\n\u001b[1;32m     24\u001b[0m lambdaV \u001b[38;5;241m=\u001b[39m np\u001b[38;5;241m.\u001b[39mload(parentDir \u001b[38;5;241m+\u001b[39m \u001b[38;5;124mf\u001b[39m\u001b[38;5;124m\"\u001b[39m\u001b[38;5;124mCritics/critic\u001b[39m\u001b[38;5;132;01m{\u001b[39;00mminTh\u001b[38;5;250m \u001b[39m\u001b[38;5;241m+\u001b[39m\u001b[38;5;250m \u001b[39mi\u001b[38;5;241m*\u001b[39m\u001b[38;5;241m1000\u001b[39m\u001b[38;5;132;01m}\u001b[39;00m\u001b[38;5;124m.npy\u001b[39m\u001b[38;5;124m\"\u001b[39m)\n\u001b[1;32m     25\u001b[0m obj[i] \u001b[38;5;241m=\u001b[39m np\u001b[38;5;241m.\u001b[39mdot(trueV, rho)\n",
      "File \u001b[0;32m~/olfactory-navigation/experiments/FSC/modelBasedTrain.py:56\u001b[0m, in \u001b[0;36msparse_T_CPU\u001b[0;34m(pi, dataC, rSource, cSource, find_range, R, rho, M)\u001b[0m\n\u001b[1;32m     54\u001b[0m Aeta \u001b[38;5;241m=\u001b[39m sparse\u001b[38;5;241m.\u001b[39meye(SC \u001b[38;5;241m*\u001b[39m M, \u001b[38;5;28mformat\u001b[39m\u001b[38;5;241m=\u001b[39m\u001b[38;5;124m\"\u001b[39m\u001b[38;5;124mcsr\u001b[39m\u001b[38;5;124m\"\u001b[39m) \u001b[38;5;241m-\u001b[39m gamma \u001b[38;5;241m*\u001b[39m T\u001b[38;5;241m.\u001b[39mT\n\u001b[1;32m     55\u001b[0m V \u001b[38;5;241m=\u001b[39m sparse\u001b[38;5;241m.\u001b[39mlinalg\u001b[38;5;241m.\u001b[39mspsolve(AV, R)\n\u001b[0;32m---> 56\u001b[0m eta \u001b[38;5;241m=\u001b[39m \u001b[43msparse\u001b[49m\u001b[38;5;241;43m.\u001b[39;49m\u001b[43mlinalg\u001b[49m\u001b[38;5;241;43m.\u001b[39;49m\u001b[43mspsolve\u001b[49m\u001b[43m(\u001b[49m\u001b[43mAeta\u001b[49m\u001b[43m,\u001b[49m\u001b[43m \u001b[49m\u001b[43mrho\u001b[49m\u001b[43m)\u001b[49m\n\u001b[1;32m     57\u001b[0m \u001b[38;5;28;01mreturn\u001b[39;00m V, eta\n",
      "File \u001b[0;32m~/miniconda3/lib/python3.12/site-packages/scipy/sparse/linalg/_dsolve/linsolve.py:293\u001b[0m, in \u001b[0;36mspsolve\u001b[0;34m(A, b, permc_spec, use_umfpack)\u001b[0m\n\u001b[1;32m    291\u001b[0m indptr \u001b[38;5;241m=\u001b[39m A\u001b[38;5;241m.\u001b[39mindptr\u001b[38;5;241m.\u001b[39mastype(np\u001b[38;5;241m.\u001b[39mintc, copy\u001b[38;5;241m=\u001b[39m\u001b[38;5;28;01mFalse\u001b[39;00m)\n\u001b[1;32m    292\u001b[0m options \u001b[38;5;241m=\u001b[39m \u001b[38;5;28mdict\u001b[39m(ColPerm\u001b[38;5;241m=\u001b[39mpermc_spec)\n\u001b[0;32m--> 293\u001b[0m x, info \u001b[38;5;241m=\u001b[39m \u001b[43m_superlu\u001b[49m\u001b[38;5;241;43m.\u001b[39;49m\u001b[43mgssv\u001b[49m\u001b[43m(\u001b[49m\u001b[43mN\u001b[49m\u001b[43m,\u001b[49m\u001b[43m \u001b[49m\u001b[43mA\u001b[49m\u001b[38;5;241;43m.\u001b[39;49m\u001b[43mnnz\u001b[49m\u001b[43m,\u001b[49m\u001b[43m \u001b[49m\u001b[43mA\u001b[49m\u001b[38;5;241;43m.\u001b[39;49m\u001b[43mdata\u001b[49m\u001b[43m,\u001b[49m\u001b[43m \u001b[49m\u001b[43mindices\u001b[49m\u001b[43m,\u001b[49m\u001b[43m \u001b[49m\u001b[43mindptr\u001b[49m\u001b[43m,\u001b[49m\n\u001b[1;32m    294\u001b[0m \u001b[43m                        \u001b[49m\u001b[43mb\u001b[49m\u001b[43m,\u001b[49m\u001b[43m \u001b[49m\u001b[43mflag\u001b[49m\u001b[43m,\u001b[49m\u001b[43m \u001b[49m\u001b[43moptions\u001b[49m\u001b[38;5;241;43m=\u001b[39;49m\u001b[43moptions\u001b[49m\u001b[43m)\u001b[49m\n\u001b[1;32m    295\u001b[0m \u001b[38;5;28;01mif\u001b[39;00m info \u001b[38;5;241m!=\u001b[39m \u001b[38;5;241m0\u001b[39m:\n\u001b[1;32m    296\u001b[0m     warn(\u001b[38;5;124m\"\u001b[39m\u001b[38;5;124mMatrix is exactly singular\u001b[39m\u001b[38;5;124m\"\u001b[39m, MatrixRankWarning, stacklevel\u001b[38;5;241m=\u001b[39m\u001b[38;5;241m2\u001b[39m)\n",
      "\u001b[0;31mKeyboardInterrupt\u001b[0m: "
     ]
    }
   ],
   "source": [
    "parents = glob.glob(globDir)\n",
    "for parentDir in parents:\n",
    "    ls = glob.glob(parentDir+\"Actors/theta*\")\n",
    "    totIter = len(ls) - (2 if parentDir + \"Actors/thetaActorCriticFInale.npy\" in ls else 1)\n",
    "    minTh = int(re.search(\"theta([0-9]+).npy\", min(ls)).group(1))\n",
    "    reg = re.compile(\"results/TD_Lambda/M([0-9])/lambda_actor([01]\\\\.[0-9]*)/lambda_critic([01]\\\\.[0-9]*)/alphaActor_([0-9]+\\\\.[0-9]*)(?:_Scheduled)?_alphaCritic_([0-9]+\\\\.[0-9]*)(?:_Scheduled)?/(.*)/\")\n",
    "    gr = reg.match(parentDir).groups()\n",
    "    print(f\"{gr}\")\n",
    "    print(f\"Actor Lambda {gr[1]}; M {gr[0]}; Lr {gr[3]}\\nCritic Lambda {gr[2]}; Lr {gr[4]}; {gr[5]}\")\n",
    "    normDiff = np.zeros(totIter)\n",
    "    diffFromOpt = np.zeros(totIter)\n",
    "    obj = np.zeros(totIter)\n",
    "    thetas = np.zeros(totIter)\n",
    "    diffPrev = np.zeros(totIter)\n",
    "    print(totIter)\n",
    "    for i in range(0, totIter):\n",
    "        th = np.load(parentDir + f\"Actors/theta{minTh + i*1000}.npy\")\n",
    "        thetas[i] = np.linalg.norm(th)\n",
    "        # T = mb.prova(softmax(th, axis = 2), dataC, rSource, cSource, find_range, M)\n",
    "        # AV = sparse.eye(SC * M, format=\"csr\") - gamma * T\n",
    "        # trueV = sparse.linalg.spsolve(AV, R)\n",
    "        trueV, _ = mb.sparse_T_CPU(softmax(th, axis = 2), dataC, rSource, cSource, find_range, R, rho, M)\n",
    "        lambdaV = np.load(parentDir + f\"Critics/critic{minTh + i*1000}.npy\")\n",
    "        obj[i] = np.dot(trueV, rho)\n",
    "        normDiff[i] = np.linalg.norm(trueV - lambdaV, 2)\n",
    "        diffFromOpt[i] = np.linalg.norm(lambdaV - Vopt, 2)\n",
    "        if i > 0:\n",
    "            diffPrev[i] = np.linalg.norm(lambdaV - prev)\n",
    "        prev = lambdaV\n",
    "    plot_and_save(totIter, thetas, obj, normDiff, diffFromOpt,diffPrev, gr[:5],gr[5] )    \n",
    "    "
   ]
  },
  {
   "cell_type": "code",
   "execution_count": null,
   "metadata": {},
   "outputs": [],
   "source": [
    "np.where(rho != 0)"
   ]
  },
  {
   "cell_type": "code",
   "execution_count": null,
   "metadata": {},
   "outputs": [],
   "source": [
    "trueV[np.where(rho != 0)]"
   ]
  },
  {
   "cell_type": "code",
   "execution_count": null,
   "metadata": {},
   "outputs": [],
   "source": [
    "rho[rho != 0] * trueV[rho != 0]"
   ]
  },
  {
   "cell_type": "code",
   "execution_count": null,
   "metadata": {},
   "outputs": [],
   "source": [
    "np.sum(rho[rho != 0] * trueV[rho != 0])"
   ]
  },
  {
   "cell_type": "code",
   "execution_count": null,
   "metadata": {},
   "outputs": [],
   "source": [
    "np.where(R != R[0])"
   ]
  },
  {
   "cell_type": "code",
   "execution_count": null,
   "metadata": {},
   "outputs": [],
   "source": [
    "softmax(thNew, axis = 2)"
   ]
  },
  {
   "cell_type": "code",
   "execution_count": 7,
   "metadata": {},
   "outputs": [
    {
     "name": "stdout",
     "output_type": "stream",
     "text": [
      "-0.1977790976161034 -0.1977790976161042 8.049116928532385e-16\n"
     ]
    }
   ],
   "source": [
    "trueV, trueEta = mb.sparse_T_CPU(softmax(thNew, axis = 2), dataC, rSource, cSource, find_range, R, rho, 2)\n",
    "a, b = np.dot(R, trueEta), np.dot(trueV, rho)\n",
    "print(a, b, np.abs(a - b))"
   ]
  },
  {
   "cell_type": "code",
   "execution_count": null,
   "metadata": {},
   "outputs": [],
   "source": [
    "trueV, trueEta = mb.sparse_T_CPU(softmax(thOPt, axis = 2), dataC, rSource, cSource, find_range, R, rho, 2)\n",
    "a, b = np.dot(R, trueEta), np.dot(trueV, rho)\n",
    "print(a, b, np.abs(a - b))"
   ]
  },
  {
   "cell_type": "code",
   "execution_count": null,
   "metadata": {},
   "outputs": [],
   "source": [
    "np.dot(trueV[:SC],rho[:SC]), np.dot(trueV[:SC],rho[SC:]), np.dot(trueV[SC:],rho[:SC]), np.dot(trueV[SC:],rho[SC:])"
   ]
  },
  {
   "cell_type": "code",
   "execution_count": null,
   "metadata": {},
   "outputs": [],
   "source": [
    "pi = softmax(th, axis = 2)\n",
    "pi[0, 0], pi[0, 1], pi[1, 0], pi[1, 1]"
   ]
  },
  {
   "cell_type": "code",
   "execution_count": null,
   "metadata": {},
   "outputs": [],
   "source": [
    "a, b = np.dot(R, eta), np.dot(Vopt, rho)\n",
    "print(a, b, np.abs(a - b))"
   ]
  },
  {
   "cell_type": "code",
   "execution_count": null,
   "metadata": {},
   "outputs": [],
   "source": [
    "thOPt_1 = np.load(\"results/modelBased/M1/celani/fine5/sparseCPUTest/theta_Conv8000.npy\")\n",
    "pi_opt_1 = softmax(thOPt_1, axis = 2)\n",
    "pi_opt_1"
   ]
  },
  {
   "cell_type": "code",
   "execution_count": null,
   "metadata": {},
   "outputs": [],
   "source": [
    "pi_2 = np.zeros((2,2,8))\n",
    "pi_2[0,:,:4] = pi_opt_1[0]\n",
    "pi_2[1,:,:4] = pi_opt_1[1]\n",
    "pi_2"
   ]
  },
  {
   "cell_type": "code",
   "execution_count": null,
   "metadata": {},
   "outputs": [],
   "source": [
    "T_2_opt = mb.get_Transition_Matrix_sparse_CPU(softmax(thOPt,axis = 2), dataC, rSource, cSource, find_range, 2).toarray()\n",
    "T_2_new = mb.get_Transition_Matrix_sparse_CPU(softmax(thNew, axis = 2), dataC, rSource, cSource, find_range, 2).toarray()"
   ]
  },
  {
   "cell_type": "code",
   "execution_count": null,
   "metadata": {},
   "outputs": [],
   "source": [
    "np.count_nonzero(~np.isclose(T_2_opt, T_2_new))"
   ]
  },
  {
   "cell_type": "code",
   "execution_count": null,
   "metadata": {},
   "outputs": [],
   "source": [
    "SC*2"
   ]
  },
  {
   "cell_type": "code",
   "execution_count": null,
   "metadata": {},
   "outputs": [],
   "source": [
    "np.where(~(np.abs(T_2_new[:SC] - T_2_opt[:SC] < 1e-2)))"
   ]
  },
  {
   "cell_type": "code",
   "execution_count": null,
   "metadata": {},
   "outputs": [],
   "source": [
    "T_2_new[0, 12144], T_2_opt[0,12144]"
   ]
  },
  {
   "cell_type": "code",
   "execution_count": null,
   "metadata": {},
   "outputs": [],
   "source": [
    "i,j = SC + 19, 20\n",
    "T_2[i, j], T_1_opt[i % SC, j], T_2[i, j] - T_1_opt[i % SC, j]"
   ]
  },
  {
   "cell_type": "code",
   "execution_count": null,
   "metadata": {},
   "outputs": [],
   "source": [
    "pippo = np.random.randint(10, size=(4,4))\n",
    "pippo, pippo[:2, :2], pippo[:2, 2:], pippo[2:, :2], pippo[2:, 2:]"
   ]
  },
  {
   "cell_type": "code",
   "execution_count": null,
   "metadata": {},
   "outputs": [],
   "source": [
    "np.where(~np.isclose(T_2[SC:, SC:], np.zeros((SC, SC))))"
   ]
  },
  {
   "cell_type": "code",
   "execution_count": null,
   "metadata": {},
   "outputs": [],
   "source": [
    "np.unravel_index(np.argmax(np.abs(T_2[:SC, :SC] - T_2[SC:, :SC])), (SC, SC))"
   ]
  },
  {
   "cell_type": "code",
   "execution_count": null,
   "metadata": {},
   "outputs": [],
   "source": [
    "T_2[18, 19], T_1_opt[18, 19], T_2[18, 19] - T_1_opt[18, 19]"
   ]
  },
  {
   "cell_type": "code",
   "execution_count": null,
   "metadata": {},
   "outputs": [],
   "source": [
    "pi_2[:, 1, :4] - pi_opt_1.reshape((2,4))"
   ]
  },
  {
   "cell_type": "code",
   "execution_count": null,
   "metadata": {},
   "outputs": [],
   "source": [
    "np.where(~np.isclose(T_2[SC:, SC:], 0))"
   ]
  },
  {
   "cell_type": "code",
   "execution_count": null,
   "metadata": {},
   "outputs": [],
   "source": [
    "T_2[8418, 8418], T_2[SC + 8418, 8418]"
   ]
  },
  {
   "cell_type": "code",
   "execution_count": null,
   "metadata": {},
   "outputs": [],
   "source": [
    "tempFinal = [s for s in range(SC) if (s // 92 - rSource) ** 2 + (s % 92 -cSource) **2 < find_range**2 ]\n",
    "final = tempFinal.copy()\n",
    "for i in range(1, M):\n",
    "    final += [f + i * SC for f in tempFinal]\n",
    "final"
   ]
  },
  {
   "cell_type": "code",
   "execution_count": null,
   "metadata": {},
   "outputs": [],
   "source": [
    "rowIdx = np.array(range(8*M)).repeat(4*M)\n",
    "rowIdx"
   ]
  },
  {
   "cell_type": "code",
   "execution_count": null,
   "metadata": {},
   "outputs": [],
   "source": [
    "toSum = np.sum(pi_2[None, :, :, :].T * dataC[:, :], axis = 2).T.reshape(-1)\n",
    "toSum.shape, SC*2*4 * 2"
   ]
  },
  {
   "cell_type": "code",
   "execution_count": null,
   "metadata": {},
   "outputs": [],
   "source": [
    "np.allclose(np.sum(T_1_opt, axis = 1),1)"
   ]
  },
  {
   "cell_type": "code",
   "execution_count": null,
   "metadata": {},
   "outputs": [],
   "source": [
    "R[R!= R[0]]"
   ]
  },
  {
   "cell_type": "code",
   "execution_count": null,
   "metadata": {},
   "outputs": [],
   "source": [
    "V, eta = mb.sparse_T_CPU(pi_2, dataC, rSource, cSource, find_range, R, rho, 2)"
   ]
  },
  {
   "cell_type": "code",
   "execution_count": null,
   "metadata": {},
   "outputs": [],
   "source": [
    "np.dot(R, eta), np.dot(V, rho)"
   ]
  },
  {
   "cell_type": "code",
   "execution_count": null,
   "metadata": {},
   "outputs": [],
   "source": [
    "np.count_nonzero(eta[SC:])"
   ]
  },
  {
   "cell_type": "code",
   "execution_count": null,
   "metadata": {},
   "outputs": [],
   "source": [
    "tmp = eta[:SC]\n",
    "tmp[tmp > 5] = 0\n",
    "plt.matshow(tmp.reshape((rows, cols)))"
   ]
  },
  {
   "cell_type": "code",
   "execution_count": null,
   "metadata": {},
   "outputs": [],
   "source": [
    "np.where(pippo > 6), pippo[8417]"
   ]
  },
  {
   "cell_type": "code",
   "execution_count": null,
   "metadata": {},
   "outputs": [],
   "source": [
    "# np.count_nonzero(np.isclose(eta, tmp))\n",
    "pippo = etaNew[SC:-cols]\n",
    "pippo[8417] = 0\n",
    "pippo[8418] = 0\n",
    "plt.matshow(pippo.reshape((rows-1, cols)))\n",
    "plt.colorbar()"
   ]
  },
  {
   "cell_type": "code",
   "execution_count": null,
   "metadata": {},
   "outputs": [],
   "source": [
    "import scipy.sparse as sparse"
   ]
  },
  {
   "cell_type": "code",
   "execution_count": null,
   "metadata": {},
   "outputs": [],
   "source": []
  },
  {
   "cell_type": "code",
   "execution_count": null,
   "metadata": {},
   "outputs": [],
   "source": [
    "AV = sparse.eye(SC * M, format=\"csr\") - gamma * T_2[:SC, :SC]\n",
    "Aeta = sparse.eye(SC * M, format=\"csr\") - gamma * T_2[:SC, :SC].T\n",
    "V = sparse.linalg.spsolve(AV, R)\n",
    "eta = sparse.linalg.spsolve(Aeta, rho)\n",
    "np.dot(R, eta), np.dot(V, rho)"
   ]
  },
  {
   "cell_type": "code",
   "execution_count": null,
   "metadata": {},
   "outputs": [],
   "source": [
    "def getReachable(s, M):\n",
    "    r, c, m = (s % SC) // 92, s % 92 , s // SC\n",
    "    # print(r, c)\n",
    "    stateInMem0 = r * 92 + c\n",
    "    ret = np.zeros(4 * M, dtype = int)\n",
    "    for i in range(M):\n",
    "        ret[0 + i *4] = stateInMem0 - 92 + SC * i if r - 1 >= 0 else  stateInMem0 + SC * i\n",
    "        ret[1 + i *4] = stateInMem0 + 1  + SC * i if c + 1 < 92 else  stateInMem0 + SC * i\n",
    "        ret[2 + i *4] = stateInMem0 + 92 + SC * i if r + 1 < 131 else stateInMem0 + SC * i\n",
    "        ret[3 + i *4] = stateInMem0  -1  + SC * i if c - 1 >= 0 else  stateInMem0 + SC * i\n",
    "    return ret"
   ]
  },
  {
   "cell_type": "code",
   "execution_count": null,
   "metadata": {},
   "outputs": [],
   "source": [
    "getReachable(SC+cols-1,2)"
   ]
  },
  {
   "cell_type": "code",
   "execution_count": null,
   "metadata": {},
   "outputs": [],
   "source": [
    "new_T_1 = np.zeros((SC, SC))\n",
    "for i in range(SC):\n",
    "    for a, j in enumerate(getReachable(i, 1)):\n",
    "        new_T_1[i, j] += pi_opt_1[0, 0, a] * dataC[0, i] + pi_opt_1[1, 0, a] * dataC[1, i]\n",
    "new_T_1[8417, :] = 0\n",
    "new_T_1[8418, :] = 0\n",
    "new_T_1[8417, 8417] = 1\n",
    "new_T_1[8418, 8418] = 1\n",
    "np.allclose(T_1_opt, new_T_1)"
   ]
  },
  {
   "cell_type": "code",
   "execution_count": null,
   "metadata": {},
   "outputs": [],
   "source": [
    "pi_2_opt = softmax(np.load(\"celaniData/thetaLoroM2.npy\"), axis = 2)\n",
    "pi_2_opt"
   ]
  },
  {
   "cell_type": "code",
   "execution_count": null,
   "metadata": {},
   "outputs": [],
   "source": [
    "new_T_2 = np.zeros((SC*M, SC*M))\n",
    "for i in range(SC*M):\n",
    "    m = i // SC\n",
    "    s = i % SC\n",
    "    for a, j in enumerate(getReachable(i, 2)):\n",
    "        new_T_2[i, j] += pi_2[0, m, a] * dataC[0, s] + pi_2[1, m, a] * dataC[1, s]\n",
    "new_T_2[8417, :] = 0\n",
    "new_T_2[8418, :] = 0\n",
    "new_T_2[8417 +SC, :] = 0\n",
    "new_T_2[8418 +SC, :] = 0\n",
    "new_T_2[8417, 8417] = 1\n",
    "new_T_2[8418, 8418] = 1\n",
    "new_T_2[8417 + SC, 8417 + SC] = 1\n",
    "new_T_2[8418 + SC, 8418 + SC] = 1\n",
    "np.allclose(T_1_opt, new_T_2[:SC, :SC])"
   ]
  },
  {
   "cell_type": "code",
   "execution_count": null,
   "metadata": {},
   "outputs": [],
   "source": [
    "np.where(~np.isclose(new_T_1, T_1_opt))"
   ]
  },
  {
   "cell_type": "code",
   "execution_count": null,
   "metadata": {},
   "outputs": [],
   "source": [
    "T_1_opt[12051, 12051], new_T_1[12051, 12051]"
   ]
  },
  {
   "cell_type": "code",
   "execution_count": null,
   "metadata": {},
   "outputs": [],
   "source": [
    "getReachable(0, 1)"
   ]
  },
  {
   "cell_type": "code",
   "execution_count": null,
   "metadata": {},
   "outputs": [],
   "source": [
    "np.unravel_index(12051, (rows, cols))"
   ]
  },
  {
   "cell_type": "code",
   "execution_count": null,
   "metadata": {},
   "outputs": [],
   "source": [
    "np.where(~np.isclose(T_2[:SC, :SC], new_T_2[:SC, :SC]))"
   ]
  },
  {
   "cell_type": "code",
   "execution_count": null,
   "metadata": {},
   "outputs": [],
   "source": []
  },
  {
   "cell_type": "code",
   "execution_count": null,
   "metadata": {},
   "outputs": [],
   "source": [
    "invTnew = np.linalg.inv(np.eye(SC*2) - gamma * T_2_new)"
   ]
  },
  {
   "cell_type": "code",
   "execution_count": null,
   "metadata": {},
   "outputs": [],
   "source": [
    "Vnew = R @ invTnew.T\n",
    "eta = invTnew.T @ rho"
   ]
  },
  {
   "cell_type": "code",
   "execution_count": null,
   "metadata": {},
   "outputs": [],
   "source": [
    "np.dot(Vnew, rho), np.dot(R, eta)"
   ]
  },
  {
   "cell_type": "code",
   "execution_count": null,
   "metadata": {},
   "outputs": [],
   "source": [
    "tmp = eta[:SC]\n",
    "tmp[8417] = 0\n",
    "tmp[8418] = 0\n",
    "plt.matshow(tmp.reshape((rows, cols)))"
   ]
  },
  {
   "cell_type": "code",
   "execution_count": null,
   "metadata": {},
   "outputs": [],
   "source": [
    "th1 = np.load(\"results/modelBased/M1/celani/fine5/sparseCPUTest/theta_Conv8000.npy\")\n",
    "pi1 = softmax(th1, axis = 2)\n",
    "V, eta = mb.sparse_T_CPU(softmax(th1, axis = 2), dataC, rSource, cSource, find_range, R[:SC], rho[:SC], 1)"
   ]
  },
  {
   "cell_type": "code",
   "execution_count": null,
   "metadata": {},
   "outputs": [],
   "source": [
    "pi2 = softmax(thNew, axis = 2)"
   ]
  },
  {
   "cell_type": "code",
   "execution_count": null,
   "metadata": {},
   "outputs": [],
   "source": [
    "(pi1[None, :, :, :].T * dataC[:, :])[3, 0, 0, 8417 -cols], pi1[0,0,3] * dataC[0, 8417 -cols]"
   ]
  },
  {
   "cell_type": "code",
   "execution_count": null,
   "metadata": {},
   "outputs": [],
   "source": [
    "dataC[1, 8417 - cols]"
   ]
  },
  {
   "cell_type": "code",
   "execution_count": null,
   "metadata": {},
   "outputs": [],
   "source": [
    "pi2"
   ]
  },
  {
   "cell_type": "code",
   "execution_count": null,
   "metadata": {},
   "outputs": [],
   "source": [
    "toSum = np.sum(pi2[None, :, :, :].T * dataC[:, :], axis = 2).T.reshape(-1)\n",
    "toSum.shape"
   ]
  },
  {
   "cell_type": "code",
   "execution_count": null,
   "metadata": {},
   "outputs": [],
   "source": [
    "toSum[:8]"
   ]
  },
  {
   "cell_type": "code",
   "execution_count": null,
   "metadata": {},
   "outputs": [],
   "source": [
    "rowIdx = np.array(range(SC*M)).repeat(4*M)\n",
    "rowIdx[8417 * 8: 8418 * 8]"
   ]
  },
  {
   "cell_type": "code",
   "execution_count": null,
   "metadata": {},
   "outputs": [],
   "source": [
    "\n",
    "from itertools import chain\n",
    "from itertools import repeat as itReapeat\n",
    "def getReachable(s, M):\n",
    "    r, c, m = (s % SC) // 92, s % 92 , s // SC\n",
    "    stateInMem0 = r * 92 + c\n",
    "    ret = np.zeros(4 * M, dtype = int)\n",
    "    for i in range(M):\n",
    "        ret[0 + i *4] = stateInMem0 - 92 + SC * i if r - 1 >= 0 else  stateInMem0 + SC * i\n",
    "        ret[1 + i *4] = stateInMem0 + 1  + SC * i if c + 1 < 92 else  stateInMem0 + SC * i\n",
    "        ret[2 + i *4] = stateInMem0 + 92 + SC * i if r + 1 < 131 else stateInMem0 + SC * i\n",
    "        ret[3 + i *4] = stateInMem0  -1  + SC * i if c - 1 >= 0 else  stateInMem0 + SC * i\n",
    "    return ret"
   ]
  },
  {
   "cell_type": "code",
   "execution_count": null,
   "metadata": {},
   "outputs": [],
   "source": [
    "colIdx = np.array(list(chain.from_iterable(map(getReachable, range(SC*M), itReapeat(M))))) "
   ]
  },
  {
   "cell_type": "code",
   "execution_count": null,
   "metadata": {},
   "outputs": [],
   "source": [
    "colIdx[8417 * 8:8418 * 8]"
   ]
  },
  {
   "cell_type": "code",
   "execution_count": null,
   "metadata": {},
   "outputs": [],
   "source": [
    "reload(mb)"
   ]
  },
  {
   "cell_type": "code",
   "execution_count": null,
   "metadata": {},
   "outputs": [],
   "source": [
    "pi2"
   ]
  },
  {
   "cell_type": "code",
   "execution_count": null,
   "metadata": {},
   "outputs": [],
   "source": [
    "toSum, rowIdx, colIdx = mb.get_Transition_Matrix_sparse_CPU(pi2, dataC, rSource, cSource, find_range, 2)"
   ]
  },
  {
   "cell_type": "code",
   "execution_count": null,
   "metadata": {},
   "outputs": [],
   "source": [
    "toSum[(SC + 8325) * 8:(SC + 8326)*8], np.sum(toSum[(SC + 8325) * 8:(SC + 8326)*8]), rowIdx[(SC + 8325) * 8:(SC + 8326)*8], colIdx[(SC + 8325) * 8:(SC + 8326)*8], dataC[1, 8325]"
   ]
  },
  {
   "cell_type": "code",
   "execution_count": null,
   "metadata": {},
   "outputs": [],
   "source": [
    "toSum1, rowIdx1, colIdx1 = mb.get_Transition_Matrix_sparse_CPU(pi1, dataC, rSource, cSource, find_range, 1)"
   ]
  },
  {
   "cell_type": "code",
   "execution_count": null,
   "metadata": {},
   "outputs": [],
   "source": [
    "pi1"
   ]
  },
  {
   "cell_type": "code",
   "execution_count": null,
   "metadata": {},
   "outputs": [],
   "source": [
    "toSum1[(8325) * 4:(8326)*4], np.sum(toSum1[(8325) * 4:(8326)*4]), rowIdx1[(8325) * 4:(8326)*4], colIdx1[(8325) * 4:(8326)*4], dataC[0, 8325]"
   ]
  },
  {
   "cell_type": "code",
   "execution_count": null,
   "metadata": {},
   "outputs": [],
   "source": [
    "scemo = np.array(range(4 * 2* 2)).reshape((2,2,4))\n",
    "scemo[0, 0, 0] = 100\n",
    "scemo[None, :, :, :].T, scemo"
   ]
  },
  {
   "cell_type": "code",
   "execution_count": null,
   "metadata": {},
   "outputs": [],
   "source": [
    "pippo = np.array([[0.3, 0.7], [0.4, 0.6], [0.5, 0.5]]).T\n",
    "pippo"
   ]
  },
  {
   "cell_type": "code",
   "execution_count": null,
   "metadata": {},
   "outputs": [],
   "source": [
    "pi = softmax(thNew, axis = 2)\n",
    "pi"
   ]
  },
  {
   "cell_type": "code",
   "execution_count": null,
   "metadata": {},
   "outputs": [],
   "source": [
    "reload(mb)"
   ]
  },
  {
   "cell_type": "code",
   "execution_count": null,
   "metadata": {},
   "outputs": [],
   "source": [
    "T_sparse = mb.get_Transition_Matrix_sparse_CPU(pi1, dataC, rSource, cSource, find_range, 1).toarray()\n",
    "T_naive = mb.prova(pi1, dataC, rSource, cSource, find_range, 1)"
   ]
  },
  {
   "cell_type": "code",
   "execution_count": null,
   "metadata": {},
   "outputs": [],
   "source": [
    "pippo = np.where(~np.isclose(T_sparse, T_naive))"
   ]
  },
  {
   "cell_type": "code",
   "execution_count": null,
   "metadata": {},
   "outputs": [],
   "source": [
    "pippo"
   ]
  },
  {
   "cell_type": "code",
   "execution_count": null,
   "metadata": {},
   "outputs": [],
   "source": [
    "pi"
   ]
  },
  {
   "cell_type": "code",
   "execution_count": null,
   "metadata": {},
   "outputs": [],
   "source": [
    "h = SC *5"
   ]
  },
  {
   "cell_type": "code",
   "execution_count": null,
   "metadata": {},
   "outputs": [],
   "source": [
    "h += 1\n",
    "i,j = pippo[0][h], pippo[1][h]\n",
    "i,j, i % SC, j % SC"
   ]
  },
  {
   "cell_type": "code",
   "execution_count": null,
   "metadata": {},
   "outputs": [],
   "source": [
    "T_sparse[i,j], T_naive[i,j], dataC[0, i % SC], dataC[1, i % SC], dataC[0,i % SC] * pi[0,i // SC] + dataC[1,i % SC] * pi[1,i // SC]"
   ]
  },
  {
   "cell_type": "code",
   "execution_count": null,
   "metadata": {},
   "outputs": [],
   "source": [
    "plt.matshow(dataC[0].reshape((rows, cols)))"
   ]
  },
  {
   "cell_type": "code",
   "execution_count": null,
   "metadata": {},
   "outputs": [],
   "source": [
    "T_naive[8417] = 0\n",
    "T_naive[8418] = 0\n",
    "T_naive[8417 + SC] = 0\n",
    "T_naive[8418 + SC] = 0\n",
    "T_naive[8417, 8417] = 1\n",
    "T_naive[8418, 8418] = 1\n",
    "T_naive[8417 + SC, 8417 + SC] = 1\n",
    "T_naive[8418 + SC, 8418 + SC] = 1"
   ]
  },
  {
   "cell_type": "code",
   "execution_count": null,
   "metadata": {},
   "outputs": [],
   "source": [
    "np.allclose(np.sum(T_naive, axis = 1),1)"
   ]
  },
  {
   "cell_type": "code",
   "execution_count": null,
   "metadata": {},
   "outputs": [],
   "source": [
    "TnaiveInv = np.linalg.inv(np.eye(SC * 2) - gamma * T_naive)"
   ]
  },
  {
   "cell_type": "code",
   "execution_count": null,
   "metadata": {},
   "outputs": [],
   "source": [
    "Vnaive = R @ TnaiveInv.T\n",
    "etaNaive = TnaiveInv.T @ rho"
   ]
  },
  {
   "cell_type": "code",
   "execution_count": null,
   "metadata": {},
   "outputs": [],
   "source": [
    "R @ etaNaive, Vnaive @ rho "
   ]
  },
  {
   "cell_type": "code",
   "execution_count": null,
   "metadata": {},
   "outputs": [],
   "source": [
    "np.argmax(tmp)"
   ]
  },
  {
   "cell_type": "code",
   "execution_count": null,
   "metadata": {},
   "outputs": [],
   "source": [
    "tmp = etaNaive[:SC]\n",
    "# tmp[:cols] = 0\n",
    "tmp[8417] = 0\n",
    "tmp[8418] = 0\n",
    "plt.matshow(Vnaive[SC:].reshape((rows, cols)))"
   ]
  },
  {
   "cell_type": "code",
   "execution_count": null,
   "metadata": {},
   "outputs": [],
   "source": [
    "t = 0\n",
    "s = 45\n",
    "while s != 8417 and t < 1000:\n",
    "    s += cols\n",
    "    t += 1\n",
    "print(t, s)"
   ]
  },
  {
   "cell_type": "code",
   "execution_count": 23,
   "metadata": {},
   "outputs": [
    {
     "name": "stderr",
     "output_type": "stream",
     "text": [
      "/tmp/ipykernel_398828/2846822007.py:4: UserWarning: Attempt to set non-positive ylim on a log-scaled axis will be ignored.\n",
      "  plt.ylim((0, 3500))\n"
     ]
    },
    {
     "data": {
      "text/plain": [
       "(2.1196765134827134, 3500)"
      ]
     },
     "execution_count": 23,
     "metadata": {},
     "output_type": "execute_result"
    },
    {
     "data": {
      "image/png": "[encoded data removed]",
      "text/plain": [
       "<Figure size 640x480 with 1 Axes>"
      ]
     },
     "metadata": {},
     "output_type": "display_data"
    }
   ],
   "source": [
    "m2_loro_plusOne = np.load(\"eval/results/m2_loro_normal.npy\")\n",
    "plt.hist(m2_loro_plusOne, 50, range = (0, 10000));\n",
    "plt.yscale(\"log\")\n",
    "plt.ylim((0, 3500))"
   ]
  },
  {
   "cell_type": "code",
   "execution_count": 25,
   "metadata": {},
   "outputs": [
    {
     "name": "stderr",
     "output_type": "stream",
     "text": [
      "/tmp/ipykernel_398828/3498605769.py:6: UserWarning: Attempt to set non-positive ylim on a log-scaled axis will be ignored.\n",
      "  plt.ylim((0, 3500))\n"
     ]
    },
    {
     "data": {
      "text/plain": [
       "(2.1196765134827134, 3500)"
      ]
     },
     "execution_count": 25,
     "metadata": {},
     "output_type": "execute_result"
    },
    {
     "data": {
      "image/png": "[encoded data removed]",
      "text/plain": [
       "<Figure size 640x480 with 1 Axes>"
      ]
     },
     "metadata": {},
     "output_type": "display_data"
    }
   ],
   "source": [
    "m2_loro_normal = np.load(\"eval/results/m2_loro_normal.npy\")\n",
    "# plt.hist(m2_loro_plusOne, 50, range = (0, 10000));\n",
    "m2_loro_plusOne = np.load(\"eval/results/m2_loro_plusOne.npy\")\n",
    "plt.hist([m2_loro_normal, m2_loro_plusOne], 50, range = (0, 10000));\n",
    "plt.yscale(\"log\")\n",
    "plt.ylim((0, 3500))"
   ]
  },
  {
   "cell_type": "code",
   "execution_count": 201,
   "metadata": {},
   "outputs": [
    {
     "data": {
      "text/plain": [
       "(8, 2, 1, 4)"
      ]
     },
     "execution_count": 201,
     "metadata": {},
     "output_type": "execute_result"
    }
   ],
   "source": [
    "aa.shape"
   ]
  },
  {
   "cell_type": "code",
   "execution_count": 210,
   "metadata": {},
   "outputs": [
    {
     "data": {
      "text/plain": [
       "(0.030245738210663342, True)"
      ]
     },
     "execution_count": 210,
     "metadata": {},
     "output_type": "execute_result"
    }
   ],
   "source": [
    "a = np.load(\"results/modelFree/M1/row0/maxIt_1000/10000/shapingFree_0.1/theta_START.npy\")\n",
    "aa = np.array([np.copy(a) for i in range(2*4)])\n",
    "for i in range(2*4):\n",
    "    aa[i][i//4,0,i%4] += 0.1\n",
    "\n",
    "sa = softmax(aa,axis = 3)\n",
    "sb = softmax(aa -np.max(aa, axis = 3, keepdims=True), axis = 3)\n",
    "m = -np.inf\n",
    "for i in range(8):\n",
    "    for j in range(i+1, 8):\n",
    "        tmp = np.max(np.abs(sa[i] - sa[j]))\n",
    "        if m < tmp:\n",
    "            m = tmp\n",
    "m, np.allclose(sa, sb)"
   ]
  },
  {
   "cell_type": "code",
   "execution_count": 25,
   "metadata": {},
   "outputs": [
    {
     "data": {
      "text/plain": [
       "array([[1.00000000e+00, 6.30511676e-16, 6.30511676e-16, 6.30511676e-16],\n",
       "       [9.93307145e-01, 6.69285090e-03, 2.04735862e-09, 2.04735862e-09],\n",
       "       [9.93307145e-01, 2.04735862e-09, 6.69285090e-03, 2.04735862e-09],\n",
       "       [9.93307145e-01, 2.04735862e-09, 2.04735862e-09, 6.69285090e-03]])"
      ]
     },
     "execution_count": 25,
     "metadata": {},
     "output_type": "execute_result"
    }
   ],
   "source": [
    "softmax(bb, axis = 1)"
   ]
  },
  {
   "cell_type": "code",
   "execution_count": 22,
   "metadata": {},
   "outputs": [],
   "source": [
    "obj = []\n",
    "f = open(\"results/modelBased/M3/celani/fine5/alpha0.1_Rescale_Subtract/mb_3/output.out\")\n",
    "for l in f:\n",
    "    if \"Obj\" in l:\n",
    "        obj.append(float(l.split(\" \")[-1]))"
   ]
  },
  {
   "cell_type": "code",
   "execution_count": 23,
   "metadata": {},
   "outputs": [
    {
     "data": {
      "image/png": "[encoded data removed]",
      "text/plain": [
       "<Figure size 640x480 with 1 Axes>"
      ]
     },
     "metadata": {},
     "output_type": "display_data"
    }
   ],
   "source": [
    "M = 3\n",
    "maxIt = 35000\n",
    "ticks = [0, -0.1, -0.3, -0.4,-0.485, -0.6, -0.7, -0.8, -0.9, -1]\n",
    "if M == 3:\n",
    "    plt.hlines(-0.138, 0,maxIt, \"r\", label = f\"Optimal M3\")\n",
    "    ticks += [-0.138]\n",
    "if M >= 2:\n",
    "    ticks += [-0.197]\n",
    "    plt.hlines(-0.197, 0,maxIt, \"y\", label = f\"Optimal M2\")\n",
    "else:\n",
    "    ticks += [-0.2]\n",
    "plt.hlines(-0.485, 0,maxIt, \"g\", label = f\"Optimal M1\")\n",
    "plt.yticks(ticks)\n",
    "plt.plot(range(1,maxIt+1, 1000), obj, label = \"Obj\")\n",
    "plt.legend()\n",
    "plt.grid()\n",
    "plt.savefig(\"objOut/png/modelBased/mb_3_0.1_r_s.png\")"
   ]
  }
 ],
 "metadata": {
  "kernelspec": {
   "display_name": "base",
   "language": "python",
   "name": "python3"
  },
  "language_info": {
   "codemirror_mode": {
    "name": "ipython",
    "version": 3
   },
   "file_extension": ".py",
   "mimetype": "text/x-python",
   "name": "python",
   "nbconvert_exporter": "python",
   "pygments_lexer": "ipython3",
   "version": "3.12.2"
  }
 },
 "nbformat": 4,
 "nbformat_minor": 2
}
