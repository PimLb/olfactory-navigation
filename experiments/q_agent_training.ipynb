{
 "cells": [
  {
   "cell_type": "code",
   "execution_count": 1,
   "metadata": {
    "metadata": {}
   },
   "outputs": [
    {
     "name": "stderr",
     "output_type": "stream",
     "text": [
      "/home/rando/anaconda3/envs/olfactory_navigation/lib/python3.10/site-packages/tqdm/auto.py:21: TqdmWarning: IProgress not found. Please update jupyter and ipywidgets. See https://ipywidgets.readthedocs.io/en/stable/user_install.html\n",
      "  from .autonotebook import tqdm as notebook_tqdm\n"
     ]
    }
   ],
   "source": [
    "\n",
    "import sys\n",
    "sys.path.append('..')\n",
    "\n",
    "from olfactory_navigation import Environment\n",
    "from olfactory_navigation.agents import QAgent, QMemAgent, DQNAgent\n",
    "from olfactory_navigation.simulation import run_test\n",
    "from olfactory_navigation.test_setups import run_all_starts_test\n",
    "\n",
    "from matplotlib import pyplot as plt\n",
    "#%matplotlib inline\n",
    "\n",
    "import pandas as pd\n",
    "import numpy as np\n",
    "import cupy as cp\n",
    "\n",
    "\n"
   ]
  },
  {
   "cell_type": "code",
   "execution_count": 2,
   "metadata": {
    "metadata": {}
   },
   "outputs": [
    {
     "data": {
      "image/png": "[encoded data removed]",
      "text/plain": [
       "<Figure size 1500x500 with 1 Axes>"
      ]
     },
     "metadata": {},
     "output_type": "display_data"
    }
   ],
   "source": [
    "env = Environment(data_file=\"/storage/rando/data/nose_data_27_123.npy\",\n",
    "                  data_source_position=[13, 0],\n",
    "                  source_radius=2,\n",
    "                  margins=[14, 62],\n",
    "                  boundary_condition='wrap_vertical',\n",
    "                  start_zone='odor_present',\n",
    "                  odor_present_threshold=3e-6)\n",
    "\n",
    "env.plot()"
   ]
  },
  {
   "cell_type": "code",
   "execution_count": 3,
   "metadata": {},
   "outputs": [
    {
     "data": {
      "text/plain": [
       "array([27, 62])"
      ]
     },
     "execution_count": 3,
     "metadata": {},
     "output_type": "execute_result"
    }
   ],
   "source": [
    "env.source_position"
   ]
  },
  {
   "cell_type": "code",
   "execution_count": 4,
   "metadata": {},
   "outputs": [],
   "source": [
    "# IT WORKS !\n",
    "# horizon = 1000\n",
    "# num_episodes = 100000\n",
    "# eps_decay = 10000\n",
    "# ag = QAgent(\n",
    "#     environment=env,\n",
    "#     horizon=horizon, \n",
    "#     eps_init=1.0,\n",
    "#     eps_end=1e-5,\n",
    "#     eps_decay=eps_decay,#int(num_episodes - num_episodes//10),\n",
    "#     learning_rate=lambda t : (0.6 - 0.001) * np.exp(- t / eps_decay),\n",
    "#     gamma=1.0,\n",
    "#     delta=500,\n",
    "#     rewards=(1.0, -0.001),\n",
    "#     num_episodes=num_episodes,\n",
    "#     deterministic=True,\n",
    "#     checkpoint_folder  = \"./q_agent_training/checkpoints\",\n",
    "#     checkpoint_frequency  = 10000\n",
    "# )\n",
    "\n",
    "\n",
    "horizon = 1000\n",
    "num_episodes = 500000\n",
    "eps_decay = 50000\n",
    "batch_size = 64\n",
    "ag = DQNAgent(\n",
    "    environment=env,\n",
    "    horizon=horizon, \n",
    "    memory_size=5,\n",
    "    eps_init=1.0,\n",
    "    eps_end=1e-5,\n",
    "    eps_decay=eps_decay,#int(num_episodes - num_episodes//10),\n",
    "    learning_rate=1e-4,\n",
    "    tau = 0.005,\n",
    "    batch_size=batch_size,\n",
    "    gamma=1.0,\n",
    "    delta=500,\n",
    "    rewards=(1.0, -0.001),\n",
    "    num_episodes=num_episodes,\n",
    "    checkpoint_folder  = \"./dqn_agent_training/memory_size_5/checkpoints\",\n",
    "    checkpoint_frequency  = 10000\n",
    ")\n",
    "\n",
    "\n",
    "\n",
    "\n",
    "\n"
   ]
  },
  {
   "cell_type": "code",
   "execution_count": 5,
   "metadata": {},
   "outputs": [],
   "source": [
    "# ag.save(\"./q_agent_training\")"
   ]
  },
  {
   "cell_type": "code",
   "execution_count": 6,
   "metadata": {},
   "outputs": [],
   "source": [
    "#ag.load(\"./q_agent_training/memory_size_20/decay_10000\")"
   ]
  },
  {
   "cell_type": "code",
   "execution_count": 7,
   "metadata": {},
   "outputs": [
    {
     "name": "stderr",
     "output_type": "stream",
     "text": [
      "  0%|          | 0/500000 [00:00<?, ?it/s]\n"
     ]
    },
    {
     "name": "stdout",
     "output_type": "stream",
     "text": [
      "tensor([0, 0, 0, 0, 0, 0])\n"
     ]
    },
    {
     "ename": "NameError",
     "evalue": "name 'exit' is not defined",
     "output_type": "error",
     "traceback": [
      "\u001b[0;31m---------------------------------------------------------------------------\u001b[0m",
      "\u001b[0;31mNameError\u001b[0m                                 Traceback (most recent call last)",
      "Cell \u001b[0;32mIn[7], line 1\u001b[0m\n\u001b[0;32m----> 1\u001b[0m training_result \u001b[38;5;241m=\u001b[39m \u001b[43mag\u001b[49m\u001b[38;5;241;43m.\u001b[39;49m\u001b[43mtrain\u001b[49m\u001b[43m(\u001b[49m\u001b[43m)\u001b[49m\n",
      "File \u001b[0;32m~/olfactory-navigation/experiments/../olfactory_navigation/agents/dqn_agent.py:211\u001b[0m, in \u001b[0;36mDQNAgent.train\u001b[0;34m(self)\u001b[0m\n\u001b[1;32m    208\u001b[0m state \u001b[38;5;241m=\u001b[39m torch\u001b[38;5;241m.\u001b[39mfrom_numpy(np\u001b[38;5;241m.\u001b[39mconcatenate((\u001b[38;5;28mself\u001b[39m\u001b[38;5;241m.\u001b[39mmemory, [num_zeros])))\n\u001b[1;32m    210\u001b[0m \u001b[38;5;28mprint\u001b[39m(state)\n\u001b[0;32m--> 211\u001b[0m \u001b[43mexit\u001b[49m()\n\u001b[1;32m    212\u001b[0m \u001b[38;5;28;01mif\u001b[39;00m s \u001b[38;5;241m==\u001b[39m \u001b[38;5;241m0\u001b[39m:\n\u001b[1;32m    213\u001b[0m     a \u001b[38;5;241m=\u001b[39m \u001b[38;5;241m0\u001b[39m\n",
      "\u001b[0;31mNameError\u001b[0m: name 'exit' is not defined"
     ]
    }
   ],
   "source": [
    "training_result = ag.train()"
   ]
  },
  {
   "cell_type": "code",
   "execution_count": null,
   "metadata": {},
   "outputs": [],
   "source": [
    "#fig, ax = plt.subplots()\n",
    "#ax.plot(range(len(training_result['average_cumulative_reward'])), training_result['average_cumulative_reward'], '-')\n",
    "#fig.savefig(\"./q_agent_training_2/avg_crew.pdf\")"
   ]
  },
  {
   "cell_type": "code",
   "execution_count": null,
   "metadata": {},
   "outputs": [],
   "source": [
    "# fig, ax = plt.subplots()\n",
    "\n",
    "# ax.imshow((training_result['best_Q'].T[:, :20] - training_result['best_Q'].T[:, :20].min(axis=0)) / (training_result['best_Q'].T[:, :20].max(axis=0) - training_result['best_Q'].T[:, :20].min(axis=0)), origin='lower' )\n",
    "\n",
    "\n",
    "# ax.set_xticks(range(20))\n",
    "# ax.set_yticks(range(4))\n"
   ]
  },
  {
   "cell_type": "code",
   "execution_count": null,
   "metadata": {},
   "outputs": [
    {
     "name": "stderr",
     "output_type": "stream",
     "text": [
      "100%|██████████| 1000/1000 [00:06<00:00, 144.53it/s, done =3241 of 10000 (32.4%)]\n"
     ]
    },
    {
     "name": "stdout",
     "output_type": "stream",
     "text": [
      "Simulations done in 6.921s:\n",
      "Simulations reached goal: 3241/10000 (6759 failures) (32.41%)\n",
      "\t- Average step count: 704.964 +- 429.72 (Successfull only: 89.675 +- 98.21)\n",
      "\t- Extra steps: 633.510 +- 424.66 (Successful only: 25.623 +- 86.65)\n",
      "\t- Average discounted rewards (ADR): 0.933 +- 0.04 (Successfull only: 0.991 +- 0.01)\n",
      "\t- Tmin/T: 0.326 +- 0.38 (Successful only: 0.848 +- 0.21)\n"
     ]
    }
   ],
   "source": [
    "hist = run_test(n=10000, agent=ag, use_gpu=False, horizon=horizon, reward_discount=0.9999)"
   ]
  },
  {
   "cell_type": "code",
   "execution_count": null,
   "metadata": {},
   "outputs": [],
   "source": [
    "#hist.plot(500)"
   ]
  },
  {
   "cell_type": "code",
   "execution_count": null,
   "metadata": {},
   "outputs": [
    {
     "name": "stdout",
     "output_type": "stream",
     "text": [
      "Time shift = 0\n"
     ]
    },
    {
     "name": "stderr",
     "output_type": "stream",
     "text": [
      "100%|██████████| 1000/1000 [00:01<00:00, 646.31it/s, done =1093 of 2393 (45.7%)]\n"
     ]
    },
    {
     "name": "stdout",
     "output_type": "stream",
     "text": [
      "Simulations done in 1.549s:\n",
      "Simulations reached goal: 1093/2393 (1300 failures) (45.67%)\n",
      "\t- Average step count: 582.152 +- 457.10 (Successfull only: 85.169 +- 52.85)\n",
      "\t- Extra steps: 511.119 +- 449.88 (Successful only: 21.657 +- 29.42)\n",
      "\t- Average discounted rewards (ADR): 1.000 +- 0.00 (Successfull only: 1.000 +- 0.00)\n",
      "\t- Tmin/T: 0.409 +- 0.39 (Successful only: 0.803 +- 0.23)\n",
      "Time shift = 10\n"
     ]
    },
    {
     "name": "stderr",
     "output_type": "stream",
     "text": [
      "100%|██████████| 1000/1000 [00:01<00:00, 614.25it/s, done =1095 of 2393 (45.8%)]\n"
     ]
    },
    {
     "name": "stdout",
     "output_type": "stream",
     "text": [
      "Simulations done in 1.630s:\n",
      "Simulations reached goal: 1095/2393 (1298 failures) (45.76%)\n",
      "\t- Average step count: 580.784 +- 457.80 (Successfull only: 83.849 +- 52.50)\n",
      "\t- Extra steps: 509.750 +- 449.39 (Successful only: 21.538 +- 28.01)\n",
      "\t- Average discounted rewards (ADR): 1.000 +- 0.00 (Successfull only: 1.000 +- 0.00)\n",
      "\t- Tmin/T: 0.408 +- 0.39 (Successful only: 0.798 +- 0.23)\n",
      "Time shift = 50\n"
     ]
    },
    {
     "name": "stderr",
     "output_type": "stream",
     "text": [
      "100%|██████████| 1000/1000 [00:01<00:00, 585.87it/s, done =1177 of 2393 (49.2%)]\n"
     ]
    },
    {
     "name": "stdout",
     "output_type": "stream",
     "text": [
      "Simulations done in 1.708s:\n",
      "Simulations reached goal: 1177/2393 (1216 failures) (49.19%)\n",
      "\t- Average step count: 549.369 +- 459.44 (Successfull only: 83.807 +- 51.22)\n",
      "\t- Extra steps: 478.336 +- 451.39 (Successful only: 20.459 +- 26.77)\n",
      "\t- Average discounted rewards (ADR): 1.000 +- 0.00 (Successfull only: 1.000 +- 0.00)\n",
      "\t- Tmin/T: 0.434 +- 0.40 (Successful only: 0.801 +- 0.24)\n",
      "Time shift = 100\n"
     ]
    },
    {
     "name": "stderr",
     "output_type": "stream",
     "text": [
      "100%|██████████| 1000/1000 [00:01<00:00, 690.49it/s, done =1188 of 2393 (49.6%)]\n"
     ]
    },
    {
     "name": "stdout",
     "output_type": "stream",
     "text": [
      "Simulations done in 1.450s:\n",
      "Simulations reached goal: 1188/2393 (1205 failures) (49.64%)\n",
      "\t- Average step count: 542.545 +- 461.82 (Successfull only: 78.543 +- 45.29)\n",
      "\t- Extra steps: 471.511 +- 452.92 (Successful only: 16.233 +- 25.79)\n",
      "\t- Average discounted rewards (ADR): 1.000 +- 0.00 (Successfull only: 1.000 +- 0.00)\n",
      "\t- Tmin/T: 0.444 +- 0.41 (Successful only: 0.814 +- 0.25)\n",
      "Time shift = 500\n"
     ]
    },
    {
     "name": "stderr",
     "output_type": "stream",
     "text": [
      "100%|██████████| 1000/1000 [00:01<00:00, 608.50it/s, done =961 of 2393 (40.2%)]\n"
     ]
    },
    {
     "name": "stdout",
     "output_type": "stream",
     "text": [
      "Simulations done in 1.645s:\n",
      "Simulations reached goal: 961/2393 (1432 failures) (40.16%)\n",
      "\t- Average step count: 627.205 +- 455.79 (Successfull only: 71.698 +- 40.49)\n",
      "\t- Extra steps: 556.172 +- 447.45 (Successful only: 10.927 +- 18.54)\n",
      "\t- Average discounted rewards (ADR): 1.000 +- 0.00 (Successfull only: 1.000 +- 0.00)\n",
      "\t- Tmin/T: 0.390 +- 0.41 (Successful only: 0.855 +- 0.24)\n",
      "Time shift = 1000\n"
     ]
    },
    {
     "name": "stderr",
     "output_type": "stream",
     "text": [
      "100%|██████████| 1000/1000 [00:01<00:00, 683.96it/s, done =1144 of 2393 (47.8%)]\n"
     ]
    },
    {
     "name": "stdout",
     "output_type": "stream",
     "text": [
      "Simulations done in 1.464s:\n",
      "Simulations reached goal: 1144/2393 (1249 failures) (47.81%)\n",
      "\t- Average step count: 559.003 +- 461.54 (Successfull only: 77.529 +- 38.02)\n",
      "\t- Extra steps: 487.969 +- 454.08 (Successful only: 14.377 +- 19.09)\n",
      "\t- Average discounted rewards (ADR): 1.000 +- 0.00 (Successfull only: 1.000 +- 0.00)\n",
      "\t- Tmin/T: 0.438 +- 0.41 (Successful only: 0.831 +- 0.23)\n",
      "Time shift = 1500\n"
     ]
    },
    {
     "name": "stderr",
     "output_type": "stream",
     "text": [
      "100%|██████████| 1000/1000 [00:01<00:00, 689.86it/s, done =1215 of 2393 (50.8%)]\n"
     ]
    },
    {
     "name": "stdout",
     "output_type": "stream",
     "text": [
      "Simulations done in 1.453s:\n",
      "Simulations reached goal: 1215/2393 (1178 failures) (50.77%)\n",
      "\t- Average step count: 533.107 +- 460.78 (Successfull only: 80.431 +- 43.75)\n",
      "\t- Extra steps: 462.073 +- 452.81 (Successful only: 16.968 +- 22.43)\n",
      "\t- Average discounted rewards (ADR): 1.000 +- 0.00 (Successfull only: 1.000 +- 0.00)\n",
      "\t- Tmin/T: 0.451 +- 0.41 (Successful only: 0.812 +- 0.24)\n",
      "Time shift = 2000\n"
     ]
    },
    {
     "name": "stderr",
     "output_type": "stream",
     "text": [
      "100%|██████████| 1000/1000 [00:01<00:00, 679.96it/s, done =997 of 2393 (41.7%)]\n"
     ]
    },
    {
     "name": "stdout",
     "output_type": "stream",
     "text": [
      "Simulations done in 1.473s:\n",
      "Simulations reached goal: 997/2393 (1396 failures) (41.66%)\n",
      "\t- Average step count: 615.994 +- 455.31 (Successfull only: 78.309 +- 44.82)\n",
      "\t- Extra steps: 544.961 +- 447.13 (Successful only: 16.841 +- 21.92)\n",
      "\t- Average discounted rewards (ADR): 1.000 +- 0.00 (Successfull only: 1.000 +- 0.00)\n",
      "\t- Tmin/T: 0.382 +- 0.40 (Successful only: 0.807 +- 0.26)\n"
     ]
    }
   ],
   "source": [
    "for i in [0, 10, 50, 100, 500, 1000, 1500, 2000]:\n",
    "    print(\"Time shift = {}\".format(i))\n",
    "    run_all_starts_test(ag, time_loop=True, horizon=horizon, reward_discount=1.0, time_shift=i)"
   ]
  },
  {
   "cell_type": "code",
   "execution_count": null,
   "metadata": {},
   "outputs": [
    {
     "data": {
      "image/png": "[encoded data removed]",
      "text/plain": [
       "<Figure size 1200x800 with 1 Axes>"
      ]
     },
     "metadata": {},
     "output_type": "display_data"
    }
   ],
   "source": [
    "nQ = ag.Q.T[:, :50]\n",
    "\n",
    "nQ = (nQ - nQ.min(0)) / (nQ.max(0) - nQ.min(0))\n",
    "\n",
    "\n",
    "fig, ax = plt.subplots(figsize=(12, 8))\n",
    "ax.set_title(\"Normalized Q-Function\")\n",
    "ax.imshow(nQ, origin='lower')\n",
    "\n",
    "_ = ax.set_xticks(range(nQ.shape[1]))\n",
    "_ = ax.set_yticks(range(4), ['left', 'down', 'up', 'right'])\n",
    "ax.set_xlabel(\"time since observation\")\n",
    "\n",
    "fig.tight_layout()\n",
    "\n",
    "#fig.savefig(\"qfun_first_100.pdf\", bbox_inches='tight')\n",
    "\n"
   ]
  },
  {
   "cell_type": "code",
   "execution_count": null,
   "metadata": {},
   "outputs": [
    {
     "data": {
      "text/plain": [
       "array([[1.00000000e+00, 1.41489163e-05, 1.00000000e+00, 8.19823023e-04,\n",
       "        4.17058973e-08, 0.00000000e+00, 3.06199124e-08, 5.40623808e-03,\n",
       "        1.00000000e+00, 0.00000000e+00, 1.00000000e+00, 1.00000000e+00,\n",
       "        0.00000000e+00, 1.00000000e+00, 0.00000000e+00, 1.34820685e-03,\n",
       "        1.00000000e+00, 0.00000000e+00, 1.42470540e-03, 6.91213574e-04,\n",
       "        2.81702416e-05, 6.47002661e-04, 1.68316271e-03, 1.74685805e-03,\n",
       "        7.94713284e-05, 0.00000000e+00, 1.33396281e-05, 2.19718945e-06,\n",
       "        1.00000000e+00, 3.22269395e-05, 1.45019602e-05, 2.98273396e-08,\n",
       "        1.00000000e+00, 2.27712594e-05, 1.00000000e+00, 1.00000000e+00,\n",
       "        2.86456520e-05, 3.94827676e-08, 0.00000000e+00, 1.01702666e-05,\n",
       "        9.97373498e-06, 1.08757331e-06, 6.14646604e-09, 0.00000000e+00,\n",
       "        6.23164353e-07, 1.13261963e-06, 1.35995595e-06, 3.23156730e-06,\n",
       "        1.05106159e-06, 2.75709449e-06],\n",
       "       [0.00000000e+00, 1.00000000e+00, 0.00000000e+00, 1.00000000e+00,\n",
       "        1.00000000e+00, 5.99746927e-03, 0.00000000e+00, 1.00000000e+00,\n",
       "        4.50618096e-08, 5.92090881e-08, 2.20568182e-08, 4.32635260e-03,\n",
       "        6.60313987e-08, 2.47057458e-09, 5.27281801e-04, 1.00000000e+00,\n",
       "        9.42552788e-04, 6.43890053e-04, 0.00000000e+00, 1.00000000e+00,\n",
       "        0.00000000e+00, 0.00000000e+00, 0.00000000e+00, 1.00000000e+00,\n",
       "        1.80062469e-04, 1.20258918e-05, 0.00000000e+00, 7.07403141e-08,\n",
       "        3.12329207e-06, 0.00000000e+00, 0.00000000e+00, 0.00000000e+00,\n",
       "        2.11495659e-06, 5.74430086e-05, 1.04306502e-07, 3.19172733e-07,\n",
       "        3.18237458e-05, 0.00000000e+00, 1.74941645e-05, 1.35726859e-05,\n",
       "        3.05877120e-06, 0.00000000e+00, 3.46462233e-09, 3.84674866e-03,\n",
       "        0.00000000e+00, 0.00000000e+00, 2.09287925e-06, 1.56346616e-06,\n",
       "        0.00000000e+00, 0.00000000e+00],\n",
       "       [0.00000000e+00, 0.00000000e+00, 2.97951743e-08, 4.26791224e-08,\n",
       "        4.39910456e-04, 4.32107976e-04, 4.17990177e-04, 1.94734926e-03,\n",
       "        4.66376182e-03, 1.45509942e-08, 0.00000000e+00, 0.00000000e+00,\n",
       "        1.40555442e-03, 1.12875964e-08, 4.45612630e-08, 6.03336948e-04,\n",
       "        2.21008427e-03, 2.44730968e-05, 7.49532494e-04, 4.95273969e-03,\n",
       "        1.77908631e-03, 9.07957417e-04, 2.09853250e-05, 0.00000000e+00,\n",
       "        0.00000000e+00, 1.00000000e+00, 1.00000000e+00, 1.00000000e+00,\n",
       "        2.98585186e-06, 1.00000000e+00, 1.00000000e+00, 7.16049226e-08,\n",
       "        0.00000000e+00, 1.00000000e+00, 0.00000000e+00, 0.00000000e+00,\n",
       "        1.00000000e+00, 1.00000000e+00, 1.00000000e+00, 1.00000000e+00,\n",
       "        1.00000000e+00, 1.00000000e+00, 1.00000000e+00, 1.00000000e+00,\n",
       "        1.00000000e+00, 1.00000000e+00, 0.00000000e+00, 1.00000000e+00,\n",
       "        1.00000000e+00, 1.00000000e+00],\n",
       "       [0.00000000e+00, 6.06212299e-03, 3.03841186e-09, 0.00000000e+00,\n",
       "        0.00000000e+00, 1.00000000e+00, 1.00000000e+00, 0.00000000e+00,\n",
       "        0.00000000e+00, 1.00000000e+00, 7.56144833e-09, 4.64301037e-06,\n",
       "        1.00000000e+00, 0.00000000e+00, 1.00000000e+00, 0.00000000e+00,\n",
       "        0.00000000e+00, 1.00000000e+00, 1.00000000e+00, 0.00000000e+00,\n",
       "        1.00000000e+00, 1.00000000e+00, 1.00000000e+00, 6.57430787e-05,\n",
       "        1.00000000e+00, 5.56107276e-05, 1.34004722e-05, 0.00000000e+00,\n",
       "        0.00000000e+00, 1.60851897e-06, 2.20682642e-05, 1.00000000e+00,\n",
       "        2.04243754e-06, 0.00000000e+00, 4.93227813e-08, 4.19698896e-07,\n",
       "        0.00000000e+00, 1.45949915e-05, 2.36698123e-05, 0.00000000e+00,\n",
       "        0.00000000e+00, 4.11315804e-06, 0.00000000e+00, 3.84743587e-03,\n",
       "        1.74183704e-07, 2.14148308e-06, 1.00000000e+00, 0.00000000e+00,\n",
       "        2.88495908e-09, 2.61410708e-06]])"
      ]
     },
     "execution_count": 14,
     "metadata": {},
     "output_type": "execute_result"
    }
   ],
   "source": [
    "nQ"
   ]
  }
 ],
 "metadata": {
  "kernelspec": {
   "display_name": "Python 3",
   "language": "python",
   "name": "python3"
  },
  "language_info": {
   "codemirror_mode": {
    "name": "ipython",
    "version": 3
   },
   "file_extension": ".py",
   "mimetype": "text/x-python",
   "name": "python",
   "nbconvert_exporter": "python",
   "pygments_lexer": "ipython3",
   "version": "3.10.14"
  }
 },
 "nbformat": 4,
 "nbformat_minor": 2
}
