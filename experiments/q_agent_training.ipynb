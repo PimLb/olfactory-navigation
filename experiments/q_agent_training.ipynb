{
 "cells": [
  {
   "cell_type": "code",
   "execution_count": 1,
   "metadata": {},
   "outputs": [
    {
     "name": "stdout",
     "output_type": "stream",
     "text": [
      "[Warning] milp library not available, LP solvers will be disabled.\n"
     ]
    },
    {
     "name": "stderr",
     "output_type": "stream",
     "text": [
      "/home/rando/anaconda3/envs/olfactory_navigation/lib/python3.10/site-packages/tqdm/auto.py:21: TqdmWarning: IProgress not found. Please update jupyter and ipywidgets. See https://ipywidgets.readthedocs.io/en/stable/user_install.html\n",
      "  from .autonotebook import tqdm as notebook_tqdm\n"
     ]
    }
   ],
   "source": [
    "import sys\n",
    "sys.path.append('..')\n",
    "from src.agents import QAgent\n",
    "\n",
    "from matplotlib import pyplot as plt\n",
    "\n",
    "import pandas as pd\n",
    "import numpy as np\n",
    "import cupy as cp"
   ]
  },
  {
   "cell_type": "code",
   "execution_count": 2,
   "metadata": {},
   "outputs": [],
   "source": [
    "from cupy.cuda import runtime as cuda_runtime\n",
    "cuda_runtime.setDevice(0)"
   ]
  },
  {
   "cell_type": "code",
   "execution_count": 3,
   "metadata": {},
   "outputs": [],
   "source": [
    "from src import Environment"
   ]
  },
  {
   "cell_type": "code",
   "execution_count": 4,
   "metadata": {},
   "outputs": [],
   "source": [
    "data_path = \"/storage/rando/data/nose_data_27_123.npy\" # INSERT YOUR PATH\n",
    "\n",
    "env = Environment(data=data_path,\n",
    "                  source_position=[13, 0],\n",
    "                  source_radius=2,\n",
    "                  margins=[14, 62],\n",
    "                  boundary_condition='no',\n",
    "                  start_zone='odor_present',\n",
    "                  odor_present_treshold=3e-6)"
   ]
  },
  {
   "cell_type": "code",
   "execution_count": 5,
   "metadata": {},
   "outputs": [
    {
     "data": {
      "image/png": "[encoded data removed]",
      "text/plain": [
       "<Figure size 1500x500 with 1 Axes>"
      ]
     },
     "metadata": {},
     "output_type": "display_data"
    }
   ],
   "source": [
    "env.plot()"
   ]
  },
  {
   "cell_type": "code",
   "execution_count": 7,
   "metadata": {},
   "outputs": [],
   "source": [
    "memory_size = 10\n",
    "time_disc = 500\n",
    "horizon = 1000\n",
    "num_episodes=100000#50000\n",
    "delta = 500\n",
    "gamma = 1.0\n",
    "eps_decay = 0.0001\n",
    "alpha_decay = 0.00001\n",
    "eps = lambda t : 0.9 * np.exp(-eps_decay * t)  #if np.exp(-eps_decay * t)  > 0.3 else 0.3\n",
    "alpha = lambda t : 0.5 * np.exp(-alpha_decay * t) # if np.exp(-alpha_decay * t) > 0.0001 else 0.0001 #0.3 * np.exp(-alpha_decay * t) > 0.001 else 0.001\n",
    "\n",
    "checkpoint_folder = \"./q_agent_training/checkpoints_4\"\n",
    "checkpoint_frequency = 5000\n",
    "\n",
    "\n",
    "ag = QAgent(env, \n",
    "            memory_size=memory_size, \n",
    "            treshold=3e-6,\n",
    "            time_disc=time_disc, \n",
    "            horizon=horizon,\n",
    "            num_episodes=num_episodes,\n",
    "            delta=delta,\n",
    "            eps_greedy= eps,\n",
    "            learning_rate=alpha,\n",
    "            gamma = gamma,\n",
    "            seed=13141516,\n",
    "            checkpoint_folder=checkpoint_folder,\n",
    "            checkpoint_frequency=checkpoint_frequency\n",
    "            )"
   ]
  },
  {
   "cell_type": "code",
   "execution_count": 8,
   "metadata": {},
   "outputs": [
    {
     "name": "stderr",
     "output_type": "stream",
     "text": [
      "100%|██████████| 100000/100000 [21:21<00:00, 78.06it/s, episode=1e+5, init_pos=[ 30 161], init time slice=1907, avg R_t=0.994, eps=4.085993678623637e-05, alpha=0.2575156088200096]   \n"
     ]
    }
   ],
   "source": [
    "np.random.seed(121314)\n",
    "training_result = ag.train()\n"
   ]
  },
  {
   "cell_type": "code",
   "execution_count": 9,
   "metadata": {},
   "outputs": [
    {
     "data": {
      "text/plain": [
       "array([[367.24027507,   0.        ,   0.        ,   0.        ],\n",
       "       [366.45140168, 349.76591446, 350.67464089, 350.45769149],\n",
       "       [366.49562761, 352.40840379, 357.64575295, 350.80146561],\n",
       "       ...,\n",
       "       [324.8036116 , 322.37398088, 367.00013933, 323.53057097],\n",
       "       [322.26777988, 322.97132227, 366.87736027, 326.69368232],\n",
       "       [366.78293805, 325.81348476, 329.69559578, 326.78575231]])"
      ]
     },
     "execution_count": 9,
     "metadata": {},
     "output_type": "execute_result"
    }
   ],
   "source": [
    "ag.Q"
   ]
  },
  {
   "cell_type": "code",
   "execution_count": 12,
   "metadata": {},
   "outputs": [
    {
     "name": "stdout",
     "output_type": "stream",
     "text": [
      "[0. 0.] [ 0. -1.]\n",
      "[ 0. -1.] [ 0. -2.]\n",
      "[ 0. -2.] [ 0. -3.]\n",
      "[ 0. -3.] [ 1. -3.]\n",
      "[ 1. -3.] [ 2. -3.]\n",
      "[ 2. -3.] [ 2. -4.]\n",
      "[ 2. -4.] [ 2. -5.]\n",
      "[ 2. -5.] [ 3. -5.]\n",
      "[ 3. -5.] [ 2. -5.]\n",
      "[ 2. -5.] [ 2. -6.]\n",
      "[ 2. -6.] [ 2. -5.]\n",
      "[ 2. -5.] [ 1. -5.]\n",
      "[ 1. -5.] [ 1. -6.]\n",
      "[ 1. -6.] [ 0. -6.]\n",
      "[ 0. -6.] [ 0. -5.]\n",
      "[ 0. -5.] [-1. -5.]\n",
      "[-1. -5.] [-2. -5.]\n",
      "[-2. -5.] [-1. -5.]\n",
      "[-1. -5.] [-1. -4.]\n",
      "[-1. -4.] [ 0. -4.]\n",
      "[ 0. -4.] [ 0. -5.]\n",
      "[ 0. -5.] [-1. -5.]\n",
      "[-1. -5.] [-2. -5.]\n",
      "[-2. -5.] [-2. -4.]\n",
      "[-2. -4.] [-3. -4.]\n",
      "[-3. -4.] [-2. -4.]\n",
      "[-2. -4.] [-3. -4.]\n",
      "[-3. -4.] [-3. -3.]\n",
      "[-3. -3.] [-3. -4.]\n",
      "[-3. -4.] [-3. -3.]\n",
      "[-3. -3.] [-3. -2.]\n",
      "[-3. -2.] [-3. -3.]\n",
      "[-3. -3.] [-3. -2.]\n",
      "[-3. -2.] [-3. -1.]\n",
      "[-3. -1.] [-4. -1.]\n",
      "[-4. -1.] [-4. -2.]\n",
      "[-4. -2.] [-5. -2.]\n",
      "[-5. -2.] [-4. -2.]\n",
      "[-4. -2.] [-4. -3.]\n",
      "[-4. -3.] [-4. -2.]\n",
      "[-4. -2.] [-3. -2.]\n",
      "[-3. -2.] [-3. -3.]\n",
      "[-3. -3.] [-3. -2.]\n",
      "[-3. -2.] [-3. -1.]\n",
      "[-3. -1.] [-2. -1.]\n",
      "[-2. -1.] [-2. -2.]\n",
      "[-2. -2.] [-1. -2.]\n",
      "[-1. -2.] [-1. -1.]\n",
      "[-1. -1.] [-2. -1.]\n",
      "[-2. -1.] [-2. -2.]\n"
     ]
    },
    {
     "data": {
      "text/plain": [
       "<matplotlib.legend.Legend at 0x7f438f877dc0>"
      ]
     },
     "execution_count": 12,
     "metadata": {},
     "output_type": "execute_result"
    },
    {
     "data": {
      "image/png": "[encoded data removed]",
      "text/plain": [
       "<Figure size 640x480 with 1 Axes>"
      ]
     },
     "metadata": {},
     "output_type": "display_data"
    }
   ],
   "source": [
    "pos = np.array([0.0, 0.0])\n",
    "fig, ax = plt.subplots()\n",
    "for i in range(50):\n",
    "    next_pos = pos + ag.action_set[ag.Q[i, :].argmax()]\n",
    "    print(pos, next_pos)\n",
    "#    print(\"[--] state = {}\\taction = {}\".format(i, ag.Q[i, :].argmax()))\n",
    "    ax.plot(next_pos[1], next_pos[0], 'o', c='black')\n",
    "    ax.annotate(\"\", xy=(next_pos[1], next_pos[0]), xytext=(pos[1], pos[0]), arrowprops=dict(arrowstyle='->', color='black'))\n",
    "    pos = next_pos\n",
    "ax.plot(0.0, 0.0, 'o', c='green', label='start')\n",
    "ax.legend()"
   ]
  },
  {
   "cell_type": "code",
   "execution_count": 13,
   "metadata": {},
   "outputs": [
    {
     "data": {
      "image/png": "[encoded data removed]",
      "text/plain": [
       "<Figure size 640x480 with 1 Axes>"
      ]
     },
     "metadata": {},
     "output_type": "display_data"
    }
   ],
   "source": [
    "average_cumulative_reward = training_result['average_cumulative_reward']\n",
    "\n",
    "fig, ax = plt.subplots()\n",
    "\n",
    "ax.plot(range(average_cumulative_reward.shape[0]), average_cumulative_reward, '-', lw=3, c='black')\n",
    "\n",
    "ax.set_xlabel(\"episode\")\n",
    "ax.set_ylabel(\"average cumulative reward\")\n",
    "\n",
    "fig.tight_layout()\n",
    "fig.savefig(\"./training_result.pdf\", bbox_inches='tight')"
   ]
  },
  {
   "cell_type": "code",
   "execution_count": 27,
   "metadata": {},
   "outputs": [
    {
     "data": {
      "text/plain": [
       "(25, 29)"
      ]
     },
     "execution_count": 27,
     "metadata": {},
     "output_type": "execute_result"
    }
   ],
   "source": [
    "(ag.Q.argmax(axis=1) == 2).sum(), (ag.Q.argmax(axis=1) == 3).sum()"
   ]
  },
  {
   "cell_type": "code",
   "execution_count": 14,
   "metadata": {},
   "outputs": [],
   "source": [
    "ag.deterministic = True"
   ]
  },
  {
   "cell_type": "code",
   "execution_count": null,
   "metadata": {},
   "outputs": [],
   "source": [
    "#ag.save(\"./\")"
   ]
  },
  {
   "cell_type": "code",
   "execution_count": 104,
   "metadata": {},
   "outputs": [],
   "source": [
    "ag.load(\".\")"
   ]
  },
  {
   "cell_type": "code",
   "execution_count": 15,
   "metadata": {},
   "outputs": [
    {
     "name": "stdout",
     "output_type": "stream",
     "text": [
      "[--] Time shift = 0\n"
     ]
    },
    {
     "name": "stderr",
     "output_type": "stream",
     "text": [
      "  0%|          | 0/1000 [00:00<?, ?it/s]"
     ]
    },
    {
     "name": "stderr",
     "output_type": "stream",
     "text": [
      "100%|██████████| 1000/1000 [00:04<00:00, 238.74it/s, done =98480 of 100000 (98.5%)]\n"
     ]
    },
    {
     "name": "stdout",
     "output_type": "stream",
     "text": [
      "Simulations done in 4.191s:\n",
      "Simulations reached goal: 98480/100000 (1520 failures) (98.48%)\n",
      "\t- Average step count: 147.17638 (Successfull only: 134.01338342810723)\n",
      "\t- Extra steps: 76.22483 (Successful only: 63.388139723801785)\n",
      "\t- Average discounted rewards (ADR): 0.352 (Successfull only: 0.357) (discount: 0.99)\n",
      "\t- Tmin/T: 0.658 (Successful only: 0.667)\n",
      "[--] Time shift = 100\n"
     ]
    },
    {
     "name": "stderr",
     "output_type": "stream",
     "text": [
      "100%|██████████| 1000/1000 [00:04<00:00, 246.51it/s, done =99406 of 100000 (99.4%)]\n"
     ]
    },
    {
     "name": "stdout",
     "output_type": "stream",
     "text": [
      "Simulations done in 4.058s:\n",
      "Simulations reached goal: 99406/100000 (594 failures) (99.41%)\n",
      "\t- Average step count: 141.21146 (Successfull only: 136.07977385670884)\n",
      "\t- Extra steps: 70.08504 (Successful only: 65.13105848741525)\n",
      "\t- Average discounted rewards (ADR): 0.350 (Successfull only: 0.352) (discount: 0.99)\n",
      "\t- Tmin/T: 0.653 (Successful only: 0.657)\n",
      "[--] Time shift = 1000\n"
     ]
    },
    {
     "name": "stderr",
     "output_type": "stream",
     "text": [
      "100%|██████████| 1000/1000 [00:04<00:00, 231.18it/s, done =97788 of 100000 (97.8%)]\n"
     ]
    },
    {
     "name": "stdout",
     "output_type": "stream",
     "text": [
      "Simulations done in 4.327s:\n",
      "Simulations reached goal: 97788/100000 (2212 failures) (97.79%)\n",
      "\t- Average step count: 154.19084 (Successfull only: 135.05833026547225)\n",
      "\t- Extra steps: 82.97649 (Successful only: 63.15666543952223)\n",
      "\t- Average discounted rewards (ADR): 0.338 (Successfull only: 0.346) (discount: 0.99)\n",
      "\t- Tmin/T: 0.647 (Successful only: 0.661)\n",
      "[--] Time shift = 2000\n"
     ]
    },
    {
     "name": "stderr",
     "output_type": "stream",
     "text": [
      " 60%|█████▉    | 597/1000 [00:03<00:02, 176.05it/s, done =98608 of 100000 (98.6%)]\n"
     ]
    },
    {
     "name": "stdout",
     "output_type": "stream",
     "text": [
      "Simulations done in 3.393s:\n",
      "Simulations reached goal: 98608/100000 (1392 failures) (98.61%)\n",
      "\t- Average step count: 135.5113 (Successfull only: 128.98257747850073)\n",
      "\t- Extra steps: 64.35253 (Successful only: 57.540057601817296)\n",
      "\t- Average discounted rewards (ADR): 0.354 (Successfull only: 0.359) (discount: 0.99)\n",
      "\t- Tmin/T: 0.667 (Successful only: 0.675)\n",
      "[--] Time shift = 2400\n"
     ]
    },
    {
     "name": "stderr",
     "output_type": "stream",
     "text": [
      " 20%|█▉        | 197/1000 [00:02<00:10, 79.13it/s, done =77572 of 100000 (77.6%)] \n"
     ]
    },
    {
     "name": "stdout",
     "output_type": "stream",
     "text": [
      "Simulations done in 2.491s:\n",
      "Simulations reached goal: 77572/100000 (22428 failures) (77.57%)\n",
      "\t- Average step count: 120.80157 (Successfull only: 98.48157840457897)\n",
      "\t- Extra steps: 49.6427 (Successful only: 33.74024132418914)\n",
      "\t- Average discounted rewards (ADR): 0.357 (Successfull only: 0.420) (discount: 0.99)\n",
      "\t- Tmin/T: 0.670 (Successful only: 0.727)\n"
     ]
    }
   ],
   "source": [
    "from src.simulation import run_test\n",
    "\n",
    "histories = {i:None for i in [0, 100, 1000, 2000, 2400]}\n",
    "for time_shift in histories.keys():\n",
    "    print(f\"[--] Time shift = {time_shift}\")\n",
    "    histories[time_shift] = run_test(n=100000, agent=ag, horizon=1000, time_shift=time_shift,  use_gpu=False)"
   ]
  },
  {
   "cell_type": "code",
   "execution_count": 9,
   "metadata": {},
   "outputs": [
    {
     "name": "stdout",
     "output_type": "stream",
     "text": [
      "Simulations saved to: ./Simulations-s_55_247-n_10000-horizon_198-04182024_110753.csv\n"
     ]
    }
   ],
   "source": [
    "hist.save()"
   ]
  },
  {
   "cell_type": "code",
   "execution_count": 16,
   "metadata": {},
   "outputs": [
    {
     "ename": "NameError",
     "evalue": "name 'hist' is not defined",
     "output_type": "error",
     "traceback": [
      "\u001b[0;31m---------------------------------------------------------------------------\u001b[0m",
      "\u001b[0;31mNameError\u001b[0m                                 Traceback (most recent call last)",
      "Cell \u001b[0;32mIn[16], line 1\u001b[0m\n\u001b[0;32m----> 1\u001b[0m \u001b[43mhist\u001b[49m\u001b[38;5;241m.\u001b[39mplot(\u001b[38;5;241m14\u001b[39m)\n",
      "\u001b[0;31mNameError\u001b[0m: name 'hist' is not defined"
     ]
    }
   ],
   "source": [
    "hist.plot(14)"
   ]
  },
  {
   "cell_type": "code",
   "execution_count": null,
   "metadata": {},
   "outputs": [
    {
     "data": {
      "text/plain": [
       "array([133.77937272, 133.71913402, 133.71757199, 133.72083726])"
      ]
     },
     "execution_count": 18,
     "metadata": {},
     "output_type": "execute_result"
    }
   ],
   "source": [
    "ag.Q[0, :]"
   ]
  }
 ],
 "metadata": {
  "kernelspec": {
   "display_name": "pomdp_olf_nav_env",
   "language": "python",
   "name": "python3"
  },
  "language_info": {
   "codemirror_mode": {
    "name": "ipython",
    "version": 3
   },
   "file_extension": ".py",
   "mimetype": "text/x-python",
   "name": "python",
   "nbconvert_exporter": "python",
   "pygments_lexer": "ipython3",
   "version": "3.10.14"
  }
 },
 "nbformat": 4,
 "nbformat_minor": 2
}
