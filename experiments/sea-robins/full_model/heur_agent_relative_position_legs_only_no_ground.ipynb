{
 "cells": [
  {
   "cell_type": "code",
   "execution_count": 1,
   "metadata": {},
   "outputs": [],
   "source": [
    "import sys\n",
    "sys.path.append('../../..')\n",
    "\n",
    "from olfactory_navigation import Environment\n",
    "from heuristic_spiral_agent import HeuristicSpiralAgent\n",
    "from olfactory_navigation.simulation import run_test\n",
    "\n",
    "from olfactory_navigation.agents.model_based_util.pomdp import Model\n",
    "from olfactory_navigation.agents.model_based_util.belief import BeliefSet\n",
    "from viz import plot_trajectory_in_tank\n",
    "from util import generate_results_plots, generate_results_pdf, generate_trajectories_pdf\n",
    "\n",
    "from matplotlib import pyplot as plt\n",
    "from datetime import datetime\n",
    "\n",
    "import pandas as pd\n",
    "import numpy as np\n",
    "import os"
   ]
  },
  {
   "cell_type": "code",
   "execution_count": 2,
   "metadata": {},
   "outputs": [],
   "source": [
    "from cupy.cuda import runtime as cuda_runtime\n",
    "cuda_runtime.setDevice(3)"
   ]
  },
  {
   "cell_type": "markdown",
   "metadata": {},
   "source": [
    "## Parameters"
   ]
  },
  {
   "cell_type": "code",
   "execution_count": 3,
   "metadata": {},
   "outputs": [
    {
     "name": "stdout",
     "output_type": "stream",
     "text": [
      "Tank size: [90, 114]; Space shape [181, 229]; States count: 41449\n",
      "max_steps=4500\n"
     ]
    }
   ],
   "source": [
    "# Fixed variables\n",
    "actual_tank_size = np.array([90,114]) # actual size: 90cm x 114cm but it is scaled by a walking speed of <multiplier>\n",
    "step_dist = 1 # 1cm per step\n",
    "step_dt = 0.2 # 0.2s per step - It's the min dt we computed but it's to set when we have actual values\n",
    "max_time = 900 # seconds\n",
    "goal_radius = 1 # cm\n",
    "\n",
    "# Derived variables\n",
    "tank_size = actual_tank_size // step_dist\n",
    "max_steps = int(max_time / step_dt)\n",
    "\n",
    "# Environment variables\n",
    "space_shape = (tank_size * 2) + 1\n",
    "source_position = tank_size\n",
    "\n",
    "print(f'Tank size: {tank_size.tolist()}; Space shape {space_shape.tolist()}; States count: {space_shape.prod()}')\n",
    "print(f'{max_steps=}')"
   ]
  },
  {
   "cell_type": "code",
   "execution_count": 4,
   "metadata": {},
   "outputs": [],
   "source": [
    "spiral_width = 4"
   ]
  },
  {
   "cell_type": "code",
   "execution_count": 5,
   "metadata": {},
   "outputs": [],
   "source": [
    "# Folder variables\n",
    "experiment_data_file = f'/storage/arnaud/datasets/2024_11_22_sea_robins_experimental_data/experimental_positions.csv'\n",
    "test_result_folder = f'/storage/arnaud/results/sea_robins/2025_01_31-results-only_legs_spiral/results-spiral_width_{spiral_width}-{datetime.now().strftime(\"%Y%m%d_%H%M%S\")}/'"
   ]
  },
  {
   "cell_type": "markdown",
   "metadata": {},
   "source": [
    "## Building POMDP Model"
   ]
  },
  {
   "cell_type": "code",
   "execution_count": 6,
   "metadata": {},
   "outputs": [],
   "source": [
    "# Legs odor field\n",
    "odor_field = np.zeros(space_shape)\n",
    "odor_field_indices = np.array(list(np.ndindex(tuple(space_shape))))\n",
    "\n",
    "in_odor_plume = np.sum((odor_field_indices - source_position[None,:])**2, axis=1) <= (0 ** 2)\n",
    "odor_field[*odor_field_indices[in_odor_plume].T] = 1.0"
   ]
  },
  {
   "cell_type": "code",
   "execution_count": 7,
   "metadata": {},
   "outputs": [],
   "source": [
    "thresholds = np.array([-np.inf,0.5,np.inf])\n",
    "action_set = np.array([\n",
    "    [-1,  0], # North\n",
    "    [ 0,  1], # East\n",
    "    [ 1,  0], # South\n",
    "    [ 0, -1]  # West\n",
    "])\n",
    "action_labels = [\n",
    "    'North',\n",
    "    'East',\n",
    "    'South',\n",
    "    'West'\n",
    "]"
   ]
  },
  {
   "cell_type": "code",
   "execution_count": 8,
   "metadata": {},
   "outputs": [],
   "source": [
    "# Base Model parameters\n",
    "state_count = np.prod(space_shape)\n",
    "\n",
    "state_grid = [[f's_{x}_{y}' for x in range(space_shape[1])] for y in range(space_shape[0])]\n",
    "# Modified to not include edge, just the ones inside the circle ( < instead of <=)\n",
    "end_states = np.argwhere(np.fromfunction(lambda x,y: ((x-source_position[0])**2 + (y-source_position[1])**2) < goal_radius**2,\n",
    "                                            shape=space_shape).ravel())[:,0].tolist()\n",
    "\n",
    "# Counts\n",
    "action_count = len(action_set)\n",
    "observation_count = thresholds.shape[-1] # Thresholds minus 1; plus 1 for the goal.\n",
    "\n",
    "# Building observation matrix\n",
    "observations = np.empty((state_count, action_count, observation_count), dtype=float)\n",
    "\n",
    "observations[:,:,1] = odor_field.ravel()[:,None] # legs\n",
    "observations[:,:,0] = 1.0 - observations[:,:,1] # Nothing\n",
    "\n",
    "# Goal observation\n",
    "observations[:,:,-1] = 0.0\n",
    "observations[end_states,:,:] = 0.0\n",
    "observations[end_states,:,-1] = 1.0\n",
    "\n",
    "# Assert observations sum to 1\n",
    "assert np.all(np.sum(observations, axis=2) == 1.0), \"Observation table malformed, something is wrong...\"\n",
    "\n",
    "# Observation labels\n",
    "observation_labels = ['nothing', 'something_legs', 'goal']\n",
    "\n",
    "# Compute reachable states\n",
    "points = np.array(np.unravel_index(np.arange(np.prod(space_shape)), space_shape)).T\n",
    "\n",
    "# For each actions compute all new grid points (using the environment.move method)\n",
    "action_new_states = []\n",
    "movements = action_set\n",
    "for move_vector in movements:\n",
    "\n",
    "    # Applying the movement vector\n",
    "    new_points = points + move_vector\n",
    "\n",
    "    # Wrap points\n",
    "    new_points = np.where(new_points < 0, (new_points + space_shape[None,:]), new_points)\n",
    "    new_points = np.where(new_points >= space_shape[None,:], (new_points - space_shape[None,:]), new_points)\n",
    "\n",
    "    new_states = np.ravel_multi_index((new_points[:,0], new_points[:,1]), dims=space_shape)\n",
    "    action_new_states.append(new_states)\n",
    "\n",
    "# Forming it the reachable states array from the new states for each action\n",
    "reachable_states = np.array(action_new_states).T[:,:,None]\n",
    "\n",
    "# Instantiate the model object\n",
    "model = Model(\n",
    "    states = state_grid,\n",
    "    actions = action_labels,\n",
    "    observations = observation_labels,\n",
    "    reachable_states = reachable_states,\n",
    "    observation_table = observations,\n",
    "    end_states = end_states\n",
    ")"
   ]
  },
  {
   "cell_type": "markdown",
   "metadata": {},
   "source": [
    "## Building environment"
   ]
  },
  {
   "cell_type": "code",
   "execution_count": 9,
   "metadata": {},
   "outputs": [],
   "source": [
    "env = Environment(data_file=odor_field[None,:,:],\n",
    "                  data_source_position=tank_size,\n",
    "                  source_radius=goal_radius,\n",
    "                  boundary_condition='wrap')"
   ]
  },
  {
   "cell_type": "code",
   "execution_count": 10,
   "metadata": {},
   "outputs": [
    {
     "data": {
      "image/png": "[encoded data removed]",
      "text/plain": [
       "<Figure size 1500x500 with 1 Axes>"
      ]
     },
     "metadata": {},
     "output_type": "display_data"
    }
   ],
   "source": [
    "env.plot()"
   ]
  },
  {
   "cell_type": "markdown",
   "metadata": {},
   "source": [
    "## Run test"
   ]
  },
  {
   "cell_type": "code",
   "execution_count": 11,
   "metadata": {},
   "outputs": [],
   "source": [
    "ag = HeuristicSpiralAgent(env,\n",
    "                          model=model,\n",
    "                          spiral_step=spiral_width,\n",
    "                          thresholds=thresholds.tolist())"
   ]
  },
  {
   "cell_type": "markdown",
   "metadata": {},
   "source": [
    "### Experimental data"
   ]
  },
  {
   "cell_type": "code",
   "execution_count": 12,
   "metadata": {},
   "outputs": [],
   "source": [
    "df = pd.read_csv(experiment_data_file)"
   ]
  },
  {
   "cell_type": "code",
   "execution_count": 13,
   "metadata": {},
   "outputs": [],
   "source": [
    "exp_source_indices = df[['y_food_cm','x_food_cm']].to_numpy().astype(float)\n",
    "exp_agent_indices = df[['y0_cm', 'x0_cm']].to_numpy().astype(float)\n",
    "\n",
    "exp_source_indices /= step_dist\n",
    "exp_agent_indices /= step_dist\n",
    "\n",
    "exp_source_indices = exp_source_indices.astype(int)\n",
    "exp_agent_indices = exp_agent_indices.astype(int)"
   ]
  },
  {
   "cell_type": "code",
   "execution_count": 14,
   "metadata": {},
   "outputs": [],
   "source": [
    "# Generation of points\n",
    "n = len(exp_source_indices)\n",
    "\n",
    "# STATE SPACE\n",
    "center_state = exp_agent_indices\n",
    "agent_start_state = center_state + (tank_size[None,:] - exp_source_indices)\n",
    "\n",
    "beliefs = []\n",
    "\n",
    "for center, start in zip(center_state, agent_start_state):\n",
    "    belief = np.zeros(space_shape)\n",
    "    belief[center[0]:center[0]+tank_size[0], center[1]:center[1]+tank_size[1]] = 1\n",
    "    belief /= np.sum(belief)\n",
    "\n",
    "    beliefs.append(belief.flatten())\n",
    "\n",
    "beliefs = np.array(beliefs)"
   ]
  },
  {
   "cell_type": "code",
   "execution_count": 15,
   "metadata": {},
   "outputs": [
    {
     "name": "stdout",
     "output_type": "stream",
     "text": [
      "Using the provided environment, not the agent environment.\n",
      "[01/31/2025, 15:14:52] Sending Model to GPU...\n",
      "[01/31/2025, 15:14:52]     > Done in 0.004s\n"
     ]
    },
    {
     "data": {
      "application/vnd.jupyter.widget-view+json": {
       "model_id": "f2e8f9dda1fd4525be0276f4510bc4e0",
       "version_major": 2,
       "version_minor": 0
      },
      "text/plain": [
       "  0%|          | 0/4500 [00:00<?, ?it/s]"
      ]
     },
     "metadata": {},
     "output_type": "display_data"
    }
   ],
   "source": [
    "all_hist = run_test(agent=ag,\n",
    "                    start_points=agent_start_state,\n",
    "                    environment=env,\n",
    "                    # horizon=200,\n",
    "                    horizon=max_steps,\n",
    "                    initialization_values={'belief': BeliefSet(ag.model, beliefs)},\n",
    "                    use_gpu=True,\n",
    "                    print_stats=False)"
   ]
  },
  {
   "cell_type": "code",
   "execution_count": 16,
   "metadata": {},
   "outputs": [
    {
     "data": {
      "image/png": "[encoded data removed]",
      "text/plain": [
       "<Figure size 1000x1000 with 1 Axes>"
      ]
     },
     "metadata": {},
     "output_type": "display_data"
    }
   ],
   "source": [
    "fig, ax = plt.subplots(figsize=(10,10))\n",
    "plot_trajectory_in_tank(h = all_hist,\n",
    "                        exp_agent = exp_agent_indices,\n",
    "                        exp_source = exp_source_indices,\n",
    "                        t_size = tank_size,\n",
    "                        traj = 47,\n",
    "                        ax = ax)"
   ]
  },
  {
   "cell_type": "code",
   "execution_count": 17,
   "metadata": {},
   "outputs": [
    {
     "data": {
      "image/png": "[encoded data removed]",
      "text/plain": [
       "<Figure size 1800x300 with 1 Axes>"
      ]
     },
     "metadata": {},
     "output_type": "display_data"
    }
   ],
   "source": [
    "all_hist.plot_successes()"
   ]
  },
  {
   "cell_type": "code",
   "execution_count": 18,
   "metadata": {},
   "outputs": [],
   "source": [
    "if not os.path.exists(test_result_folder):\n",
    "    os.makedirs(test_result_folder)"
   ]
  },
  {
   "cell_type": "code",
   "execution_count": 19,
   "metadata": {},
   "outputs": [
    {
     "data": {
      "image/png": "[encoded data removed]",
      "text/plain": [
       "<Figure size 640x480 with 2 Axes>"
      ]
     },
     "metadata": {},
     "output_type": "display_data"
    }
   ],
   "source": [
    "plt.imshow(odor_field, cmap='Greys')\n",
    "plt.colorbar()\n",
    "plt.savefig(test_result_folder + 'plume.png')"
   ]
  },
  {
   "cell_type": "code",
   "execution_count": 20,
   "metadata": {},
   "outputs": [
    {
     "name": "stdout",
     "output_type": "stream",
     "text": [
      "Simulations saved to: /storage/arnaud/results/sea_robins/2025_01_31-results-only_legs_spiral/results-spiral_width_4-20250131_151452/Simulations-s_181_229-n_116-20250131_151453-horizon_4500.csv\n",
      "Simulation's runs analysis saved to: /storage/arnaud/results/sea_robins/2025_01_31-results-only_legs_spiral/results-spiral_width_4-20250131_151452/Simulations-s_181_229-n_116-20250131_151453-horizon_4500-runs_analysis.csv\n",
      "Simulation's general analysis saved to: /storage/arnaud/results/sea_robins/2025_01_31-results-only_legs_spiral/results-spiral_width_4-20250131_151452/Simulations-s_181_229-n_116-20250131_151453-horizon_4500-general_analysis.csv\n"
     ]
    }
   ],
   "source": [
    "all_hist.save(folder=test_result_folder)"
   ]
  },
  {
   "cell_type": "code",
   "execution_count": 21,
   "metadata": {},
   "outputs": [
    {
     "name": "stdout",
     "output_type": "stream",
     "text": [
      "Simulations with steps out of bounds: 29 / 116 (avg length 1605.28)\n",
      "   - Inside 0%: 87\n",
      "   - Inside 5%: 88\n",
      "   - Inside 10%: 88\n",
      "   - Inside 25%: 88\n"
     ]
    }
   ],
   "source": [
    "# Computing the amount of steps out of bounds\n",
    "list_steps_out_of_bounds = []\n",
    "\n",
    "for traj in range(len(exp_agent_indices)):\n",
    "    # Retrieving sim\n",
    "    sim = all_hist.simulation_dfs[traj]\n",
    "\n",
    "    # Compute shift\n",
    "    start_coord = sim[['y', 'x']].to_numpy()[0]\n",
    "    shift = start_coord - exp_agent_indices[traj] + 1\n",
    "\n",
    "    # Retrieving sequence\n",
    "    seq = sim[['y','x']].to_numpy() - shift[None,:]\n",
    "\n",
    "    # Computing steps out of bounds\n",
    "    steps_out_of_bounds = np.sum(np.any((seq < 0) | (seq >= tank_size), axis=1))\n",
    "\n",
    "    # Compute the bounds for 5% and 10% of tank_size\n",
    "    bounds_5_percent = tank_size * 0.05\n",
    "    bounds_10_percent = tank_size * 0.10\n",
    "    bounds_25_percent = tank_size * 0.25\n",
    "\n",
    "    # Compute steps out of bounds by 5% and 10% using Manhattan distance\n",
    "    steps_out_of_bounds_5_percent = np.sum(np.any((seq < -bounds_5_percent) | (seq >= tank_size + bounds_5_percent), axis=1))\n",
    "    steps_out_of_bounds_10_percent = np.sum(np.any((seq < -bounds_10_percent) | (seq >= tank_size + bounds_10_percent), axis=1))\n",
    "    steps_out_of_bounds_25_percent = np.sum(np.any((seq < -bounds_25_percent) | (seq >= tank_size + bounds_25_percent), axis=1))\n",
    "\n",
    "    # Append the results to the list\n",
    "    list_steps_out_of_bounds.append([steps_out_of_bounds, steps_out_of_bounds_5_percent, steps_out_of_bounds_10_percent, steps_out_of_bounds_25_percent])\n",
    "\n",
    "array_steps_out_of_bounds = np.array(list_steps_out_of_bounds)\n",
    "out_of_bounds_amount = np.sum(array_steps_out_of_bounds > 0, axis=1)\n",
    "\n",
    "count_out_of_bounds = len(np.argwhere(array_steps_out_of_bounds[:,0]))\n",
    "\n",
    "print(f'Simulations with steps out of bounds: {count_out_of_bounds} / {len(array_steps_out_of_bounds[:,0])}' + ('' if count_out_of_bounds == 0 else f' (avg length {np.mean(array_steps_out_of_bounds[array_steps_out_of_bounds[:,0] > 0, 0]):.2f})'))\n",
    "tot = 0\n",
    "for i, bound in enumerate([0, 5, 10, 25]):\n",
    "    count = np.sum(out_of_bounds_amount == i)\n",
    "    tot += count\n",
    "    print(f'   - Inside {bound}%: {tot}')"
   ]
  },
  {
   "cell_type": "markdown",
   "metadata": {},
   "source": [
    "## Result Plots"
   ]
  },
  {
   "cell_type": "code",
   "execution_count": 22,
   "metadata": {},
   "outputs": [],
   "source": [
    "params = {\n",
    "    'tank_size': tank_size,\n",
    "    'step_dt': step_dt,\n",
    "    'step_dist': step_dist,\n",
    "}\n",
    "exp_results = {\n",
    "    'new_order_exp_agent_indices': exp_agent_indices,\n",
    "    'new_order_exp_source_indices': exp_source_indices,\n",
    "    'out_of_bounds_amount': out_of_bounds_amount\n",
    "}\n",
    "generate_results_plots(test_result_folder, all_hist, params, exp_results)"
   ]
  },
  {
   "cell_type": "markdown",
   "metadata": {},
   "source": [
    "## Result Pdfs"
   ]
  },
  {
   "cell_type": "code",
   "execution_count": 23,
   "metadata": {},
   "outputs": [
    {
     "name": "stdout",
     "output_type": "stream",
     "text": [
      "PDF saved as /storage/arnaud/results/sea_robins/2025_01_31-results-only_legs_spiral/results-spiral_width_4-20250131_151452/results_pdfs/results_plots_all.pdf\n",
      "PDF saved as /storage/arnaud/results/sea_robins/2025_01_31-results-only_legs_spiral/results-spiral_width_4-20250131_151452/results_pdfs/results_plots_in_0perc_marg.pdf\n",
      "PDF saved as /storage/arnaud/results/sea_robins/2025_01_31-results-only_legs_spiral/results-spiral_width_4-20250131_151452/results_pdfs/results_plots_in_5perc_marg.pdf\n",
      "PDF saved as /storage/arnaud/results/sea_robins/2025_01_31-results-only_legs_spiral/results-spiral_width_4-20250131_151452/results_pdfs/results_plots_in_10perc_marg.pdf\n",
      "PDF saved as /storage/arnaud/results/sea_robins/2025_01_31-results-only_legs_spiral/results-spiral_width_4-20250131_151452/results_pdfs/results_plots_in_25perc_marg.pdf\n",
      "Trajectory PDF saved as /storage/arnaud/results/sea_robins/2025_01_31-results-only_legs_spiral/results-spiral_width_4-20250131_151452/results_pdfs/trajectories.pdf\n"
     ]
    }
   ],
   "source": [
    "generate_results_pdf(test_result_folder, only_legs=True)\n",
    "generate_trajectories_pdf(test_result_folder)"
   ]
  }
 ],
 "metadata": {
  "kernelspec": {
   "display_name": "pomdp_olf_nav_env",
   "language": "python",
   "name": "python3"
  },
  "language_info": {
   "codemirror_mode": {
    "name": "ipython",
    "version": 3
   },
   "file_extension": ".py",
   "mimetype": "text/x-python",
   "name": "python",
   "nbconvert_exporter": "python",
   "pygments_lexer": "ipython3",
   "version": "3.11.9"
  }
 },
 "nbformat": 4,
 "nbformat_minor": 2
}
