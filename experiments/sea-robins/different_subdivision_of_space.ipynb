{
 "cells": [
  {
   "cell_type": "code",
   "execution_count": 2,
   "metadata": {},
   "outputs": [],
   "source": [
    "import numpy as np\n",
    "from matplotlib import pyplot as plt\n",
    "from sklearn.metrics import confusion_matrix"
   ]
  },
  {
   "cell_type": "markdown",
   "metadata": {},
   "source": [
    "# Splitting a grid into cardinal quarters"
   ]
  },
  {
   "cell_type": "code",
   "execution_count": 3,
   "metadata": {},
   "outputs": [],
   "source": [
    "n = 18\n",
    "shape = np.array([n,n])"
   ]
  },
  {
   "cell_type": "code",
   "execution_count": 4,
   "metadata": {},
   "outputs": [
    {
     "data": {
      "image/png": "[encoded data removed]",
      "text/plain": [
       "<Figure size 640x480 with 2 Axes>"
      ]
     },
     "metadata": {},
     "output_type": "display_data"
    }
   ],
   "source": [
    "array = np.zeros(shape)\n",
    "center = ((shape-1) / 2)\n",
    "\n",
    "# Finding indices\n",
    "indices_list = list(np.ndindex(array.shape))\n",
    "indices_array = np.array(indices_list)\n",
    "\n",
    "# From the indices finding the points and converting them to the imaginary grid\n",
    "points = indices_array - center\n",
    "points_im = points[:,0] + (points[:,1] * 1j)\n",
    "\n",
    "# Shifting the points by 4 times by 90degrees and computing the angles\n",
    "shifted_points_im = points_im[:,None] * np.array([1, 1j, -1, -1j])\n",
    "angles = np.angle(shifted_points_im, deg=True)\n",
    "\n",
    "# Computing the closest quarter for each point and assigning it on the grid\n",
    "closest_quarter = np.argmin(np.abs(angles) + np.where(angles < 0, 0, 1), axis=1)\n",
    "array[*indices_array.T] = closest_quarter\n",
    "\n",
    "# Plot results\n",
    "plt.imshow(array)\n",
    "plt.colorbar()\n",
    "plt.show()"
   ]
  },
  {
   "cell_type": "markdown",
   "metadata": {},
   "source": [
    "# Splitting space from an amount of subdivisions"
   ]
  },
  {
   "cell_type": "code",
   "execution_count": 5,
   "metadata": {},
   "outputs": [],
   "source": [
    "# ! Fixed variables\n",
    "space_shape = np.array([101,101])\n",
    "cells = np.array([3,3])\n",
    "\n",
    "# Source\n",
    "source_position = np.array([33,33])\n",
    "source_radius = 4"
   ]
  },
  {
   "cell_type": "code",
   "execution_count": 6,
   "metadata": {},
   "outputs": [
    {
     "data": {
      "image/png": "[encoded data removed]",
      "text/plain": [
       "<Figure size 640x480 with 1 Axes>"
      ]
     },
     "metadata": {},
     "output_type": "display_data"
    }
   ],
   "source": [
    "# Finding the sizes of the cells\n",
    "cell_size_standard = (space_shape / cells).astype(int)\n",
    "cell_size_overflow = (space_shape % cells).astype(int)\n",
    "\n",
    "# Determining cell sizes\n",
    "cell_sizes = []\n",
    "for ax_cells, ax_size, ax_overflow in zip(cells, cell_size_standard, cell_size_overflow):\n",
    "    sizes = np.repeat(ax_size, ax_cells)\n",
    "    sizes[:int(np.floor(ax_overflow/2))] += 1\n",
    "    sizes[-int(np.ceil(ax_overflow/2)):] += 1\n",
    "    cell_sizes.append(sizes)\n",
    "\n",
    "# Finding the edges of the cells and filling a grid with ids\n",
    "cell_edges = [np.concatenate(([0], np.cumsum(ax_sizes))) for ax_sizes in cell_sizes]\n",
    "\n",
    "lower_bounds = np.array([ax_arr.ravel() for ax_arr in np.meshgrid(*[bounds_arr[:-1] for bounds_arr in cell_edges], indexing='ij')]).T\n",
    "upper_bounds = np.array([ax_arr.ravel() for ax_arr in np.meshgrid(*[bounds_arr[1 :] for bounds_arr in cell_edges], indexing='ij')]).T\n",
    "\n",
    "grid_cells = np.full(space_shape, -1)\n",
    "for i, (lower_b, upper_b) in enumerate(zip(lower_bounds, upper_bounds)):\n",
    "    slices = [slice(ax_lower, ax_upper) for ax_lower, ax_upper in zip(lower_b, upper_b)]\n",
    "\n",
    "    # Grid to cell mapping\n",
    "    grid_cells[*slices] = i\n",
    "\n",
    "# Finding cell the replace\n",
    "source_cell_id = grid_cells[*source_position]\n",
    "source_cell = np.array(np.unravel_index(source_cell_id, cells))\n",
    "\n",
    "# Finding center and replacing with closest side\n",
    "source_cell_shape = np.array([sizes[int(ax_id)] for sizes, ax_id in zip(cell_sizes, source_cell)])\n",
    "source_in_source_cell = source_position - lower_bounds[source_cell_id]\n",
    "\n",
    "# Splitting the center cell grid into cardinal quarters\n",
    "array = np.zeros(source_cell_shape)\n",
    "\n",
    "# Finding indices\n",
    "indices_list = list(np.ndindex(array.shape))\n",
    "indices_array = np.array(indices_list)\n",
    "\n",
    "# From the indices finding the points and converting them to the imaginary grid\n",
    "points = indices_array - source_in_source_cell\n",
    "points_im = points[:,0] + (points[:,1] * 1j)\n",
    "\n",
    "# Shifting the points by 4 times by 90degrees and computing the angles\n",
    "shifted_points_im = points_im[:,None] * np.array([1, 1j, -1, -1j])\n",
    "angles = np.angle(shifted_points_im, deg=True)\n",
    "\n",
    "# # Finding edge cells\n",
    "edge_cells = source_cell[None,:] + np.array([[1,0],[0,-1],[-1,0],[0,1]])\n",
    "edge_exists = np.all((edge_cells >= 0) & (edge_cells < cells), axis=1)\n",
    "edge_cells[~edge_exists] = source_cell[None,:]\n",
    "edge_cells_id = np.ravel_multi_index(edge_cells.T, cells)\n",
    "\n",
    "# Computing the closest quarter for each point and assigning it on the grid\n",
    "closest_quarter = np.argmin(np.abs(angles) + np.where(angles < 0, 0, 1), axis=1)\n",
    "array[*indices_array.T] = edge_cells_id[closest_quarter]\n",
    "# array[*indices_array.T] = (np.arange(4) + np.prod(cells))[closest_quarter]\n",
    "\n",
    "# Inserting in the grid\n",
    "source_cell_slices = [slice(ax_lower, ax_upper) for ax_lower, ax_upper in zip(lower_bounds[source_cell_id], upper_bounds[source_cell_id])]\n",
    "grid_cells[*source_cell_slices] = array\n",
    "\n",
    "# Spacial indices\n",
    "spacial_indices = list(np.ndindex(tuple(space_shape)))\n",
    "spacial_indices_array = np.array(spacial_indices).astype(int)\n",
    "\n",
    "# Indices are at source\n",
    "at_source = np.sum((source_position[None,:] - spacial_indices_array) ** 2, axis=1) <= source_radius ** 2\n",
    "grid_cells[*spacial_indices_array[at_source].T] = -1\n",
    "\n",
    "\n",
    "# Plot results\n",
    "plt.imshow(grid_cells)\n",
    "plt.show()"
   ]
  },
  {
   "cell_type": "markdown",
   "metadata": {},
   "source": [
    "# Building it into a function"
   ]
  },
  {
   "cell_type": "code",
   "execution_count": 7,
   "metadata": {},
   "outputs": [],
   "source": [
    "def build_grid_mapping(space_shape: np.ndarray = np.array([101,101]),\n",
    "                       cells: np.ndarray = np.array([3,3]),\n",
    "                       source_position: np.ndarray = np.array([50,50]),\n",
    "                       source_radius: int = 4\n",
    "                       ) -> np.ndarray:\n",
    "    # Finding the sizes of the cells\n",
    "    cell_size_standard = (space_shape / cells).astype(int)\n",
    "    cell_size_overflow = (space_shape % cells).astype(int)\n",
    "\n",
    "    # Determining cell sizes\n",
    "    cell_sizes = []\n",
    "    for ax_cells, ax_size, ax_overflow in zip(cells, cell_size_standard, cell_size_overflow):\n",
    "        sizes = np.repeat(ax_size, ax_cells)\n",
    "        sizes[:int(np.floor(ax_overflow/2))] += 1\n",
    "        sizes[-int(np.ceil(ax_overflow/2)):] += 1\n",
    "        cell_sizes.append(sizes)\n",
    "\n",
    "    # Finding the edges of the cells and filling a grid with ids\n",
    "    cell_edges = [np.concatenate(([0], np.cumsum(ax_sizes))) for ax_sizes in cell_sizes]\n",
    "\n",
    "    lower_bounds = np.array([ax_arr.ravel() for ax_arr in np.meshgrid(*[bounds_arr[:-1] for bounds_arr in cell_edges], indexing='ij')]).T\n",
    "    upper_bounds = np.array([ax_arr.ravel() for ax_arr in np.meshgrid(*[bounds_arr[1 :] for bounds_arr in cell_edges], indexing='ij')]).T\n",
    "\n",
    "    grid_cells = np.full(space_shape, -1)\n",
    "    for i, (lower_b, upper_b) in enumerate(zip(lower_bounds, upper_bounds)):\n",
    "        slices = [slice(ax_lower, ax_upper) for ax_lower, ax_upper in zip(lower_b, upper_b)]\n",
    "\n",
    "        # Grid to cell mapping\n",
    "        grid_cells[*slices] = i\n",
    "\n",
    "    # Finding cell the replace\n",
    "    source_cell_id = grid_cells[*source_position]\n",
    "    source_cell = np.array(np.unravel_index(source_cell_id, cells))\n",
    "\n",
    "    # Finding center and replacing with closest side\n",
    "    source_cell_shape = np.array([sizes[int(ax_id)] for sizes, ax_id in zip(cell_sizes, source_cell)])\n",
    "    source_in_source_cell = source_position - lower_bounds[source_cell_id]\n",
    "\n",
    "    # Splitting the center cell grid into cardinal quarters\n",
    "    array = np.zeros(source_cell_shape)\n",
    "\n",
    "    # Finding indices\n",
    "    indices_list = list(np.ndindex(array.shape))\n",
    "    indices_array = np.array(indices_list)\n",
    "\n",
    "    # From the indices finding the points and converting them to the imaginary grid\n",
    "    points = indices_array - source_in_source_cell\n",
    "    points_im = points[:,0] + (points[:,1] * 1j)\n",
    "\n",
    "    # Shifting the points by 4 times by 90degrees and computing the angles\n",
    "    shifted_points_im = points_im[:,None] * np.array([1, 1j, -1, -1j])\n",
    "    angles = np.angle(shifted_points_im, deg=True)\n",
    "\n",
    "    # # Finding edge cells\n",
    "    edge_cells = source_cell[None,:] + np.array([[1,0],[0,-1],[-1,0],[0,1]])\n",
    "    edge_exists = np.all((edge_cells >= 0) & (edge_cells < cells), axis=1)\n",
    "    edge_cells[~edge_exists] = source_cell[None,:]\n",
    "    edge_cells_id = np.ravel_multi_index(edge_cells.T, cells)\n",
    "\n",
    "    # Computing the closest quarter for each point and assigning it on the grid\n",
    "    closest_quarter = np.argmin(np.abs(angles) + np.where(angles < 0, 0, 1), axis=1)\n",
    "    array[*indices_array.T] = edge_cells_id[closest_quarter]\n",
    "    # array[*indices_array.T] = (np.arange(4) + np.prod(cells))[closest_quarter]\n",
    "\n",
    "    # Inserting in the grid\n",
    "    source_cell_slices = [slice(ax_lower, ax_upper) for ax_lower, ax_upper in zip(lower_bounds[source_cell_id], upper_bounds[source_cell_id])]\n",
    "    grid_cells[*source_cell_slices] = array\n",
    "\n",
    "    # Spacial indices\n",
    "    spacial_indices = list(np.ndindex(tuple(space_shape)))\n",
    "    spacial_indices_array = np.array(spacial_indices).astype(int)\n",
    "\n",
    "    # Indices are at source\n",
    "    at_source = np.sum((source_position[None,:] - spacial_indices_array) ** 2, axis=1) <= source_radius ** 2\n",
    "    grid_cells[*spacial_indices_array[at_source].T] = -1\n",
    "\n",
    "    return grid_cells"
   ]
  },
  {
   "cell_type": "code",
   "execution_count": 8,
   "metadata": {},
   "outputs": [],
   "source": [
    "grid_cells = build_grid_mapping()"
   ]
  },
  {
   "cell_type": "code",
   "execution_count": 9,
   "metadata": {},
   "outputs": [
    {
     "data": {
      "text/plain": [
       "<matplotlib.image.AxesImage at 0x1f24f2c2290>"
      ]
     },
     "execution_count": 9,
     "metadata": {},
     "output_type": "execute_result"
    },
    {
     "data": {
      "image/png": "[encoded data removed]",
      "text/plain": [
       "<Figure size 640x480 with 1 Axes>"
      ]
     },
     "metadata": {},
     "output_type": "display_data"
    }
   ],
   "source": [
    "plt.imshow(grid_cells)"
   ]
  },
  {
   "cell_type": "markdown",
   "metadata": {},
   "source": [
    "# Transitions"
   ]
  },
  {
   "cell_type": "code",
   "execution_count": 61,
   "metadata": {},
   "outputs": [],
   "source": [
    "def find_cell_centers(space_shape: np.ndarray = np.array([101,101]),\n",
    "                      cells: np.ndarray = np.array([3,3])):\n",
    "\n",
    "    # Finding the sizes of the cells\n",
    "    cell_size_standard = (space_shape / cells).astype(int)\n",
    "    cell_size_overflow = (space_shape % cells).astype(int)\n",
    "\n",
    "    # Determining cell sizes\n",
    "    cell_sizes = []\n",
    "    for ax_cells, ax_size, ax_overflow in zip(cells, cell_size_standard, cell_size_overflow):\n",
    "        sizes = np.repeat(ax_size, ax_cells)\n",
    "        sizes[:int(np.floor(ax_overflow/2))] += 1\n",
    "        sizes[-int(np.ceil(ax_overflow/2)):] += 1\n",
    "        cell_sizes.append(sizes)\n",
    "\n",
    "    # Finding the edges of the cells and filling a grid with ids\n",
    "    cell_edges = [np.concatenate(([0], np.cumsum(ax_sizes))) for ax_sizes in cell_sizes]\n",
    "\n",
    "    lower_bounds = np.array([ax_arr.ravel() for ax_arr in np.meshgrid(*[bounds_arr[:-1] for bounds_arr in cell_edges], indexing='ij')]).T\n",
    "\n",
    "    cell_centers = lower_bounds + np.floor(cell_size_standard / 2).astype(int)\n",
    "    return cell_centers"
   ]
  },
  {
   "cell_type": "code",
   "execution_count": 83,
   "metadata": {},
   "outputs": [],
   "source": [
    "# Fixed variables\n",
    "space_shape = np.array([101,101])\n",
    "cells = np.array([3,3])\n",
    "source_radius = 4\n",
    "\n",
    "moves = np.array([\n",
    "    [-1,  0], # North\n",
    "    [ 0,  1], # East\n",
    "    [ 1,  0], # South\n",
    "    [ 0, -1]  # West\n",
    "])"
   ]
  },
  {
   "cell_type": "code",
   "execution_count": 161,
   "metadata": {},
   "outputs": [],
   "source": [
    "source_positions = find_cell_centers(space_shape=space_shape,\n",
    "                                     cells=cells)\n",
    "\n",
    "# Spacial indices\n",
    "spacial_indices = list(np.ndindex(tuple(space_shape)))\n",
    "spacial_indices_array = np.array(spacial_indices).astype(int)\n",
    "\n",
    "# Set the transition probability matrix\n",
    "cell_count = np.prod(cells)\n",
    "state_count = (cell_count**2) + 1\n",
    "action_count = len(moves)\n",
    "transition_probabilities = np.zeros((state_count, action_count, state_count))\n",
    "\n",
    "for source_i, source_pos in enumerate(source_positions):\n",
    "    grid_cells = build_grid_mapping(space_shape=space_shape,\n",
    "                                    cells=cells,\n",
    "                                    source_position=source_pos,\n",
    "                                    source_radius=source_radius)\n",
    "    cells_from_indices = grid_cells[*spacial_indices_array.T]\n",
    "\n",
    "    move_probabilities = []\n",
    "    for move in moves:\n",
    "        # Applying the moves to the indices\n",
    "        moved_indices = spacial_indices_array + move\n",
    "        moved_indices_clipped = np.clip(moved_indices, 0, space_shape-1)\n",
    "\n",
    "        # Converting moved indices to cell indices\n",
    "        cells_from_indices_after_move = grid_cells[*moved_indices_clipped.T]\n",
    "\n",
    "        # Building a confusion matrix of the moves\n",
    "        conf = confusion_matrix(cells_from_indices, cells_from_indices_after_move, labels=[-1] + list(np.arange(np.prod(cells))), normalize='true')\n",
    "        move_probabilities.append(conf[:,None,:])\n",
    "\n",
    "    # Stack probabilities\n",
    "    move_probabilities = np.hstack(move_probabilities)\n",
    "\n",
    "    # In case a cell is not used, make the transition loop on itself\n",
    "    zero_move_probabilities = np.argwhere(move_probabilities.sum(axis=-1) == 0).T\n",
    "    move_probabilities[zero_move_probabilities[0], zero_move_probabilities[1], zero_move_probabilities[0]] = 1.0\n",
    "\n",
    "    # Set the values in the transition matrix\n",
    "    source_slice = slice((source_i * cell_count), ((source_i + 1) * cell_count))\n",
    "    transition_probabilities[source_slice, :, source_slice] = move_probabilities[1:,:,1:]\n",
    "    transition_probabilities[source_slice, :, -1] = move_probabilities[1:,:,0]\n",
    "    transition_probabilities[-1, :, -1] = 1.0\n",
    "\n",
    "assert np.all(transition_probabilities.sum(axis=-1).round(8) == 1.0)"
   ]
  },
  {
   "cell_type": "code",
   "execution_count": null,
   "metadata": {},
   "outputs": [],
   "source": []
  }
 ],
 "metadata": {
  "kernelspec": {
   "display_name": "Python 3",
   "language": "python",
   "name": "python3"
  },
  "language_info": {
   "codemirror_mode": {
    "name": "ipython",
    "version": 3
   },
   "file_extension": ".py",
   "mimetype": "text/x-python",
   "name": "python",
   "nbconvert_exporter": "python",
   "pygments_lexer": "ipython3",
   "version": "3.11.4"
  }
 },
 "nbformat": 4,
 "nbformat_minor": 2
}
