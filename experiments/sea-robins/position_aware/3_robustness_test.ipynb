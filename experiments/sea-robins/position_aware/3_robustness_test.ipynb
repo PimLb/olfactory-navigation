{
 "cells": [
  {
   "cell_type": "code",
   "execution_count": 1,
   "metadata": {},
   "outputs": [],
   "source": [
    "import sys\n",
    "sys.path.append('../../..')\n",
    "\n",
    "import numpy as np\n",
    "\n",
    "from olfactory_navigation.environment import Environment\n",
    "from olfactory_navigation.agents import FSVI_Agent\n",
    "from olfactory_navigation.agents.model_based_util.pomdp import Model\n",
    "from olfactory_navigation.simulation import run_test\n",
    "from olfactory_navigation.test_setups import run_all_starts_test\n",
    "\n",
    "from matplotlib import pyplot as plt\n",
    "from matplotlib import colors, patches\n",
    "from scipy.stats import multivariate_normal\n",
    "from sklearn.metrics import confusion_matrix"
   ]
  },
  {
   "cell_type": "code",
   "execution_count": 2,
   "metadata": {},
   "outputs": [],
   "source": [
    "from cupy.cuda import runtime as cuda_runtime\n",
    "cuda_runtime.setDevice(2)"
   ]
  },
  {
   "cell_type": "markdown",
   "metadata": {},
   "source": [
    "## Variables"
   ]
  },
  {
   "cell_type": "code",
   "execution_count": 3,
   "metadata": {},
   "outputs": [],
   "source": [
    "space_shape = np.array([101,101])\n",
    "cells = np.array([7,7])\n",
    "\n",
    "source_radius = 2\n",
    "source_cell_resolution = np.array([7,7])\n",
    "\n",
    "data_mean = [50,50]\n",
    "data_covariance = 50"
   ]
  },
  {
   "cell_type": "markdown",
   "metadata": {},
   "source": [
    "## Model"
   ]
  },
  {
   "cell_type": "code",
   "execution_count": 4,
   "metadata": {},
   "outputs": [],
   "source": [
    "def generate_model(\n",
    "        space_shape : np.ndarray,\n",
    "        cells: np.ndarray,\n",
    "        source_radius: int,\n",
    "        source_cell_resolution: np.ndarray,\n",
    "        data_mean: list,\n",
    "        data_covariance: int\n",
    "        ) -> Model:\n",
    "\n",
    "    # Building probability map\n",
    "    indices = np.arange(space_shape[0])\n",
    "    x,y = np.meshgrid(indices, indices)\n",
    "    pos = np.dstack((x, y))\n",
    "    rv = multivariate_normal(data_mean, data_covariance)\n",
    "    probability_map = rv.pdf(pos)\n",
    "\n",
    "    # Normalize to have 1 at the center\n",
    "    probability_map /= np.max(probability_map)\n",
    "\n",
    "    # Building a grid-cell-mapping\n",
    "    def build_grid_mapping(space_shape: np.ndarray = np.array([101,101]),\n",
    "                       cells: np.ndarray = np.array([3,3]),\n",
    "                       source_position: np.ndarray = np.array([50,50]),\n",
    "                       source_radius: int = 4,\n",
    "                       source_cell_resolution: np.ndarray = np.array([3,3])\n",
    "                       ) -> np.ndarray:\n",
    "        # Finding the sizes of the cells\n",
    "        cell_size_standard = (space_shape / cells).astype(int)\n",
    "        cell_size_overflow = (space_shape % cells).astype(int)\n",
    "\n",
    "        # Determining cell sizes\n",
    "        cell_sizes = []\n",
    "        for ax_cells, ax_size, ax_overflow in zip(cells, cell_size_standard, cell_size_overflow):\n",
    "            sizes = np.repeat(ax_size, ax_cells)\n",
    "            if ax_overflow > 0:\n",
    "                sizes[:int(np.floor(ax_overflow/2))] += 1\n",
    "                sizes[-int(np.ceil(ax_overflow/2)):] += 1\n",
    "            cell_sizes.append(sizes)\n",
    "\n",
    "        # Finding the edges of the cells and filling a grid with ids\n",
    "        cell_edges = [np.concatenate(([0], np.cumsum(ax_sizes))) for ax_sizes in cell_sizes]\n",
    "\n",
    "        lower_bounds = np.array([ax_arr.ravel() for ax_arr in np.meshgrid(*[bounds_arr[:-1] for bounds_arr in cell_edges], indexing='ij')]).T\n",
    "        upper_bounds = np.array([ax_arr.ravel() for ax_arr in np.meshgrid(*[bounds_arr[1 :] for bounds_arr in cell_edges], indexing='ij')]).T\n",
    "\n",
    "        grid_cells = np.full(space_shape, -1)\n",
    "        for i, (lower_b, upper_b) in enumerate(zip(lower_bounds, upper_bounds)):\n",
    "            slices = [slice(ax_lower, ax_upper) for ax_lower, ax_upper in zip(lower_b, upper_b)]\n",
    "\n",
    "            # Grid to cell mapping\n",
    "            grid_cells[*slices] = i\n",
    "\n",
    "        # Finding cell the replace\n",
    "        source_cell_id = grid_cells[*source_position]\n",
    "        source_cell = np.array(np.unravel_index(source_cell_id, cells))\n",
    "\n",
    "        # Finding center and replacing with closest side\n",
    "        source_cell_shape = np.array([sizes[int(ax_id)] for sizes, ax_id in zip(cell_sizes, source_cell)])\n",
    "\n",
    "        # Splitting the center cell grid into subcells\n",
    "        sub_cell_size_standard = (source_cell_shape / source_cell_resolution).astype(int)\n",
    "        sub_cell_size_overflow = (source_cell_shape % source_cell_resolution).astype(int)\n",
    "\n",
    "        sub_cell_sizes = []\n",
    "        for ax_cells, ax_size, ax_overflow in zip(source_cell_resolution, sub_cell_size_standard, sub_cell_size_overflow):\n",
    "            sizes = np.repeat(ax_size, ax_cells)\n",
    "            if ax_overflow > 0:\n",
    "                sizes[:int(np.floor(ax_overflow/2))] += 1\n",
    "                sizes[-int(np.ceil(ax_overflow/2)):] += 1\n",
    "            sub_cell_sizes.append(sizes)\n",
    "\n",
    "        # Finding the edges of the cells and filling a grid with ids\n",
    "        sub_cell_edges = [np.concatenate(([0], np.cumsum(ax_sizes))) for ax_sizes in sub_cell_sizes]\n",
    "\n",
    "        sub_cell_lower_bounds = np.array([ax_arr.ravel() for ax_arr in np.meshgrid(*[bounds_arr[:-1] for bounds_arr in sub_cell_edges], indexing='ij')]).T\n",
    "        sub_cell_upper_bounds = np.array([ax_arr.ravel() for ax_arr in np.meshgrid(*[bounds_arr[1 :] for bounds_arr in sub_cell_edges], indexing='ij')]).T\n",
    "\n",
    "        sub_grid_cells = np.full(source_cell_shape, -1)\n",
    "        for i, (lower_b, upper_b) in enumerate(zip(sub_cell_lower_bounds, sub_cell_upper_bounds)):\n",
    "            slices = [slice(ax_lower, ax_upper) for ax_lower, ax_upper in zip(lower_b, upper_b)]\n",
    "\n",
    "            # Grid to cell mapping\n",
    "            sub_grid_cells[*slices] = i + np.prod(cells)\n",
    "\n",
    "        # Injecting the sub_grid in the grid\n",
    "        grid_cells[*[slice(lower_b, upper_b) for lower_b, upper_b in zip(lower_bounds[source_cell_id], upper_bounds[source_cell_id])]] = sub_grid_cells\n",
    "\n",
    "        # Spacial indices\n",
    "        spacial_indices = list(np.ndindex(tuple(space_shape)))\n",
    "        spacial_indices_array = np.array(spacial_indices).astype(int)\n",
    "\n",
    "        # Indices are at source\n",
    "        at_source = np.sum((source_position[None,:] - spacial_indices_array) ** 2, axis=1) <= source_radius ** 2\n",
    "        grid_cells[*spacial_indices_array[at_source].T] = -1\n",
    "\n",
    "        return grid_cells\n",
    "\n",
    "    # Generating state labels\n",
    "    # Get the list of all indices\n",
    "    indices_list = list(np.ndindex((*cells, *cells)))\n",
    "\n",
    "    cell_indices = list(np.ndindex((*cells,)))\n",
    "    source_cell_indices = list(np.ndindex((*source_cell_resolution,)))\n",
    "\n",
    "    state_labels = []\n",
    "    for (s_y, s_x) in cell_indices:\n",
    "        for (a_y, a_x) in cell_indices:\n",
    "            state_labels.append(f's_{s_y}_{s_x}-a_{a_y}_{a_x}')\n",
    "        state_labels += [f's_{s_y}_{s_x}-sr_{source_y}_{source_x}' for (source_y, source_x) in source_cell_indices]\n",
    "    state_labels.append('goal')\n",
    "\n",
    "    # Generating action labels\n",
    "    action_set = np.array([\n",
    "        [-1,  0], # North\n",
    "        [ 0,  1], # East\n",
    "        [ 1,  0], # South\n",
    "        [ 0, -1]  # West\n",
    "    ])\n",
    "    action_labels = [\n",
    "        'North',\n",
    "        'East',\n",
    "        'South',\n",
    "        'West'\n",
    "    ]\n",
    "\n",
    "    # Finding cell centers\n",
    "    def find_cell_centers(space_shape: np.ndarray = np.array([101,101]),\n",
    "                        cells: np.ndarray = np.array([3,3])):\n",
    "\n",
    "        # Finding the sizes of the cells\n",
    "        cell_size_standard = (space_shape / cells).astype(int)\n",
    "        cell_size_overflow = (space_shape % cells).astype(int)\n",
    "\n",
    "        # Determining cell sizes\n",
    "        cell_sizes = []\n",
    "        for ax_cells, ax_size, ax_overflow in zip(cells, cell_size_standard, cell_size_overflow):\n",
    "            sizes = np.repeat(ax_size, ax_cells)\n",
    "            sizes[:int(np.floor(ax_overflow/2))] += 1\n",
    "            sizes[-int(np.ceil(ax_overflow/2)):] += 1\n",
    "            cell_sizes.append(sizes)\n",
    "\n",
    "        # Finding the edges of the cells and filling a grid with ids\n",
    "        cell_edges = [np.concatenate(([0], np.cumsum(ax_sizes))) for ax_sizes in cell_sizes]\n",
    "\n",
    "        lower_bounds = np.array([ax_arr.ravel() for ax_arr in np.meshgrid(*[bounds_arr[:-1] for bounds_arr in cell_edges], indexing='ij')]).T\n",
    "\n",
    "        cell_centers = lower_bounds + np.floor(cell_size_standard / 2).astype(int)\n",
    "        return cell_centers\n",
    "\n",
    "    # Building transition probabilities\n",
    "    source_positions = find_cell_centers(space_shape=space_shape,\n",
    "                                     cells=cells)\n",
    "\n",
    "    # Spacial indices\n",
    "    spacial_indices = list(np.ndindex(tuple(space_shape)))\n",
    "    spacial_indices_array = np.array(spacial_indices).astype(int)\n",
    "\n",
    "    # Set the transition probability matrix\n",
    "    cell_count = np.prod(cells) + np.prod(source_cell_resolution) # ! Plus the sub cells zones of the source cell\n",
    "    state_count = len(state_labels)\n",
    "    action_count = len(action_set)\n",
    "    transition_probabilities = np.zeros((state_count, action_count, state_count))\n",
    "\n",
    "    for source_i, source_pos in enumerate(source_positions):\n",
    "        grid_cells = build_grid_mapping(space_shape=space_shape,\n",
    "                                        cells=cells,\n",
    "                                        source_position=source_pos,\n",
    "                                        source_radius=source_radius)\n",
    "        cells_from_indices = grid_cells[*spacial_indices_array.T]\n",
    "\n",
    "        move_probabilities = []\n",
    "        for move in action_set:\n",
    "            # Applying the moves to the indices\n",
    "            moved_indices = spacial_indices_array + move\n",
    "            moved_indices_clipped = np.clip(moved_indices, 0, space_shape-1)\n",
    "\n",
    "            # Converting moved indices to cell indices\n",
    "            cells_from_indices_after_move = grid_cells[*moved_indices_clipped.T]\n",
    "\n",
    "            # Building a confusion matrix of the moves\n",
    "            conf = confusion_matrix(cells_from_indices, cells_from_indices_after_move, labels=[-1] + list(np.arange(cell_count)), normalize='true')\n",
    "            move_probabilities.append(conf[:,None,:])\n",
    "\n",
    "        # Stack probabilities\n",
    "        move_probabilities = np.hstack(move_probabilities)\n",
    "\n",
    "        # In case a cell is not used, make the transition loop on itself\n",
    "        zero_move_probabilities = np.argwhere(move_probabilities.sum(axis=-1) == 0).T\n",
    "        move_probabilities[zero_move_probabilities[0], zero_move_probabilities[1], zero_move_probabilities[0]] = 1.0\n",
    "\n",
    "        # Set the values in the transition matrix\n",
    "        source_slice = slice((source_i * cell_count), ((source_i + 1) * cell_count))\n",
    "        transition_probabilities[source_slice, :, source_slice] = move_probabilities[1:,:,1:]\n",
    "        transition_probabilities[source_slice, :, -1] = move_probabilities[1:,:,0]\n",
    "        transition_probabilities[-1, :, -1] = 1.0\n",
    "\n",
    "    assert np.all(transition_probabilities.sum(axis=-1).round(8) == 1.0)\n",
    "\n",
    "    # Observations\n",
    "    threshold = 3e-6\n",
    "\n",
    "    # Compute observation matrix\n",
    "    if not isinstance(threshold, list):\n",
    "        threshold = [threshold]\n",
    "\n",
    "    # Ensure 0.0 and 1.0 begin and end the threshold list\n",
    "    if threshold[0] != -np.inf:\n",
    "        threshold = [-np.inf] + threshold\n",
    "\n",
    "    if threshold[-1] != np.inf:\n",
    "        threshold = threshold + [np.inf]\n",
    "\n",
    "    #  Observation labels\n",
    "    observation_labels = ['nothing']\n",
    "    if len(threshold) > 3:\n",
    "        for i,_ in enumerate(threshold[1:-1]):\n",
    "            observation_labels.append(f'something_l{i}')\n",
    "    else:\n",
    "        observation_labels.append('something')\n",
    "\n",
    "    # Adding the agent position to the oservation labels\n",
    "    agent_state_labels = [label.split('-')[1] for label in state_labels[:np.prod(cells)]]\n",
    "    all_observation_labels = []\n",
    "    for obs in observation_labels:\n",
    "        for agent_state in agent_state_labels:\n",
    "            all_observation_labels.append(f'{agent_state}-{obs}')\n",
    "\n",
    "    observation_labels = all_observation_labels\n",
    "\n",
    "    # Add goal\n",
    "    observation_labels.append('goal')\n",
    "\n",
    "    # Observation probabilities\n",
    "    # Finding the sizes of the cells\n",
    "    cell_size_standard = (space_shape / cells).astype(int)\n",
    "    cell_size_overflow = (space_shape % cells).astype(int)\n",
    "\n",
    "    # Determining cell sizes\n",
    "    cell_sizes = []\n",
    "    for ax_cells, ax_size, ax_overflow in zip(cells, cell_size_standard, cell_size_overflow):\n",
    "        sizes = np.repeat(ax_size, ax_cells)\n",
    "        sizes[:int(np.floor(ax_overflow/2))] += 1\n",
    "        sizes[-int(np.ceil(ax_overflow/2)):] += 1\n",
    "        cell_sizes.append(sizes)\n",
    "\n",
    "    # Finding the edges of the cells and filling a grid with ids\n",
    "    cell_edges = [np.concatenate(([0], np.cumsum(ax_sizes))) for ax_sizes in cell_sizes]\n",
    "\n",
    "    lower_bounds = np.array([ax_arr.ravel() for ax_arr in np.meshgrid(*[bounds_arr[:-1] for bounds_arr in cell_edges], indexing='ij')]).T\n",
    "    upper_bounds = np.array([ax_arr.ravel() for ax_arr in np.meshgrid(*[bounds_arr[1 :] for bounds_arr in cell_edges], indexing='ij')]).T\n",
    "\n",
    "\n",
    "    cell_probabilities = np.full(cells, -1, dtype=float)\n",
    "    for cell, lower_b, upper_b in zip(list(np.ndindex(tuple(cells))), lower_bounds, upper_bounds):\n",
    "        slices = [slice(ax_lower, ax_upper) for ax_lower, ax_upper in zip(lower_b, upper_b)]\n",
    "\n",
    "        # TODO: Make it flexible to multi thresh\n",
    "        cell_probabilities[*cell] = np.average(probability_map[*slices])\n",
    "\n",
    "    indices_array = np.array(indices_list)\n",
    "    relative_indices = indices_array[:,:len(cells)] - indices_array[:,len(cells):]\n",
    "\n",
    "    # Shifting the relative positions by the position of the center\n",
    "    center_pos = (cells / 2).astype(int)\n",
    "    centered_positions = relative_indices + center_pos\n",
    "\n",
    "    # Filtering to the valid centered positions\n",
    "    valid_positions = np.all((centered_positions >= 0) & (centered_positions < cells), axis=1)\n",
    "    filtered_centered_positions = centered_positions[valid_positions]\n",
    "    filtered_indices_array = indices_array[valid_positions]\n",
    "\n",
    "    # Gathering the cell_probabilities\n",
    "    odor_probabilities = np.zeros((*cells, *cells), dtype=float)\n",
    "    odor_probabilities[*filtered_indices_array.T] = cell_probabilities[*filtered_centered_positions.T]\n",
    "\n",
    "    # Generating an empty observation matrix\n",
    "    observations = np.zeros((len(state_labels), len(action_set), len(observation_labels)))\n",
    "\n",
    "    # Filling the something/nothing observations\n",
    "    agent_cells = indices_array[:np.prod(cells),2:]\n",
    "    for obs_i, agent_cell in enumerate(agent_cells):\n",
    "        # For observation matrix\n",
    "        agent_ids_in_states = (np.arange(np.prod(cells)) * cell_count) + obs_i\n",
    "\n",
    "        # To read odor probability matrix\n",
    "        agent_ids_in_space = np.all(indices_array[:,2:] == agent_cell, axis=1)\n",
    "        filtered_agent_ids_in_space = indices_array[agent_ids_in_space]\n",
    "\n",
    "        # Setting the probabilities in the matrix\n",
    "        probabilities_at_agent_position = odor_probabilities[*filtered_agent_ids_in_space.T][:,None]\n",
    "        observations[agent_ids_in_states,:,obs_i] = 1 - probabilities_at_agent_position # Nothing\n",
    "        observations[agent_ids_in_states,:,obs_i+len(agent_cells)] = probabilities_at_agent_position # Something\n",
    "\n",
    "        # Finding sub-cells of the source cell\n",
    "        sub_cell_source_ids = ((obs_i * cell_count) + np.prod(cells)) + np.arange(np.prod(source_cell_resolution))\n",
    "        observations[sub_cell_source_ids,:,obs_i] = 1 - probabilities_at_agent_position[obs_i] # Nothing\n",
    "        observations[sub_cell_source_ids,:,obs_i+len(agent_cells)] = probabilities_at_agent_position[obs_i] # Something\n",
    "\n",
    "        # Finding the cells  where the agent is at the source\n",
    "        agent_at_source_id = (obs_i * cell_count) + obs_i\n",
    "        observations[agent_at_source_id,:,obs_i] = 1.0 # Nothing\n",
    "        observations[agent_at_source_id,:,obs_i+len(agent_cells)] = 0.0 # Something\n",
    "\n",
    "\n",
    "    # Goal observations\n",
    "    observations[-1,:,0] = 0.0\n",
    "    observations[:,:,-1] = 0.0\n",
    "    observations[-1,:,-1] = 1.0 # Goal\n",
    "\n",
    "    assert np.all(observations.sum(axis=-1).round(8) == 1.0)\n",
    "\n",
    "    # Building model\n",
    "    model = Model(\n",
    "        states = state_labels,\n",
    "        actions = action_labels,\n",
    "        observations = observation_labels,\n",
    "        transitions = transition_probabilities,\n",
    "        observation_table = observations,\n",
    "        end_states = [len(state_labels)-1], # The very last state is the goal state\n",
    "        # start_probabilities = start_probabilities,\n",
    "        seed=12131415\n",
    "    )\n",
    "\n",
    "    return model"
   ]
  },
  {
   "cell_type": "code",
   "execution_count": 5,
   "metadata": {},
   "outputs": [],
   "source": [
    "model = generate_model(\n",
    "    space_shape=space_shape,\n",
    "    cells=cells,\n",
    "    source_radius=source_radius,\n",
    "    source_cell_resolution=source_cell_resolution,\n",
    "    data_mean=data_mean,\n",
    "    data_covariance=data_covariance\n",
    ")"
   ]
  },
  {
   "cell_type": "markdown",
   "metadata": {},
   "source": [
    "## Agent"
   ]
  },
  {
   "cell_type": "code",
   "execution_count": 6,
   "metadata": {},
   "outputs": [],
   "source": [
    "def generate_fake_data(\n",
    "        space_shape: np.ndarray,\n",
    "        data_mean: list,\n",
    "        data_covariance,\n",
    "        samples: int\n",
    "        ) -> np.ndarray:\n",
    "    x,y = np.meshgrid(np.arange(space_shape[0]), np.arange(space_shape[1]))\n",
    "    pos = np.dstack((x, y))\n",
    "    rv = multivariate_normal(data_mean, data_covariance)\n",
    "    probability_map = rv.pdf(pos)\n",
    "\n",
    "    # Normalize to have 1 at the center\n",
    "    probability_map /= np.max(probability_map)\n",
    "\n",
    "    multiple_samples = (np.random.random((samples, *space_shape)) < probability_map).astype(float)\n",
    "\n",
    "    return multiple_samples"
   ]
  },
  {
   "cell_type": "code",
   "execution_count": 7,
   "metadata": {},
   "outputs": [
    {
     "data": {
      "image/png": "[encoded data removed]",
      "text/plain": [
       "<Figure size 1500x500 with 1 Axes>"
      ]
     },
     "metadata": {},
     "output_type": "display_data"
    }
   ],
   "source": [
    "artificial_data = generate_fake_data(space_shape=space_shape,\n",
    "                                     data_mean=data_mean,\n",
    "                                     data_covariance=data_covariance,\n",
    "                                     samples=1000)\n",
    "\n",
    "artificial_env  = Environment(data_file=artificial_data,\n",
    "                              data_source_position=[50, 50],\n",
    "                              source_radius=source_radius,\n",
    "                              shape=space_shape,\n",
    "                              boundary_condition='stop',\n",
    "                              start_zone='data_zone',\n",
    "                              odor_present_threshold=3e-1)\n",
    "\n",
    "artificial_env.plot()"
   ]
  },
  {
   "cell_type": "code",
   "execution_count": 8,
   "metadata": {},
   "outputs": [],
   "source": [
    "ag = FSVI_Agent(environment=artificial_env,\n",
    "                threshold=3e-8,\n",
    "                space_aware=True,\n",
    "                spacial_subdivisions=cells,\n",
    "                model=model)"
   ]
  },
  {
   "cell_type": "code",
   "execution_count": 9,
   "metadata": {},
   "outputs": [
    {
     "name": "stdout",
     "output_type": "stream",
     "text": [
      "[09/17/2024, 16:25:08] MDP_policy, not provided. Solving MDP with Value Iteration...\n",
      "[09/17/2024, 16:25:08] Sending Model to GPU...\n",
      "[09/17/2024, 16:25:09]     > Done in 0.484s\n"
     ]
    },
    {
     "data": {
      "application/vnd.jupyter.widget-view+json": {
       "model_id": "750db1635fb94f0999d590607750a9f0",
       "version_major": 2,
       "version_minor": 0
      },
      "text/plain": [
       "  0%|          | 0/1000 [00:00<?, ?it/s]"
      ]
     },
     "metadata": {},
     "output_type": "display_data"
    },
    {
     "name": "stdout",
     "output_type": "stream",
     "text": [
      "Summary of Value Iteration run\n",
      "  - Model: 4803-state, 4-action\n",
      "  - Converged in 918 iterations and 1.2013 seconds\n",
      "  - Took on average 0.0013s per iteration\n"
     ]
    },
    {
     "data": {
      "application/vnd.jupyter.widget-view+json": {
       "model_id": "f781636f561746dd962a70ff6873e0eb",
       "version_major": 2,
       "version_minor": 0
      },
      "text/plain": [
       "Expansions:   0%|          | 0/300 [00:00<?, ?it/s]"
      ]
     },
     "metadata": {},
     "output_type": "display_data"
    },
    {
     "name": "stdout",
     "output_type": "stream",
     "text": [
      "Summary of Point Based Value Iteration run\n",
      "  - Model: 4803 state, 4 action, 99 observations\n",
      "  - Converged or stopped after 300 expansion steps and 300 backup steps.\n",
      "  - Resulting value function has 1600 alpha vectors.\n",
      "  - Converged in 215.4867s\n",
      "\n",
      "  - Expand function took on average 0.0128s and yielded on average 1160.59 beliefs per iteration. (0.0001s/it/belief)\n",
      "  - Backup function took on average 0.7054s and yielded on average 5.32 alpha vectors per iteration. (0.0009s/it/alpha)\n",
      "  - Pruning function took on average 0.0000s and yielded on average prunings of 0.00 alpha vectors per iteration.\n"
     ]
    }
   ],
   "source": [
    "_ = ag.train(expansions=300, use_gpu=True)"
   ]
  },
  {
   "cell_type": "code",
   "execution_count": 10,
   "metadata": {},
   "outputs": [
    {
     "data": {
      "image/png": "[encoded data removed]",
      "text/plain": [
       "<Figure size 1000x500 with 3 Axes>"
      ]
     },
     "metadata": {},
     "output_type": "display_data"
    }
   ],
   "source": [
    "# CUSTOM PLOT\n",
    "COLOR_LIST = [{\n",
    "    'name': item.replace('tab:',''),\n",
    "    'id': item,\n",
    "    'hex': value,\n",
    "    'rgb': [int(value.lstrip('#')[i:i + (len(value)-1) // 3], 16) for i in range(0, (len(value)-1), (len(value)-1) // 3)]\n",
    "    } for item, value in colors.TABLEAU_COLORS.items()] # type: ignore\n",
    "\n",
    "COLOR_ARRAY = np.array([c['rgb'] for c in COLOR_LIST])\n",
    "\n",
    "# VF\n",
    "vf = ag.value_function\n",
    "new_shape = cells\n",
    "\n",
    "# ! Select here which source to plot\n",
    "source_policy = [0,0]\n",
    "source_policy_id = np.arange(np.prod(cells)).reshape(cells)[*source_policy]\n",
    "source_state_start = source_policy_id * np.prod(cells)\n",
    "\n",
    "value_table = np.max(vf.alpha_vector_array, axis=0)[vf.model.state_grid[:,source_state_start:source_state_start+np.prod(cells)]].reshape(new_shape)\n",
    "best_action_table = np.array(vf.actions)[np.argmax(vf.alpha_vector_array, axis=0)][vf.model.state_grid[:,source_state_start:source_state_start+np.prod(cells)]].reshape(new_shape)\n",
    "best_action_colors = COLOR_ARRAY[best_action_table]\n",
    "\n",
    "dimensions = new_shape\n",
    "\n",
    "fig, (ax1,ax2) = plt.subplots(1,2, figsize=(5*2, 5), width_ratios=(0.55,0.45))\n",
    "\n",
    "# Ticks\n",
    "x_ticks = np.arange(0, dimensions[1], (1 if dimensions[1] < 10 else int(dimensions[1] / 10)))\n",
    "y_ticks = np.arange(0, dimensions[0], (1 if dimensions[0] < 5 else int(dimensions[0] / 5)))\n",
    "\n",
    "ax1.set_title('Value function')\n",
    "ax1_plot = ax1.imshow(value_table)\n",
    "\n",
    "if dimensions[0] >= dimensions[1]: # If higher than wide\n",
    "    plt.colorbar(ax1_plot, ax=ax1)\n",
    "else:\n",
    "    plt.colorbar(ax1_plot, ax=ax1, location='bottom', orientation='horizontal')\n",
    "\n",
    "ax1.set_xticks(x_ticks)\n",
    "ax1.set_yticks(y_ticks)\n",
    "\n",
    "ax2.set_title('Action policy')\n",
    "ax2.imshow(best_action_colors)\n",
    "p = [ patches.Patch(color=COLOR_LIST[int(i)]['id'], label=str(vf.model.action_labels[int(i)])) for i in vf.model.actions]\n",
    "ax2.legend(handles=p, bbox_to_anchor=(1.05, 1), loc=2, borderaxespad=0., title='Actions')\n",
    "ax2.set_xticks(x_ticks)\n",
    "ax2.set_yticks(y_ticks)\n",
    "\n",
    "plt.show()"
   ]
  },
  {
   "cell_type": "markdown",
   "metadata": {},
   "source": [
    "### Validation on the artificial data"
   ]
  },
  {
   "cell_type": "code",
   "execution_count": 11,
   "metadata": {},
   "outputs": [
    {
     "data": {
      "application/vnd.jupyter.widget-view+json": {
       "model_id": "1e4669f7d06e498793c8cb7ba99790b8",
       "version_major": 2,
       "version_minor": 0
      },
      "text/plain": [
       "  0%|          | 0/1000 [00:00<?, ?it/s]"
      ]
     },
     "metadata": {},
     "output_type": "display_data"
    },
    {
     "name": "stdout",
     "output_type": "stream",
     "text": [
      "Simulations done in 12.065s:\n",
      "Simulations reached goal: 10188/10188 (0 failures (reached horizon: 0)) (100.00% success)\n",
      " - Average step count:                 214.794 +- 116.67 (Successfull only: 214.794 +- 116.68)\n",
      " - Extra steps:                        166.236 +- 110.99 (Successful only: 166.236 +- 111.00)\n",
      " - Average discounted rewards (ADR):   0.202 +- 0.20 (Successfull only: 0.202 +- 0.20)\n",
      " - Tmin/T:                             0.291 +- 0.18 (Successful only: 0.291 +- 0.18)\n"
     ]
    }
   ],
   "source": [
    "hist = run_all_starts_test(ag,\n",
    "                           horizon=1000,\n",
    "                           use_gpu=True)"
   ]
  },
  {
   "cell_type": "markdown",
   "metadata": {},
   "source": [
    "## Test"
   ]
  },
  {
   "cell_type": "code",
   "execution_count": 17,
   "metadata": {},
   "outputs": [],
   "source": [
    "shift = np.array([-7,-7])\n",
    "\n",
    "shifted_artificial_data = np.zeros(artificial_data.shape)\n",
    "trimmed_artificial_data = artificial_data[:, *[slice(0, -s) if s >=0 else slice(-s, shape) for shape, s in zip(space_shape, shift)]]\n",
    "shifted_artificial_data[:, *[slice(s, shape) if s >=0 else slice(0, s) for shape, s in zip(space_shape, shift)]] = trimmed_artificial_data"
   ]
  },
  {
   "cell_type": "code",
   "execution_count": 18,
   "metadata": {},
   "outputs": [
    {
     "data": {
      "image/png": "[encoded data removed]",
      "text/plain": [
       "<Figure size 1500x500 with 1 Axes>"
      ]
     },
     "metadata": {},
     "output_type": "display_data"
    }
   ],
   "source": [
    "shifted_artificial_env  = Environment(data_file=shifted_artificial_data,\n",
    "                                      data_source_position=(np.array([50,50]) + shift).tolist(),\n",
    "                                      source_radius=source_radius,\n",
    "                                      shape=space_shape,\n",
    "                                      boundary_condition='stop',\n",
    "                                      start_zone='data_zone',\n",
    "                                      odor_present_threshold=3e-1)\n",
    "\n",
    "shifted_artificial_env.plot()"
   ]
  },
  {
   "cell_type": "code",
   "execution_count": 19,
   "metadata": {},
   "outputs": [
    {
     "name": "stdout",
     "output_type": "stream",
     "text": [
      "Using the provided environment, not the agent environment.\n"
     ]
    },
    {
     "data": {
      "application/vnd.jupyter.widget-view+json": {
       "model_id": "78926a0d878e4097b84d8b953241bc2f",
       "version_major": 2,
       "version_minor": 0
      },
      "text/plain": [
       "  0%|          | 0/1000 [00:00<?, ?it/s]"
      ]
     },
     "metadata": {},
     "output_type": "display_data"
    },
    {
     "name": "stdout",
     "output_type": "stream",
     "text": [
      "Simulations done in 10.591s:\n",
      "Simulations reached goal: 10188/10188 (0 failures (reached horizon: 0)) (100.00% success)\n",
      " - Average step count:                 200.603 +- 89.03 (Successfull only: 200.603 +- 89.03)\n",
      " - Extra steps:                        134.201 +- 83.18 (Successful only: 134.201 +- 83.18)\n",
      " - Average discounted rewards (ADR):   0.186 +- 0.16 (Successfull only: 0.186 +- 0.16)\n",
      " - Tmin/T:                             0.363 +- 0.20 (Successful only: 0.363 +- 0.20)\n"
     ]
    }
   ],
   "source": [
    "hist = run_all_starts_test(ag,\n",
    "                           environment=shifted_artificial_env,\n",
    "                           horizon=1000,\n",
    "                           use_gpu=True)"
   ]
  },
  {
   "cell_type": "code",
   "execution_count": 20,
   "metadata": {},
   "outputs": [
    {
     "data": {
      "image/png": "[encoded data removed]",
      "text/plain": [
       "<Figure size 1000x1000 with 1 Axes>"
      ]
     },
     "metadata": {},
     "output_type": "display_data"
    }
   ],
   "source": [
    "_, ax = plt.subplots(1,1, figsize=(10,10))\n",
    "hist.plot_successes(ax)"
   ]
  },
  {
   "cell_type": "code",
   "execution_count": 21,
   "metadata": {},
   "outputs": [
    {
     "data": {
      "image/png": "[encoded data removed]",
      "text/plain": [
       "<Figure size 1000x1000 with 1 Axes>"
      ]
     },
     "metadata": {},
     "output_type": "display_data"
    }
   ],
   "source": [
    "_, ax = plt.subplots(1,1, figsize=(10,10))\n",
    "hist.plot(2000, ax=ax)"
   ]
  },
  {
   "cell_type": "code",
   "execution_count": 22,
   "metadata": {},
   "outputs": [
    {
     "data": {
      "text/html": [
       "<div>\n",
       "<style scoped>\n",
       "    .dataframe tbody tr th:only-of-type {\n",
       "        vertical-align: middle;\n",
       "    }\n",
       "\n",
       "    .dataframe tbody tr th {\n",
       "        vertical-align: top;\n",
       "    }\n",
       "\n",
       "    .dataframe thead th {\n",
       "        text-align: right;\n",
       "    }\n",
       "</style>\n",
       "<table border=\"1\" class=\"dataframe\">\n",
       "  <thead>\n",
       "    <tr style=\"text-align: right;\">\n",
       "      <th></th>\n",
       "      <th>y</th>\n",
       "      <th>x</th>\n",
       "      <th>optimal_steps_count</th>\n",
       "      <th>converged</th>\n",
       "      <th>reached_horizon</th>\n",
       "      <th>steps_taken</th>\n",
       "      <th>discounted_rewards</th>\n",
       "      <th>extra_steps</th>\n",
       "      <th>t_min_over_t</th>\n",
       "    </tr>\n",
       "  </thead>\n",
       "  <tbody>\n",
       "    <tr>\n",
       "      <th>mean</th>\n",
       "      <td>NaN</td>\n",
       "      <td>NaN</td>\n",
       "      <td>NaN</td>\n",
       "      <td>1.0</td>\n",
       "      <td>0.0</td>\n",
       "      <td>200.603455</td>\n",
       "      <td>0.186000</td>\n",
       "      <td>134.201413</td>\n",
       "      <td>0.362742</td>\n",
       "    </tr>\n",
       "    <tr>\n",
       "      <th>standard_deviation</th>\n",
       "      <td>NaN</td>\n",
       "      <td>NaN</td>\n",
       "      <td>NaN</td>\n",
       "      <td>0.0</td>\n",
       "      <td>0.0</td>\n",
       "      <td>89.026469</td>\n",
       "      <td>0.158015</td>\n",
       "      <td>83.179611</td>\n",
       "      <td>0.196275</td>\n",
       "    </tr>\n",
       "    <tr>\n",
       "      <th>success_mean</th>\n",
       "      <td>NaN</td>\n",
       "      <td>NaN</td>\n",
       "      <td>NaN</td>\n",
       "      <td>1.0</td>\n",
       "      <td>0.0</td>\n",
       "      <td>200.603455</td>\n",
       "      <td>0.186000</td>\n",
       "      <td>134.201413</td>\n",
       "      <td>0.362742</td>\n",
       "    </tr>\n",
       "    <tr>\n",
       "      <th>success_standard_deviation</th>\n",
       "      <td>NaN</td>\n",
       "      <td>NaN</td>\n",
       "      <td>NaN</td>\n",
       "      <td>0.0</td>\n",
       "      <td>0.0</td>\n",
       "      <td>89.030839</td>\n",
       "      <td>0.158022</td>\n",
       "      <td>83.183694</td>\n",
       "      <td>0.196285</td>\n",
       "    </tr>\n",
       "    <tr>\n",
       "      <th>run_0</th>\n",
       "      <td>0.0</td>\n",
       "      <td>0.0</td>\n",
       "      <td>38.0</td>\n",
       "      <td>True</td>\n",
       "      <td>False</td>\n",
       "      <td>79.000000</td>\n",
       "      <td>0.452044</td>\n",
       "      <td>41.000000</td>\n",
       "      <td>0.481013</td>\n",
       "    </tr>\n",
       "    <tr>\n",
       "      <th>...</th>\n",
       "      <td>...</td>\n",
       "      <td>...</td>\n",
       "      <td>...</td>\n",
       "      <td>...</td>\n",
       "      <td>...</td>\n",
       "      <td>...</td>\n",
       "      <td>...</td>\n",
       "      <td>...</td>\n",
       "      <td>...</td>\n",
       "    </tr>\n",
       "    <tr>\n",
       "      <th>run_10183</th>\n",
       "      <td>100.0</td>\n",
       "      <td>96.0</td>\n",
       "      <td>154.0</td>\n",
       "      <td>True</td>\n",
       "      <td>False</td>\n",
       "      <td>302.000000</td>\n",
       "      <td>0.048065</td>\n",
       "      <td>148.000000</td>\n",
       "      <td>0.509934</td>\n",
       "    </tr>\n",
       "    <tr>\n",
       "      <th>run_10184</th>\n",
       "      <td>100.0</td>\n",
       "      <td>97.0</td>\n",
       "      <td>155.0</td>\n",
       "      <td>True</td>\n",
       "      <td>False</td>\n",
       "      <td>307.000000</td>\n",
       "      <td>0.045709</td>\n",
       "      <td>152.000000</td>\n",
       "      <td>0.504886</td>\n",
       "    </tr>\n",
       "    <tr>\n",
       "      <th>run_10185</th>\n",
       "      <td>100.0</td>\n",
       "      <td>98.0</td>\n",
       "      <td>156.0</td>\n",
       "      <td>True</td>\n",
       "      <td>False</td>\n",
       "      <td>300.000000</td>\n",
       "      <td>0.049041</td>\n",
       "      <td>144.000000</td>\n",
       "      <td>0.520000</td>\n",
       "    </tr>\n",
       "    <tr>\n",
       "      <th>run_10186</th>\n",
       "      <td>100.0</td>\n",
       "      <td>99.0</td>\n",
       "      <td>157.0</td>\n",
       "      <td>True</td>\n",
       "      <td>False</td>\n",
       "      <td>311.000000</td>\n",
       "      <td>0.043908</td>\n",
       "      <td>154.000000</td>\n",
       "      <td>0.504823</td>\n",
       "    </tr>\n",
       "    <tr>\n",
       "      <th>run_10187</th>\n",
       "      <td>100.0</td>\n",
       "      <td>100.0</td>\n",
       "      <td>158.0</td>\n",
       "      <td>True</td>\n",
       "      <td>False</td>\n",
       "      <td>311.000000</td>\n",
       "      <td>0.043908</td>\n",
       "      <td>153.000000</td>\n",
       "      <td>0.508039</td>\n",
       "    </tr>\n",
       "  </tbody>\n",
       "</table>\n",
       "<p>10192 rows × 9 columns</p>\n",
       "</div>"
      ],
      "text/plain": [
       "                                y      x  optimal_steps_count converged  \\\n",
       "mean                          NaN    NaN                  NaN       1.0   \n",
       "standard_deviation            NaN    NaN                  NaN       0.0   \n",
       "success_mean                  NaN    NaN                  NaN       1.0   \n",
       "success_standard_deviation    NaN    NaN                  NaN       0.0   \n",
       "run_0                         0.0    0.0                 38.0      True   \n",
       "...                           ...    ...                  ...       ...   \n",
       "run_10183                   100.0   96.0                154.0      True   \n",
       "run_10184                   100.0   97.0                155.0      True   \n",
       "run_10185                   100.0   98.0                156.0      True   \n",
       "run_10186                   100.0   99.0                157.0      True   \n",
       "run_10187                   100.0  100.0                158.0      True   \n",
       "\n",
       "                           reached_horizon  steps_taken  discounted_rewards  \\\n",
       "mean                                   0.0   200.603455            0.186000   \n",
       "standard_deviation                     0.0    89.026469            0.158015   \n",
       "success_mean                           0.0   200.603455            0.186000   \n",
       "success_standard_deviation             0.0    89.030839            0.158022   \n",
       "run_0                                False    79.000000            0.452044   \n",
       "...                                    ...          ...                 ...   \n",
       "run_10183                            False   302.000000            0.048065   \n",
       "run_10184                            False   307.000000            0.045709   \n",
       "run_10185                            False   300.000000            0.049041   \n",
       "run_10186                            False   311.000000            0.043908   \n",
       "run_10187                            False   311.000000            0.043908   \n",
       "\n",
       "                            extra_steps  t_min_over_t  \n",
       "mean                         134.201413      0.362742  \n",
       "standard_deviation            83.179611      0.196275  \n",
       "success_mean                 134.201413      0.362742  \n",
       "success_standard_deviation    83.183694      0.196285  \n",
       "run_0                         41.000000      0.481013  \n",
       "...                                 ...           ...  \n",
       "run_10183                    148.000000      0.509934  \n",
       "run_10184                    152.000000      0.504886  \n",
       "run_10185                    144.000000      0.520000  \n",
       "run_10186                    154.000000      0.504823  \n",
       "run_10187                    153.000000      0.508039  \n",
       "\n",
       "[10192 rows x 9 columns]"
      ]
     },
     "execution_count": 22,
     "metadata": {},
     "output_type": "execute_result"
    }
   ],
   "source": [
    "hist.analysis_df"
   ]
  },
  {
   "cell_type": "code",
   "execution_count": null,
   "metadata": {},
   "outputs": [],
   "source": []
  }
 ],
 "metadata": {
  "kernelspec": {
   "display_name": "pomdp_olf_nav_env",
   "language": "python",
   "name": "python3"
  },
  "language_info": {
   "codemirror_mode": {
    "name": "ipython",
    "version": 3
   },
   "file_extension": ".py",
   "mimetype": "text/x-python",
   "name": "python",
   "nbconvert_exporter": "python",
   "pygments_lexer": "ipython3",
   "version": "3.11.9"
  }
 },
 "nbformat": 4,
 "nbformat_minor": 2
}
