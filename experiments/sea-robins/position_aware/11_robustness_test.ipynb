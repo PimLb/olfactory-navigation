{
 "cells": [
  {
   "cell_type": "code",
   "execution_count": 1,
   "metadata": {},
   "outputs": [],
   "source": [
    "import sys\n",
    "sys.path.append('../../..')\n",
    "\n",
    "import numpy as np\n",
    "\n",
    "from olfactory_navigation.environment import Environment\n",
    "from olfactory_navigation.agents import FSVI_Agent\n",
    "from olfactory_navigation.agents.model_based_util.pomdp import Model\n",
    "from olfactory_navigation.simulation import run_test\n",
    "from olfactory_navigation.test_setups import run_all_starts_test\n",
    "\n",
    "from matplotlib import pyplot as plt\n",
    "from matplotlib import colors, patches\n",
    "from scipy.stats import multivariate_normal\n",
    "from sklearn.metrics import confusion_matrix"
   ]
  },
  {
   "cell_type": "code",
   "execution_count": 2,
   "metadata": {},
   "outputs": [],
   "source": [
    "from model_11 import generate_model"
   ]
  },
  {
   "cell_type": "code",
   "execution_count": 3,
   "metadata": {},
   "outputs": [],
   "source": [
    "from cupy.cuda import runtime as cuda_runtime\n",
    "cuda_runtime.setDevice(3)"
   ]
  },
  {
   "cell_type": "markdown",
   "metadata": {},
   "source": [
    "## Variables"
   ]
  },
  {
   "cell_type": "code",
   "execution_count": 4,
   "metadata": {},
   "outputs": [],
   "source": [
    "space_shape = np.array([101,101])\n",
    "cells = np.array([7,7])\n",
    "\n",
    "source_radius = 2\n",
    "source_cell_resolution = np.array([7,7])\n",
    "\n",
    "data_mean = [50,50]\n",
    "data_covariance = 50"
   ]
  },
  {
   "cell_type": "markdown",
   "metadata": {},
   "source": [
    "## Model"
   ]
  },
  {
   "cell_type": "code",
   "execution_count": 5,
   "metadata": {},
   "outputs": [],
   "source": [
    "model = generate_model(\n",
    "    space_shape=space_shape,\n",
    "    cells=cells,\n",
    "    source_radius=source_radius,\n",
    "    source_cell_resolution=source_cell_resolution,\n",
    "    data_mean=data_mean,\n",
    "    data_covariance=data_covariance\n",
    ")"
   ]
  },
  {
   "cell_type": "markdown",
   "metadata": {},
   "source": [
    "## Agent"
   ]
  },
  {
   "cell_type": "code",
   "execution_count": 6,
   "metadata": {},
   "outputs": [],
   "source": [
    "def generate_fake_data(\n",
    "        space_shape: np.ndarray,\n",
    "        data_mean: list,\n",
    "        data_covariance,\n",
    "        samples: int\n",
    "        ) -> np.ndarray:\n",
    "    x,y = np.meshgrid(np.arange(space_shape[0]), np.arange(space_shape[1]))\n",
    "    pos = np.dstack((x, y))\n",
    "    rv = multivariate_normal(data_mean, data_covariance)\n",
    "    probability_map = rv.pdf(pos)\n",
    "\n",
    "    # Normalize to have 1 at the center\n",
    "    probability_map /= np.max(probability_map)\n",
    "\n",
    "    multiple_samples = (np.random.random((samples, *space_shape)) < probability_map).astype(float)\n",
    "\n",
    "    return multiple_samples"
   ]
  },
  {
   "cell_type": "code",
   "execution_count": 7,
   "metadata": {},
   "outputs": [
    {
     "data": {
      "image/png": "[encoded data removed]",
      "text/plain": [
       "<Figure size 1500x500 with 1 Axes>"
      ]
     },
     "metadata": {},
     "output_type": "display_data"
    }
   ],
   "source": [
    "artificial_data = generate_fake_data(space_shape=space_shape,\n",
    "                                     data_mean=data_mean,\n",
    "                                     data_covariance=data_covariance,\n",
    "                                     samples=1000)\n",
    "\n",
    "artificial_env  = Environment(data_file=artificial_data,\n",
    "                              data_source_position=[50, 50],\n",
    "                              source_radius=source_radius,\n",
    "                              shape=space_shape,\n",
    "                              boundary_condition='stop',\n",
    "                              start_zone='data_zone',\n",
    "                              odor_present_threshold=3e-1)\n",
    "\n",
    "artificial_env.plot()"
   ]
  },
  {
   "cell_type": "code",
   "execution_count": 8,
   "metadata": {},
   "outputs": [],
   "source": [
    "ag = FSVI_Agent(environment=artificial_env,\n",
    "                threshold=3e-8,\n",
    "                # space_aware=True,\n",
    "                # spacial_subdivisions=cells,\n",
    "                model=model)"
   ]
  },
  {
   "cell_type": "code",
   "execution_count": 9,
   "metadata": {},
   "outputs": [
    {
     "name": "stdout",
     "output_type": "stream",
     "text": [
      "[11/27/2024, 09:26:43] MDP_policy, not provided. Solving MDP with Value Iteration...\n",
      "[11/27/2024, 09:26:43] Sending Model to GPU...\n",
      "[11/27/2024, 09:26:43]     > Done in 0.203s\n"
     ]
    },
    {
     "data": {
      "application/vnd.jupyter.widget-view+json": {
       "model_id": "e63d973d5dc64bbda5d36e5532f6c95c",
       "version_major": 2,
       "version_minor": 0
      },
      "text/plain": [
       "  0%|          | 0/1000 [00:00<?, ?it/s]"
      ]
     },
     "metadata": {},
     "output_type": "display_data"
    },
    {
     "name": "stdout",
     "output_type": "stream",
     "text": [
      "Summary of Value Iteration run\n",
      "  - Model: 99-state, 4-action\n",
      "  - Converged in 918 iterations and 1.3487 seconds\n",
      "  - Took on average 0.0015s per iteration\n"
     ]
    },
    {
     "data": {
      "application/vnd.jupyter.widget-view+json": {
       "model_id": "a6ff6e5c88db4bbab4bef60ab111cae5",
       "version_major": 2,
       "version_minor": 0
      },
      "text/plain": [
       "Expansions:   0%|          | 0/300 [00:00<?, ?it/s]"
      ]
     },
     "metadata": {},
     "output_type": "display_data"
    },
    {
     "name": "stdout",
     "output_type": "stream",
     "text": [
      "Summary of Point Based Value Iteration run\n",
      "  - Model: 99 state, 4 action, 3 observations\n",
      "  - Converged or stopped after 300 expansion steps and 300 backup steps.\n",
      "  - Resulting value function has 1980 alpha vectors.\n",
      "  - Converged in 4.6707s\n",
      "\n",
      "  - Expand function took on average 0.0114s and yielded on average 343.34 beliefs per iteration. (0.0001s/it/belief)\n",
      "  - Backup function took on average 0.0042s and yielded on average 6.59 alpha vectors per iteration. (0.0001s/it/alpha)\n",
      "  - Pruning function took on average 0.0000s and yielded on average prunings of 0.00 alpha vectors per iteration.\n"
     ]
    }
   ],
   "source": [
    "_ = ag.train(expansions=300, use_gpu=True)"
   ]
  },
  {
   "cell_type": "code",
   "execution_count": 10,
   "metadata": {},
   "outputs": [
    {
     "data": {
      "image/png": "[encoded data removed]",
      "text/plain": [
       "<Figure size 1000x500 with 3 Axes>"
      ]
     },
     "metadata": {},
     "output_type": "display_data"
    }
   ],
   "source": [
    "# CUSTOM PLOT\n",
    "COLOR_LIST = [{\n",
    "    'name': item.replace('tab:',''),\n",
    "    'id': item,\n",
    "    'hex': value,\n",
    "    'rgb': [int(value.lstrip('#')[i:i + (len(value)-1) // 3], 16) for i in range(0, (len(value)-1), (len(value)-1) // 3)]\n",
    "    } for item, value in colors.TABLEAU_COLORS.items()] # type: ignore\n",
    "\n",
    "COLOR_ARRAY = np.array([c['rgb'] for c in COLOR_LIST])\n",
    "\n",
    "# VF\n",
    "vf = ag.value_function\n",
    "new_shape = cells\n",
    "\n",
    "# ! Select here which source to plot\n",
    "source_policy = [0,0]\n",
    "source_policy_id = np.arange(np.prod(cells)).reshape(cells)[*source_policy]\n",
    "source_state_start = source_policy_id * np.prod(cells)\n",
    "\n",
    "value_table = np.max(vf.alpha_vector_array, axis=0)[vf.model.state_grid[:,source_state_start:source_state_start+np.prod(cells)]].reshape(new_shape)\n",
    "best_action_table = np.array(vf.actions)[np.argmax(vf.alpha_vector_array, axis=0)][vf.model.state_grid[:,source_state_start:source_state_start+np.prod(cells)]].reshape(new_shape)\n",
    "best_action_colors = COLOR_ARRAY[best_action_table]\n",
    "\n",
    "dimensions = new_shape\n",
    "\n",
    "fig, (ax1,ax2) = plt.subplots(1,2, figsize=(5*2, 5), width_ratios=(0.55,0.45))\n",
    "\n",
    "# Ticks\n",
    "x_ticks = np.arange(0, dimensions[1], (1 if dimensions[1] < 10 else int(dimensions[1] / 10)))\n",
    "y_ticks = np.arange(0, dimensions[0], (1 if dimensions[0] < 5 else int(dimensions[0] / 5)))\n",
    "\n",
    "ax1.set_title('Value function')\n",
    "ax1_plot = ax1.imshow(value_table)\n",
    "\n",
    "if dimensions[0] >= dimensions[1]: # If higher than wide\n",
    "    plt.colorbar(ax1_plot, ax=ax1)\n",
    "else:\n",
    "    plt.colorbar(ax1_plot, ax=ax1, location='bottom', orientation='horizontal')\n",
    "\n",
    "ax1.set_xticks(x_ticks)\n",
    "ax1.set_yticks(y_ticks)\n",
    "\n",
    "ax2.set_title('Action policy')\n",
    "ax2.imshow(best_action_colors)\n",
    "p = [ patches.Patch(color=COLOR_LIST[int(i)]['id'], label=str(vf.model.action_labels[int(i)])) for i in vf.model.actions]\n",
    "ax2.legend(handles=p, bbox_to_anchor=(1.05, 1), loc=2, borderaxespad=0., title='Actions')\n",
    "ax2.set_xticks(x_ticks)\n",
    "ax2.set_yticks(y_ticks)\n",
    "\n",
    "plt.show()"
   ]
  },
  {
   "cell_type": "markdown",
   "metadata": {},
   "source": [
    "### Validation on the artificial data"
   ]
  },
  {
   "cell_type": "code",
   "execution_count": 11,
   "metadata": {},
   "outputs": [
    {
     "name": "stdout",
     "output_type": "stream",
     "text": [
      "Using the provided environment, not the agent environment.\n"
     ]
    },
    {
     "data": {
      "application/vnd.jupyter.widget-view+json": {
       "model_id": "0aaf5bc87a34413b9ec49ff6e5a0a5f2",
       "version_major": 2,
       "version_minor": 0
      },
      "text/plain": [
       "  0%|          | 0/1000 [00:00<?, ?it/s]"
      ]
     },
     "metadata": {},
     "output_type": "display_data"
    },
    {
     "name": "stdout",
     "output_type": "stream",
     "text": [
      "Simulations done in 4.106s:\n",
      "Simulations reached goal: 10188/10188 (0 failures (reached horizon: 0)) (100.00% success)\n",
      " - Average step count:                 258.061 +- 159.89 (Successful only: 258.061 +- 159.89)\n",
      " - Extra steps:                        209.504 +- 150.04 (Successful only: 209.504 +- 150.05)\n",
      " - Average discounted rewards (ADR):   0.168 +- 0.19 (Successful only: 0.168 +- 0.19)\n",
      " - Tmin/T:                             0.241 +- 0.14 (Successful only: 0.241 +- 0.14)\n"
     ]
    }
   ],
   "source": [
    "hist = run_all_starts_test(ag,\n",
    "                           horizon=1000,\n",
    "                           use_gpu=True)"
   ]
  },
  {
   "cell_type": "markdown",
   "metadata": {},
   "source": [
    "## Test"
   ]
  },
  {
   "cell_type": "code",
   "execution_count": 12,
   "metadata": {},
   "outputs": [],
   "source": [
    "shift = np.array([-49,-49])\n",
    "\n",
    "shifted_artificial_data = np.zeros(artificial_data.shape)\n",
    "trimmed_artificial_data = artificial_data[:, *[slice(0, -s) if s > 0 else slice(-s, shape) for shape, s in zip(space_shape, shift)]]\n",
    "shifted_artificial_data[:, *[slice(s, shape) if s >=0 else slice(0, s) for shape, s in zip(space_shape, shift)]] = trimmed_artificial_data"
   ]
  },
  {
   "cell_type": "code",
   "execution_count": 13,
   "metadata": {},
   "outputs": [
    {
     "data": {
      "image/png": "[encoded data removed]",
      "text/plain": [
       "<Figure size 1500x500 with 1 Axes>"
      ]
     },
     "metadata": {},
     "output_type": "display_data"
    }
   ],
   "source": [
    "shifted_artificial_env  = Environment(data_file=shifted_artificial_data,\n",
    "                                      data_source_position=(np.array([50,50]) + shift).tolist(),\n",
    "                                      source_radius=source_radius,\n",
    "                                      shape=space_shape,\n",
    "                                      boundary_condition='stop',\n",
    "                                      start_zone='data_zone',\n",
    "                                      odor_present_threshold=3e-1)\n",
    "\n",
    "shifted_artificial_env.plot()"
   ]
  },
  {
   "cell_type": "code",
   "execution_count": 14,
   "metadata": {},
   "outputs": [
    {
     "name": "stdout",
     "output_type": "stream",
     "text": [
      "Using the provided environment, not the agent environment.\n",
      "Using the provided environment, not the agent environment.\n"
     ]
    },
    {
     "data": {
      "application/vnd.jupyter.widget-view+json": {
       "model_id": "f3de2bb9ca9f4251a1cc725662c5512b",
       "version_major": 2,
       "version_minor": 0
      },
      "text/plain": [
       "  0%|          | 0/1000 [00:00<?, ?it/s]"
      ]
     },
     "metadata": {},
     "output_type": "display_data"
    },
    {
     "name": "stdout",
     "output_type": "stream",
     "text": [
      "Simulations done in 5.362s:\n",
      "Simulations reached goal: 483/10190 (9707 failures (reached horizon: 9707)) (4.74% success)\n",
      " - Average step count:                 957.564 +- 191.17 (Successful only: 104.716 +- 86.81)\n",
      " - Extra steps:                        861.420 +- 177.72 (Successful only: 86.571 +- 83.17)\n",
      " - Average discounted rewards (ADR):   0.022 +- 0.11 (Successful only: 0.455 +- 0.26)\n",
      " - Tmin/T:                             0.109 +- 0.07 (Successful only: 0.279 +- 0.20)\n"
     ]
    }
   ],
   "source": [
    "hist = run_all_starts_test(ag,\n",
    "                           environment=shifted_artificial_env,\n",
    "                           horizon=1000,\n",
    "                           use_gpu=True)"
   ]
  },
  {
   "cell_type": "code",
   "execution_count": 15,
   "metadata": {},
   "outputs": [
    {
     "data": {
      "image/png": "[encoded data removed]",
      "text/plain": [
       "<Figure size 1000x1000 with 1 Axes>"
      ]
     },
     "metadata": {},
     "output_type": "display_data"
    }
   ],
   "source": [
    "_, ax = plt.subplots(1,1, figsize=(10,10))\n",
    "hist.plot_successes(ax)"
   ]
  },
  {
   "cell_type": "code",
   "execution_count": 16,
   "metadata": {},
   "outputs": [
    {
     "data": {
      "image/png": "[encoded data removed]",
      "text/plain": [
       "<Figure size 1000x1000 with 1 Axes>"
      ]
     },
     "metadata": {},
     "output_type": "display_data"
    }
   ],
   "source": [
    "_, ax = plt.subplots(1,1, figsize=(10,10))\n",
    "hist.plot(2000, ax=ax)"
   ]
  },
  {
   "cell_type": "code",
   "execution_count": 17,
   "metadata": {},
   "outputs": [
    {
     "data": {
      "text/html": [
       "<div>\n",
       "<style scoped>\n",
       "    .dataframe tbody tr th:only-of-type {\n",
       "        vertical-align: middle;\n",
       "    }\n",
       "\n",
       "    .dataframe tbody tr th {\n",
       "        vertical-align: top;\n",
       "    }\n",
       "\n",
       "    .dataframe thead th {\n",
       "        text-align: right;\n",
       "    }\n",
       "</style>\n",
       "<table border=\"1\" class=\"dataframe\">\n",
       "  <thead>\n",
       "    <tr style=\"text-align: right;\">\n",
       "      <th></th>\n",
       "      <th>y</th>\n",
       "      <th>x</th>\n",
       "      <th>optimal_steps_count</th>\n",
       "      <th>converged</th>\n",
       "      <th>reached_horizon</th>\n",
       "      <th>steps_taken</th>\n",
       "      <th>discounted_rewards</th>\n",
       "      <th>extra_steps</th>\n",
       "      <th>t_min_over_t</th>\n",
       "    </tr>\n",
       "  </thead>\n",
       "  <tbody>\n",
       "    <tr>\n",
       "      <th>mean</th>\n",
       "      <td>NaN</td>\n",
       "      <td>NaN</td>\n",
       "      <td>NaN</td>\n",
       "      <td>0.047399</td>\n",
       "      <td>0.952601</td>\n",
       "      <td>957.564082</td>\n",
       "      <td>0.021595</td>\n",
       "      <td>861.420216</td>\n",
       "      <td>0.108528</td>\n",
       "    </tr>\n",
       "    <tr>\n",
       "      <th>standard_deviation</th>\n",
       "      <td>NaN</td>\n",
       "      <td>NaN</td>\n",
       "      <td>NaN</td>\n",
       "      <td>0.212492</td>\n",
       "      <td>0.212492</td>\n",
       "      <td>191.174883</td>\n",
       "      <td>0.112208</td>\n",
       "      <td>177.715475</td>\n",
       "      <td>0.069285</td>\n",
       "    </tr>\n",
       "    <tr>\n",
       "      <th>success_mean</th>\n",
       "      <td>NaN</td>\n",
       "      <td>NaN</td>\n",
       "      <td>NaN</td>\n",
       "      <td>1.0</td>\n",
       "      <td>0.0</td>\n",
       "      <td>104.716356</td>\n",
       "      <td>0.454728</td>\n",
       "      <td>86.571429</td>\n",
       "      <td>0.279427</td>\n",
       "    </tr>\n",
       "    <tr>\n",
       "      <th>success_standard_deviation</th>\n",
       "      <td>NaN</td>\n",
       "      <td>NaN</td>\n",
       "      <td>NaN</td>\n",
       "      <td>0.0</td>\n",
       "      <td>0.0</td>\n",
       "      <td>86.809853</td>\n",
       "      <td>0.262357</td>\n",
       "      <td>83.167110</td>\n",
       "      <td>0.203855</td>\n",
       "    </tr>\n",
       "    <tr>\n",
       "      <th>run_0</th>\n",
       "      <td>0.0</td>\n",
       "      <td>3.0</td>\n",
       "      <td>1.0</td>\n",
       "      <td>True</td>\n",
       "      <td>False</td>\n",
       "      <td>7.000000</td>\n",
       "      <td>0.932065</td>\n",
       "      <td>6.000000</td>\n",
       "      <td>0.142857</td>\n",
       "    </tr>\n",
       "    <tr>\n",
       "      <th>...</th>\n",
       "      <td>...</td>\n",
       "      <td>...</td>\n",
       "      <td>...</td>\n",
       "      <td>...</td>\n",
       "      <td>...</td>\n",
       "      <td>...</td>\n",
       "      <td>...</td>\n",
       "      <td>...</td>\n",
       "      <td>...</td>\n",
       "    </tr>\n",
       "    <tr>\n",
       "      <th>run_10185</th>\n",
       "      <td>100.0</td>\n",
       "      <td>96.0</td>\n",
       "      <td>192.0</td>\n",
       "      <td>False</td>\n",
       "      <td>True</td>\n",
       "      <td>1000.000000</td>\n",
       "      <td>0.000043</td>\n",
       "      <td>808.000000</td>\n",
       "      <td>0.192000</td>\n",
       "    </tr>\n",
       "    <tr>\n",
       "      <th>run_10186</th>\n",
       "      <td>100.0</td>\n",
       "      <td>97.0</td>\n",
       "      <td>193.0</td>\n",
       "      <td>False</td>\n",
       "      <td>True</td>\n",
       "      <td>1000.000000</td>\n",
       "      <td>0.000043</td>\n",
       "      <td>807.000000</td>\n",
       "      <td>0.193000</td>\n",
       "    </tr>\n",
       "    <tr>\n",
       "      <th>run_10187</th>\n",
       "      <td>100.0</td>\n",
       "      <td>98.0</td>\n",
       "      <td>194.0</td>\n",
       "      <td>False</td>\n",
       "      <td>True</td>\n",
       "      <td>1000.000000</td>\n",
       "      <td>0.000043</td>\n",
       "      <td>806.000000</td>\n",
       "      <td>0.194000</td>\n",
       "    </tr>\n",
       "    <tr>\n",
       "      <th>run_10188</th>\n",
       "      <td>100.0</td>\n",
       "      <td>99.0</td>\n",
       "      <td>195.0</td>\n",
       "      <td>False</td>\n",
       "      <td>True</td>\n",
       "      <td>1000.000000</td>\n",
       "      <td>0.000043</td>\n",
       "      <td>805.000000</td>\n",
       "      <td>0.195000</td>\n",
       "    </tr>\n",
       "    <tr>\n",
       "      <th>run_10189</th>\n",
       "      <td>100.0</td>\n",
       "      <td>100.0</td>\n",
       "      <td>196.0</td>\n",
       "      <td>False</td>\n",
       "      <td>True</td>\n",
       "      <td>1000.000000</td>\n",
       "      <td>0.000043</td>\n",
       "      <td>804.000000</td>\n",
       "      <td>0.196000</td>\n",
       "    </tr>\n",
       "  </tbody>\n",
       "</table>\n",
       "<p>10194 rows × 9 columns</p>\n",
       "</div>"
      ],
      "text/plain": [
       "                                y      x  optimal_steps_count converged  \\\n",
       "mean                          NaN    NaN                  NaN  0.047399   \n",
       "standard_deviation            NaN    NaN                  NaN  0.212492   \n",
       "success_mean                  NaN    NaN                  NaN       1.0   \n",
       "success_standard_deviation    NaN    NaN                  NaN       0.0   \n",
       "run_0                         0.0    3.0                  1.0      True   \n",
       "...                           ...    ...                  ...       ...   \n",
       "run_10185                   100.0   96.0                192.0     False   \n",
       "run_10186                   100.0   97.0                193.0     False   \n",
       "run_10187                   100.0   98.0                194.0     False   \n",
       "run_10188                   100.0   99.0                195.0     False   \n",
       "run_10189                   100.0  100.0                196.0     False   \n",
       "\n",
       "                           reached_horizon  steps_taken  discounted_rewards  \\\n",
       "mean                              0.952601   957.564082            0.021595   \n",
       "standard_deviation                0.212492   191.174883            0.112208   \n",
       "success_mean                           0.0   104.716356            0.454728   \n",
       "success_standard_deviation             0.0    86.809853            0.262357   \n",
       "run_0                                False     7.000000            0.932065   \n",
       "...                                    ...          ...                 ...   \n",
       "run_10185                             True  1000.000000            0.000043   \n",
       "run_10186                             True  1000.000000            0.000043   \n",
       "run_10187                             True  1000.000000            0.000043   \n",
       "run_10188                             True  1000.000000            0.000043   \n",
       "run_10189                             True  1000.000000            0.000043   \n",
       "\n",
       "                            extra_steps  t_min_over_t  \n",
       "mean                         861.420216      0.108528  \n",
       "standard_deviation           177.715475      0.069285  \n",
       "success_mean                  86.571429      0.279427  \n",
       "success_standard_deviation    83.167110      0.203855  \n",
       "run_0                          6.000000      0.142857  \n",
       "...                                 ...           ...  \n",
       "run_10185                    808.000000      0.192000  \n",
       "run_10186                    807.000000      0.193000  \n",
       "run_10187                    806.000000      0.194000  \n",
       "run_10188                    805.000000      0.195000  \n",
       "run_10189                    804.000000      0.196000  \n",
       "\n",
       "[10194 rows x 9 columns]"
      ]
     },
     "execution_count": 17,
     "metadata": {},
     "output_type": "execute_result"
    }
   ],
   "source": [
    "hist.analysis_df"
   ]
  },
  {
   "cell_type": "markdown",
   "metadata": {},
   "source": [
    "## All Tests"
   ]
  },
  {
   "cell_type": "code",
   "execution_count": 18,
   "metadata": {},
   "outputs": [
    {
     "name": "stdout",
     "output_type": "stream",
     "text": [
      "\n",
      "shift = array([-1, -1])\n",
      "Using the provided environment, not the agent environment.\n",
      "Using the provided environment, not the agent environment.\n",
      "Simulations done in 3.532s:\n",
      "Simulations reached goal: 10188/10188 (0 failures (reached horizon: 0)) (100.00% success)\n",
      " - Average step count:                 239.820 +- 136.67 (Successful only: 239.820 +- 136.67)\n",
      " - Extra steps:                        191.243 +- 126.69 (Successful only: 191.243 +- 126.70)\n",
      " - Average discounted rewards (ADR):   0.172 +- 0.19 (Successful only: 0.172 +- 0.19)\n",
      " - Tmin/T:                             0.249 +- 0.14 (Successful only: 0.249 +- 0.14)\n",
      "\n",
      "shift = array([-3, -3])\n",
      "Using the provided environment, not the agent environment.\n",
      "Using the provided environment, not the agent environment.\n",
      "Simulations done in 3.813s:\n",
      "Simulations reached goal: 10188/10188 (0 failures (reached horizon: 0)) (100.00% success)\n",
      " - Average step count:                 261.461 +- 157.59 (Successful only: 261.461 +- 157.59)\n",
      " - Extra steps:                        212.725 +- 148.27 (Successful only: 212.725 +- 148.28)\n",
      " - Average discounted rewards (ADR):   0.163 +- 0.19 (Successful only: 0.163 +- 0.19)\n",
      " - Tmin/T:                             0.238 +- 0.14 (Successful only: 0.238 +- 0.14)\n",
      "\n",
      "shift = array([-5, -5])\n",
      "Using the provided environment, not the agent environment.\n",
      "Using the provided environment, not the agent environment.\n",
      "Simulations done in 4.274s:\n",
      "Simulations reached goal: 10124/10188 (64 failures (reached horizon: 64)) (99.37% success)\n",
      " - Average step count:                 284.985 +- 183.70 (Successful only: 280.465 +- 175.24)\n",
      " - Extra steps:                        235.932 +- 173.50 (Successful only: 231.512 +- 164.87)\n",
      " - Average discounted rewards (ADR):   0.156 +- 0.19 (Successful only: 0.157 +- 0.19)\n",
      " - Tmin/T:                             0.228 +- 0.14 (Successful only: 0.229 +- 0.14)\n",
      "\n",
      "shift = array([-7, -7])\n",
      "Using the provided environment, not the agent environment.\n",
      "Using the provided environment, not the agent environment.\n",
      "Simulations done in 4.506s:\n",
      "Simulations reached goal: 8957/10188 (1231 failures (reached horizon: 1231)) (87.92% success)\n",
      " - Average step count:                 337.152 +- 281.98 (Successful only: 246.054 +- 147.51)\n",
      " - Extra steps:                        287.623 +- 270.64 (Successful only: 199.662 +- 138.71)\n",
      " - Average discounted rewards (ADR):   0.152 +- 0.19 (Successful only: 0.173 +- 0.20)\n",
      " - Tmin/T:                             0.218 +- 0.14 (Successful only: 0.238 +- 0.14)\n",
      "\n",
      "shift = array([-9, -9])\n",
      "Using the provided environment, not the agent environment.\n",
      "Using the provided environment, not the agent environment.\n",
      "Simulations done in 4.554s:\n",
      "Simulations reached goal: 8917/10188 (1271 failures (reached horizon: 1271)) (87.52% success)\n",
      " - Average step count:                 361.327 +- 294.95 (Successful only: 270.293 +- 181.58)\n",
      " - Extra steps:                        311.164 +- 282.34 (Successful only: 223.640 +- 172.15)\n",
      " - Average discounted rewards (ADR):   0.148 +- 0.19 (Successful only: 0.169 +- 0.20)\n",
      " - Tmin/T:                             0.211 +- 0.14 (Successful only: 0.231 +- 0.14)\n",
      "\n",
      "shift = array([-11, -11])\n",
      "Using the provided environment, not the agent environment.\n",
      "Using the provided environment, not the agent environment.\n",
      "Simulations done in 4.603s:\n",
      "Simulations reached goal: 8438/10188 (1750 failures (reached horizon: 1750)) (82.82% success)\n",
      " - Average step count:                 412.984 +- 322.23 (Successful only: 291.240 +- 197.70)\n",
      " - Extra steps:                        362.027 +- 308.00 (Successful only: 245.446 +- 188.03)\n",
      " - Average discounted rewards (ADR):   0.133 +- 0.20 (Successful only: 0.160 +- 0.21)\n",
      " - Tmin/T:                             0.191 +- 0.14 (Successful only: 0.215 +- 0.14)\n",
      "\n",
      "shift = array([-13, -13])\n",
      "Using the provided environment, not the agent environment.\n",
      "Using the provided environment, not the agent environment.\n",
      "Simulations done in 4.643s:\n",
      "Simulations reached goal: 7821/10188 (2367 failures (reached horizon: 2367)) (76.77% success)\n",
      " - Average step count:                 456.957 +- 352.07 (Successful only: 292.607 +- 212.63)\n",
      " - Extra steps:                        405.049 +- 336.46 (Successful only: 248.095 +- 203.30)\n",
      " - Average discounted rewards (ADR):   0.128 +- 0.20 (Successful only: 0.166 +- 0.21)\n",
      " - Tmin/T:                             0.182 +- 0.14 (Successful only: 0.214 +- 0.14)\n",
      "\n",
      "shift = array([-15, -15])\n",
      "Using the provided environment, not the agent environment.\n",
      "Using the provided environment, not the agent environment.\n",
      "Simulations done in 4.654s:\n",
      "Simulations reached goal: 7087/10188 (3101 failures (reached horizon: 3101)) (69.56% success)\n",
      " - Average step count:                 501.975 +- 371.80 (Successful only: 284.058 +- 206.68)\n",
      " - Extra steps:                        448.956 +- 355.44 (Successful only: 240.931 +- 198.16)\n",
      " - Average discounted rewards (ADR):   0.121 +- 0.20 (Successful only: 0.174 +- 0.22)\n",
      " - Tmin/T:                             0.172 +- 0.14 (Successful only: 0.215 +- 0.14)\n",
      "\n",
      "shift = array([-17, -17])\n",
      "Using the provided environment, not the agent environment.\n",
      "Using the provided environment, not the agent environment.\n",
      "Simulations done in 4.708s:\n",
      "Simulations reached goal: 6826/10188 (3362 failures (reached horizon: 3362)) (67.00% success)\n",
      " - Average step count:                 541.329 +- 374.95 (Successful only: 315.420 +- 234.91)\n",
      " - Extra steps:                        487.041 +- 357.28 (Successful only: 272.521 +- 225.51)\n",
      " - Average discounted rewards (ADR):   0.115 +- 0.20 (Successful only: 0.171 +- 0.22)\n",
      " - Tmin/T:                             0.162 +- 0.13 (Successful only: 0.204 +- 0.15)\n",
      "\n",
      "shift = array([-19, -19])\n",
      "Using the provided environment, not the agent environment.\n",
      "Using the provided environment, not the agent environment.\n",
      "Simulations done in 4.703s:\n",
      "Simulations reached goal: 6172/10188 (4016 failures (reached horizon: 4016)) (60.58% success)\n",
      " - Average step count:                 580.901 +- 380.91 (Successful only: 308.202 +- 225.52)\n",
      " - Extra steps:                        525.186 +- 362.38 (Successful only: 266.529 +- 216.15)\n",
      " - Average discounted rewards (ADR):   0.108 +- 0.20 (Successful only: 0.178 +- 0.23)\n",
      " - Tmin/T:                             0.154 +- 0.13 (Successful only: 0.203 +- 0.15)\n",
      "\n",
      "shift = array([-21, -21])\n",
      "Using the provided environment, not the agent environment.\n",
      "Using the provided environment, not the agent environment.\n",
      "Simulations done in 4.760s:\n",
      "Simulations reached goal: 6002/10188 (4186 failures (reached horizon: 4186)) (58.91% success)\n",
      " - Average step count:                 615.606 +- 382.63 (Successful only: 347.517 +- 271.29)\n",
      " - Extra steps:                        558.305 +- 363.30 (Successful only: 305.616 +- 261.29)\n",
      " - Average discounted rewards (ADR):   0.102 +- 0.20 (Successful only: 0.173 +- 0.23)\n",
      " - Tmin/T:                             0.146 +- 0.13 (Successful only: 0.193 +- 0.15)\n",
      "\n",
      "shift = array([-23, -23])\n",
      "Using the provided environment, not the agent environment.\n",
      "Using the provided environment, not the agent environment.\n",
      "Simulations done in 4.826s:\n",
      "Simulations reached goal: 5557/10188 (4631 failures (reached horizon: 4631)) (54.54% success)\n",
      " - Average step count:                 692.483 +- 362.31 (Successful only: 436.210 +- 310.15)\n",
      " - Extra steps:                        633.437 +- 340.99 (Successful only: 394.866 +- 295.78)\n",
      " - Average discounted rewards (ADR):   0.094 +- 0.20 (Successful only: 0.172 +- 0.24)\n",
      " - Tmin/T:                             0.130 +- 0.13 (Successful only: 0.172 +- 0.16)\n",
      "\n",
      "shift = array([-25, -25])\n",
      "Using the provided environment, not the agent environment.\n",
      "Using the provided environment, not the agent environment.\n",
      "Simulations done in 4.932s:\n",
      "Simulations reached goal: 3061/10188 (7127 failures (reached horizon: 7127)) (30.05% success)\n",
      " - Average step count:                 773.123 +- 374.26 (Successful only: 244.880 +- 259.48)\n",
      " - Extra steps:                        712.173 +- 354.32 (Successful only: 213.492 +- 246.47)\n",
      " - Average discounted rewards (ADR):   0.089 +- 0.20 (Successful only: 0.297 +- 0.26)\n",
      " - Tmin/T:                             0.122 +- 0.12 (Successful only: 0.235 +- 0.18)\n",
      "\n",
      "shift = array([-27, -27])\n",
      "Using the provided environment, not the agent environment.\n",
      "Using the provided environment, not the agent environment.\n",
      "Simulations done in 4.901s:\n",
      "Simulations reached goal: 4705/10188 (5483 failures (reached horizon: 5483)) (46.18% success)\n",
      " - Average step count:                 757.366 +- 351.99 (Successful only: 474.610 +- 346.05)\n",
      " - Extra steps:                        694.354 +- 329.91 (Successful only: 434.238 +- 330.40)\n",
      " - Average discounted rewards (ADR):   0.084 +- 0.20 (Successful only: 0.182 +- 0.26)\n",
      " - Tmin/T:                             0.121 +- 0.12 (Successful only: 0.167 +- 0.16)\n",
      "\n",
      "shift = array([-29, -29])\n",
      "Using the provided environment, not the agent environment.\n",
      "Using the provided environment, not the agent environment.\n",
      "Simulations done in 4.962s:\n",
      "Simulations reached goal: 2157/10188 (8031 failures (reached horizon: 8031)) (21.17% success)\n",
      " - Average step count:                 816.924 +- 356.76 (Successful only: 135.288 +- 108.37)\n",
      " - Extra steps:                        751.691 +- 336.17 (Successful only: 111.414 +- 103.66)\n",
      " - Average discounted rewards (ADR):   0.080 +- 0.19 (Successful only: 0.377 +- 0.26)\n",
      " - Tmin/T:                             0.116 +- 0.12 (Successful only: 0.265 +- 0.18)\n",
      "\n",
      "shift = array([-31, -31])\n",
      "Using the provided environment, not the agent environment.\n",
      "Using the provided environment, not the agent environment.\n",
      "Simulations done in 4.964s:\n",
      "Simulations reached goal: 1930/10188 (8258 failures (reached horizon: 8258)) (18.94% success)\n",
      " - Average step count:                 834.608 +- 344.77 (Successful only: 126.938 +- 98.17)\n",
      " - Extra steps:                        766.997 +- 324.11 (Successful only: 104.059 +- 92.85)\n",
      " - Average discounted rewards (ADR):   0.075 +- 0.19 (Successful only: 0.393 +- 0.26)\n",
      " - Tmin/T:                             0.114 +- 0.11 (Successful only: 0.267 +- 0.18)\n",
      "\n",
      "shift = array([-33, -33])\n",
      "Using the provided environment, not the agent environment.\n",
      "Using the provided environment, not the agent environment.\n",
      "Simulations done in 4.999s:\n",
      "Simulations reached goal: 1756/10188 (8432 failures (reached horizon: 8432)) (17.24% success)\n",
      " - Average step count:                 848.777 +- 333.97 (Successful only: 122.633 +- 100.10)\n",
      " - Extra steps:                        778.628 +- 313.10 (Successful only: 100.696 +- 94.88)\n",
      " - Average discounted rewards (ADR):   0.070 +- 0.19 (Successful only: 0.408 +- 0.26)\n",
      " - Tmin/T:                             0.113 +- 0.11 (Successful only: 0.269 +- 0.18)\n",
      "\n",
      "shift = array([-35, -35])\n",
      "Using the provided environment, not the agent environment.\n",
      "Using the provided environment, not the agent environment.\n",
      "Simulations done in 4.967s:\n",
      "Simulations reached goal: 1572/10188 (8616 failures (reached horizon: 8616)) (15.43% success)\n",
      " - Average step count:                 863.662 +- 321.34 (Successful only: 116.407 +- 94.51)\n",
      " - Extra steps:                        790.816 +- 300.46 (Successful only: 95.464 +- 89.05)\n",
      " - Average discounted rewards (ADR):   0.066 +- 0.19 (Successful only: 0.426 +- 0.27)\n",
      " - Tmin/T:                             0.112 +- 0.10 (Successful only: 0.273 +- 0.19)\n",
      "\n",
      "shift = array([-37, -37])\n",
      "Using the provided environment, not the agent environment.\n",
      "Using the provided environment, not the agent environment.\n",
      "Simulations done in 5.009s:\n",
      "Simulations reached goal: 1375/10188 (8813 failures (reached horizon: 8813)) (13.50% success)\n",
      " - Average step count:                 879.441 +- 306.95 (Successful only: 106.723 +- 88.60)\n",
      " - Extra steps:                        803.740 +- 286.47 (Successful only: 86.691 +- 82.80)\n",
      " - Average discounted rewards (ADR):   0.061 +- 0.18 (Successful only: 0.453 +- 0.27)\n",
      " - Tmin/T:                             0.111 +- 0.10 (Successful only: 0.282 +- 0.19)\n",
      "\n",
      "shift = array([-39, -39])\n",
      "Using the provided environment, not the agent environment.\n",
      "Using the provided environment, not the agent environment.\n",
      "Simulations done in 5.073s:\n",
      "Simulations reached goal: 1210/10188 (8978 failures (reached horizon: 8978)) (11.88% success)\n",
      " - Average step count:                 894.619 +- 289.42 (Successful only: 112.707 +- 107.27)\n",
      " - Extra steps:                        815.904 +- 269.38 (Successful only: 93.580 +- 102.74)\n",
      " - Average discounted rewards (ADR):   0.054 +- 0.18 (Successful only: 0.456 +- 0.28)\n",
      " - Tmin/T:                             0.110 +- 0.10 (Successful only: 0.280 +- 0.20)\n",
      "\n",
      "shift = array([-41, -41])\n",
      "Using the provided environment, not the agent environment.\n",
      "Using the provided environment, not the agent environment.\n",
      "Simulations done in 5.067s:\n",
      "Simulations reached goal: 1032/10188 (9156 failures (reached horizon: 9156)) (10.13% success)\n",
      " - Average step count:                 909.067 +- 272.48 (Successful only: 102.299 +- 93.55)\n",
      " - Extra steps:                        827.180 +- 253.26 (Successful only: 83.906 +- 88.49)\n",
      " - Average discounted rewards (ADR):   0.049 +- 0.17 (Successful only: 0.478 +- 0.27)\n",
      " - Tmin/T:                             0.109 +- 0.09 (Successful only: 0.290 +- 0.20)\n",
      "\n",
      "shift = array([-43, -43])\n",
      "Using the provided environment, not the agent environment.\n",
      "Using the provided environment, not the agent environment.\n",
      "Simulations done in 5.081s:\n",
      "Simulations reached goal: 875/10188 (9313 failures (reached horizon: 9313)) (8.59% success)\n",
      " - Average step count:                 922.645 +- 253.73 (Successful only: 99.322 +- 89.79)\n",
      " - Extra steps:                        837.427 +- 235.51 (Successful only: 81.504 +- 84.77)\n",
      " - Average discounted rewards (ADR):   0.042 +- 0.16 (Successful only: 0.489 +- 0.28)\n",
      " - Tmin/T:                             0.109 +- 0.09 (Successful only: 0.294 +- 0.20)\n",
      "\n",
      "shift = array([-45, -45])\n",
      "Using the provided environment, not the agent environment.\n",
      "Using the provided environment, not the agent environment.\n",
      "Simulations done in 5.100s:\n",
      "Simulations reached goal: 751/10188 (9437 failures (reached horizon: 9437)) (7.37% success)\n",
      " - Average step count:                 933.938 +- 235.54 (Successful only: 103.806 +- 93.14)\n",
      " - Extra steps:                        845.230 +- 218.32 (Successful only: 86.095 +- 88.19)\n",
      " - Average discounted rewards (ADR):   0.035 +- 0.15 (Successful only: 0.475 +- 0.28)\n",
      " - Tmin/T:                             0.108 +- 0.08 (Successful only: 0.281 +- 0.20)\n",
      "\n",
      "shift = array([-47, -47])\n",
      "Using the provided environment, not the agent environment.\n",
      "Using the provided environment, not the agent environment.\n",
      "Simulations done in 5.150s:\n",
      "Simulations reached goal: 613/10188 (9575 failures (reached horizon: 9575)) (6.02% success)\n",
      " - Average step count:                 945.762 +- 215.28 (Successful only: 98.569 +- 81.31)\n",
      " - Extra steps:                        853.406 +- 199.71 (Successful only: 80.670 +- 76.11)\n",
      " - Average discounted rewards (ADR):   0.029 +- 0.13 (Successful only: 0.474 +- 0.26)\n",
      " - Tmin/T:                             0.108 +- 0.08 (Successful only: 0.281 +- 0.20)\n",
      "\n",
      "shift = array([-49, -49])\n",
      "Using the provided environment, not the agent environment.\n",
      "Using the provided environment, not the agent environment.\n",
      "Simulations done in 5.105s:\n",
      "Simulations reached goal: 483/10190 (9707 failures (reached horizon: 9707)) (4.74% success)\n",
      " - Average step count:                 957.564 +- 191.17 (Successful only: 104.716 +- 86.81)\n",
      " - Extra steps:                        861.420 +- 177.72 (Successful only: 86.571 +- 83.17)\n",
      " - Average discounted rewards (ADR):   0.022 +- 0.11 (Successful only: 0.455 +- 0.26)\n",
      " - Tmin/T:                             0.109 +- 0.07 (Successful only: 0.279 +- 0.20)\n"
     ]
    }
   ],
   "source": [
    "# Complete test\n",
    "all_hists = []\n",
    "for i in range(1,50,2):\n",
    "    shift = np.array([-i,-i])\n",
    "    print(f'\\n{shift = }')\n",
    "\n",
    "    # Setup shifted environment\n",
    "    shifted_artificial_data = np.zeros(artificial_data.shape)\n",
    "    trimmed_artificial_data = artificial_data[:, *[slice(0, -s) if s > 0 else slice(-s, shape) for shape, s in zip(space_shape, shift)]]\n",
    "    shifted_artificial_data[:, *[slice(s, shape) if s >=0 else slice(0, s) for shape, s in zip(space_shape, shift)]] = trimmed_artificial_data\n",
    "\n",
    "    shifted_artificial_env  = Environment(data_file=shifted_artificial_data,\n",
    "                                          data_source_position=(np.array([50,50]) + shift).tolist(),\n",
    "                                          source_radius=source_radius,\n",
    "                                          shape=space_shape,\n",
    "                                          boundary_condition='stop',\n",
    "                                          start_zone='data_zone',\n",
    "                                          odor_present_threshold=3e-1)\n",
    "\n",
    "    # Running test\n",
    "    hist = run_all_starts_test(ag,\n",
    "                               environment=shifted_artificial_env,\n",
    "                               horizon=1000,\n",
    "                               use_gpu=True,\n",
    "                               print_progress=False)\n",
    "\n",
    "    all_hists.append(hist)"
   ]
  },
  {
   "cell_type": "code",
   "execution_count": 19,
   "metadata": {},
   "outputs": [],
   "source": [
    "# Extracting performance metrics\n",
    "convergences = []\n",
    "convergences_std = []\n",
    "tmin_over_ts = []\n",
    "tmin_over_ts_std = []\n",
    "\n",
    "for hist in all_hists:\n",
    "    df = hist.analysis_df\n",
    "    convergences.append(df['converged']['mean'])\n",
    "    convergences_std.append(df['converged']['standard_deviation'])\n",
    "    tmin_over_ts.append(df['t_min_over_t']['success_mean'])\n",
    "    tmin_over_ts_std.append(df['t_min_over_t']['success_standard_deviation'])"
   ]
  },
  {
   "cell_type": "code",
   "execution_count": 20,
   "metadata": {},
   "outputs": [
    {
     "data": {
      "text/plain": [
       "Text(0.5, 0, 'Shift from center along diagonal')"
      ]
     },
     "execution_count": 20,
     "metadata": {},
     "output_type": "execute_result"
    },
    {
     "data": {
      "image/png": "[encoded data removed]",
      "text/plain": [
       "<Figure size 1000x500 with 1 Axes>"
      ]
     },
     "metadata": {},
     "output_type": "display_data"
    }
   ],
   "source": [
    "_, (ax0) = plt.subplots(1,1, figsize=(10,5), gridspec_kw={'hspace':0.3})\n",
    "xs = (np.arange(len(convergences)) * 2) + 1\n",
    "\n",
    "# Convergence plot\n",
    "ax0.set_title('Performances of the agent when shifting the source (convergence)')\n",
    "ax0.errorbar(xs, convergences, convergences_std)\n",
    "\n",
    "# Other formatting\n",
    "ax0.grid()\n",
    "ax0.set_xticks(xs)\n",
    "ax0.set_yticks([0.0, 0.5, 1.0], labels=[0, 50, 100])\n",
    "ax0.set_ylabel('Convergence (%)')\n",
    "ax0.set_xlabel('Shift from center along diagonal')"
   ]
  },
  {
   "cell_type": "code",
   "execution_count": 21,
   "metadata": {},
   "outputs": [
    {
     "data": {
      "text/plain": [
       "Text(0.5, 0, 'Shift from center along diagonal')"
      ]
     },
     "execution_count": 21,
     "metadata": {},
     "output_type": "execute_result"
    },
    {
     "data": {
      "image/png": "[encoded data removed]",
      "text/plain": [
       "<Figure size 1000x500 with 1 Axes>"
      ]
     },
     "metadata": {},
     "output_type": "display_data"
    }
   ],
   "source": [
    "_, (ax1) = plt.subplots(1,1, figsize=(10,5), gridspec_kw={'hspace':0.3})\n",
    "\n",
    "# tmin over t plot\n",
    "ax1.set_title('Performances of the agent when shifting the source ($t_{min}/t$)')\n",
    "ax1.errorbar(xs, tmin_over_ts, tmin_over_ts_std)\n",
    "\n",
    "# Other formatting\n",
    "ax1.grid()\n",
    "ax1.set_xticks(xs)\n",
    "ax1.set_yticks(np.arange(6)/10)\n",
    "ax1.set_ylabel('$t_{min}/t$')\n",
    "ax1.set_xlabel('Shift from center along diagonal')"
   ]
  },
  {
   "cell_type": "markdown",
   "metadata": {},
   "source": [
    "## Grid check"
   ]
  },
  {
   "cell_type": "code",
   "execution_count": 22,
   "metadata": {},
   "outputs": [
    {
     "name": "stdout",
     "output_type": "stream",
     "text": [
      "len(point_array) = 25\n"
     ]
    }
   ],
   "source": [
    "point_array = np.array(list(np.ndindex(5,5))) * -2\n",
    "\n",
    "print(f'{len(point_array) = }')"
   ]
  },
  {
   "cell_type": "code",
   "execution_count": 23,
   "metadata": {},
   "outputs": [
    {
     "name": "stdout",
     "output_type": "stream",
     "text": [
      "\n",
      "shift = array([0, 0])\n",
      "Using the provided environment, not the agent environment.\n",
      "Using the provided environment, not the agent environment.\n",
      "Simulations done in 3.810s:\n",
      "Simulations reached goal: 10188/10188 (0 failures (reached horizon: 0)) (100.00% success)\n",
      " - Average step count:                 258.061 +- 159.89 (Successful only: 258.061 +- 159.89)\n",
      " - Extra steps:                        209.504 +- 150.04 (Successful only: 209.504 +- 150.05)\n",
      " - Average discounted rewards (ADR):   0.168 +- 0.19 (Successful only: 0.168 +- 0.19)\n",
      " - Tmin/T:                             0.241 +- 0.14 (Successful only: 0.241 +- 0.14)\n",
      "\n",
      "shift = array([ 0, -2])\n",
      "Using the provided environment, not the agent environment.\n",
      "Using the provided environment, not the agent environment.\n",
      "Simulations done in 3.751s:\n",
      "Simulations reached goal: 10188/10188 (0 failures (reached horizon: 0)) (100.00% success)\n",
      " - Average step count:                 249.237 +- 157.25 (Successful only: 249.237 +- 157.26)\n",
      " - Extra steps:                        200.640 +- 147.10 (Successful only: 200.640 +- 147.11)\n",
      " - Average discounted rewards (ADR):   0.176 +- 0.19 (Successful only: 0.176 +- 0.19)\n",
      " - Tmin/T:                             0.249 +- 0.14 (Successful only: 0.249 +- 0.14)\n",
      "\n",
      "shift = array([ 0, -4])\n",
      "Using the provided environment, not the agent environment.\n",
      "Using the provided environment, not the agent environment.\n",
      "Simulations done in 3.744s:\n",
      "Simulations reached goal: 10188/10188 (0 failures (reached horizon: 0)) (100.00% success)\n",
      " - Average step count:                 250.400 +- 158.14 (Successful only: 250.400 +- 158.15)\n",
      " - Extra steps:                        201.684 +- 147.52 (Successful only: 201.684 +- 147.52)\n",
      " - Average discounted rewards (ADR):   0.175 +- 0.19 (Successful only: 0.175 +- 0.19)\n",
      " - Tmin/T:                             0.248 +- 0.14 (Successful only: 0.248 +- 0.14)\n",
      "\n",
      "shift = array([ 0, -6])\n",
      "Using the provided environment, not the agent environment.\n",
      "Using the provided environment, not the agent environment.\n",
      "Simulations done in 3.766s:\n",
      "Simulations reached goal: 10188/10188 (0 failures (reached horizon: 0)) (100.00% success)\n",
      " - Average step count:                 255.059 +- 165.84 (Successful only: 255.059 +- 165.85)\n",
      " - Extra steps:                        206.144 +- 154.82 (Successful only: 206.144 +- 154.83)\n",
      " - Average discounted rewards (ADR):   0.176 +- 0.19 (Successful only: 0.176 +- 0.19)\n",
      " - Tmin/T:                             0.248 +- 0.14 (Successful only: 0.248 +- 0.14)\n",
      "\n",
      "shift = array([ 0, -8])\n",
      "Using the provided environment, not the agent environment.\n",
      "Using the provided environment, not the agent environment.\n",
      "Simulations done in 4.288s:\n",
      "Simulations reached goal: 10178/10188 (10 failures (reached horizon: 10)) (99.90% success)\n",
      " - Average step count:                 272.738 +- 181.20 (Successful only: 272.024 +- 179.86)\n",
      " - Extra steps:                        223.546 +- 168.71 (Successful only: 222.872 +- 167.42)\n",
      " - Average discounted rewards (ADR):   0.169 +- 0.19 (Successful only: 0.169 +- 0.19)\n",
      " - Tmin/T:                             0.238 +- 0.14 (Successful only: 0.238 +- 0.14)\n",
      "\n",
      "shift = array([-2,  0])\n",
      "Using the provided environment, not the agent environment.\n",
      "Using the provided environment, not the agent environment.\n",
      "Simulations done in 3.920s:\n",
      "Simulations reached goal: 10188/10188 (0 failures (reached horizon: 0)) (100.00% success)\n",
      " - Average step count:                 262.023 +- 149.59 (Successful only: 262.023 +- 149.60)\n",
      " - Extra steps:                        213.426 +- 139.77 (Successful only: 213.426 +- 139.78)\n",
      " - Average discounted rewards (ADR):   0.160 +- 0.19 (Successful only: 0.160 +- 0.19)\n",
      " - Tmin/T:                             0.234 +- 0.14 (Successful only: 0.234 +- 0.14)\n",
      "\n",
      "shift = array([-2, -2])\n",
      "Using the provided environment, not the agent environment.\n",
      "Using the provided environment, not the agent environment.\n",
      "Simulations done in 3.141s:\n",
      "Simulations reached goal: 10188/10188 (0 failures (reached horizon: 0)) (100.00% success)\n",
      " - Average step count:                 261.494 +- 155.87 (Successful only: 261.494 +- 155.87)\n",
      " - Extra steps:                        212.857 +- 145.68 (Successful only: 212.857 +- 145.69)\n",
      " - Average discounted rewards (ADR):   0.163 +- 0.19 (Successful only: 0.163 +- 0.19)\n",
      " - Tmin/T:                             0.237 +- 0.14 (Successful only: 0.237 +- 0.14)\n",
      "\n",
      "shift = array([-2, -4])\n",
      "Using the provided environment, not the agent environment.\n",
      "Using the provided environment, not the agent environment.\n",
      "Simulations done in 3.281s:\n",
      "Simulations reached goal: 10188/10188 (0 failures (reached horizon: 0)) (100.00% success)\n",
      " - Average step count:                 265.609 +- 161.04 (Successful only: 265.609 +- 161.05)\n",
      " - Extra steps:                        216.854 +- 150.38 (Successful only: 216.854 +- 150.39)\n",
      " - Average discounted rewards (ADR):   0.162 +- 0.19 (Successful only: 0.162 +- 0.19)\n",
      " - Tmin/T:                             0.235 +- 0.14 (Successful only: 0.235 +- 0.14)\n",
      "\n",
      "shift = array([-2, -6])\n",
      "Using the provided environment, not the agent environment.\n",
      "Using the provided environment, not the agent environment.\n",
      "Simulations done in 3.639s:\n",
      "Simulations reached goal: 10188/10188 (0 failures (reached horizon: 0)) (100.00% success)\n",
      " - Average step count:                 263.260 +- 164.95 (Successful only: 263.260 +- 164.95)\n",
      " - Extra steps:                        214.306 +- 154.09 (Successful only: 214.306 +- 154.10)\n",
      " - Average discounted rewards (ADR):   0.168 +- 0.19 (Successful only: 0.168 +- 0.19)\n",
      " - Tmin/T:                             0.240 +- 0.14 (Successful only: 0.240 +- 0.14)\n",
      "\n",
      "shift = array([-2, -8])\n",
      "Using the provided environment, not the agent environment.\n",
      "Using the provided environment, not the agent environment.\n",
      "Simulations done in 4.402s:\n",
      "Simulations reached goal: 9331/10188 (857 failures (reached horizon: 857)) (91.59% success)\n",
      " - Average step count:                 312.655 +- 255.24 (Successful only: 249.527 +- 154.13)\n",
      " - Extra steps:                        263.424 +- 243.51 (Successful only: 202.591 +- 143.99)\n",
      " - Average discounted rewards (ADR):   0.161 +- 0.19 (Successful only: 0.176 +- 0.19)\n",
      " - Tmin/T:                             0.227 +- 0.14 (Successful only: 0.241 +- 0.14)\n",
      "\n",
      "shift = array([-4,  0])\n",
      "Using the provided environment, not the agent environment.\n",
      "Using the provided environment, not the agent environment.\n",
      "Simulations done in 3.279s:\n",
      "Simulations reached goal: 10188/10188 (0 failures (reached horizon: 0)) (100.00% success)\n",
      " - Average step count:                 273.345 +- 166.21 (Successful only: 273.345 +- 166.22)\n",
      " - Extra steps:                        224.629 +- 156.50 (Successful only: 224.629 +- 156.51)\n",
      " - Average discounted rewards (ADR):   0.156 +- 0.19 (Successful only: 0.156 +- 0.19)\n",
      " - Tmin/T:                             0.229 +- 0.14 (Successful only: 0.229 +- 0.14)\n",
      "\n",
      "shift = array([-4, -2])\n",
      "Using the provided environment, not the agent environment.\n",
      "Using the provided environment, not the agent environment.\n",
      "Simulations done in 3.262s:\n",
      "Simulations reached goal: 10188/10188 (0 failures (reached horizon: 0)) (100.00% success)\n",
      " - Average step count:                 266.150 +- 160.94 (Successful only: 266.150 +- 160.95)\n",
      " - Extra steps:                        217.395 +- 150.91 (Successful only: 217.395 +- 150.92)\n",
      " - Average discounted rewards (ADR):   0.161 +- 0.19 (Successful only: 0.161 +- 0.19)\n",
      " - Tmin/T:                             0.234 +- 0.14 (Successful only: 0.234 +- 0.14)\n",
      "\n",
      "shift = array([-4, -4])\n",
      "Using the provided environment, not the agent environment.\n",
      "Using the provided environment, not the agent environment.\n",
      "Simulations done in 3.699s:\n",
      "Simulations reached goal: 10188/10188 (0 failures (reached horizon: 0)) (100.00% success)\n",
      " - Average step count:                 263.442 +- 163.00 (Successful only: 263.442 +- 163.01)\n",
      " - Extra steps:                        214.568 +- 152.82 (Successful only: 214.568 +- 152.83)\n",
      " - Average discounted rewards (ADR):   0.164 +- 0.19 (Successful only: 0.164 +- 0.19)\n",
      " - Tmin/T:                             0.238 +- 0.14 (Successful only: 0.238 +- 0.14)\n",
      "\n",
      "shift = array([-4, -6])\n",
      "Using the provided environment, not the agent environment.\n",
      "Using the provided environment, not the agent environment.\n",
      "Simulations done in 4.518s:\n",
      "Simulations reached goal: 9383/10188 (805 failures (reached horizon: 805)) (92.10% success)\n",
      " - Average step count:                 303.800 +- 250.21 (Successful only: 244.071 +- 151.08)\n",
      " - Extra steps:                        254.727 +- 239.71 (Successful only: 197.003 +- 142.14)\n",
      " - Average discounted rewards (ADR):   0.163 +- 0.19 (Successful only: 0.177 +- 0.19)\n",
      " - Tmin/T:                             0.231 +- 0.14 (Successful only: 0.245 +- 0.14)\n",
      "\n",
      "shift = array([-4, -8])\n",
      "Using the provided environment, not the agent environment.\n",
      "Using the provided environment, not the agent environment.\n",
      "Simulations done in 4.319s:\n",
      "Simulations reached goal: 10092/10188 (96 failures (reached horizon: 96)) (99.06% success)\n",
      " - Average step count:                 290.898 +- 191.55 (Successful only: 284.152 +- 179.48)\n",
      " - Extra steps:                        241.547 +- 179.50 (Successful only: 235.021 +- 167.36)\n",
      " - Average discounted rewards (ADR):   0.156 +- 0.19 (Successful only: 0.158 +- 0.19)\n",
      " - Tmin/T:                             0.225 +- 0.14 (Successful only: 0.227 +- 0.14)\n",
      "\n",
      "shift = array([-6,  0])\n",
      "Using the provided environment, not the agent environment.\n",
      "Using the provided environment, not the agent environment.\n",
      "Simulations done in 4.393s:\n",
      "Simulations reached goal: 10187/10188 (1 failures (reached horizon: 1)) (99.99% success)\n",
      " - Average step count:                 347.800 +- 222.59 (Successful only: 347.736 +- 222.52)\n",
      " - Extra steps:                        298.886 +- 210.93 (Successful only: 298.821 +- 210.85)\n",
      " - Average discounted rewards (ADR):   0.139 +- 0.20 (Successful only: 0.139 +- 0.20)\n",
      " - Tmin/T:                             0.200 +- 0.14 (Successful only: 0.200 +- 0.14)\n",
      "\n",
      "shift = array([-6, -2])\n",
      "Using the provided environment, not the agent environment.\n",
      "Using the provided environment, not the agent environment.\n",
      "Simulations done in 4.432s:\n",
      "Simulations reached goal: 9408/10188 (780 failures (reached horizon: 780)) (92.34% success)\n",
      " - Average step count:                 310.832 +- 245.40 (Successful only: 253.694 +- 150.25)\n",
      " - Extra steps:                        261.878 +- 235.68 (Successful only: 206.482 +- 141.60)\n",
      " - Average discounted rewards (ADR):   0.153 +- 0.19 (Successful only: 0.166 +- 0.19)\n",
      " - Tmin/T:                             0.222 +- 0.14 (Successful only: 0.235 +- 0.14)\n",
      "\n",
      "shift = array([-6, -4])\n",
      "Using the provided environment, not the agent environment.\n",
      "Using the provided environment, not the agent environment.\n",
      "Simulations done in 4.286s:\n",
      "Simulations reached goal: 10122/10188 (66 failures (reached horizon: 66)) (99.35% success)\n",
      " - Average step count:                 279.028 +- 180.26 (Successful only: 274.327 +- 171.17)\n",
      " - Extra steps:                        229.955 +- 170.16 (Successful only: 225.370 +- 160.93)\n",
      " - Average discounted rewards (ADR):   0.157 +- 0.19 (Successful only: 0.158 +- 0.19)\n",
      " - Tmin/T:                             0.230 +- 0.14 (Successful only: 0.231 +- 0.14)\n",
      "\n",
      "shift = array([-6, -6])\n",
      "Using the provided environment, not the agent environment.\n",
      "Using the provided environment, not the agent environment.\n",
      "Simulations done in 4.306s:\n",
      "Simulations reached goal: 10112/10188 (76 failures (reached horizon: 76)) (99.25% success)\n",
      " - Average step count:                 291.679 +- 195.01 (Successful only: 286.355 +- 185.79)\n",
      " - Extra steps:                        242.407 +- 184.02 (Successful only: 237.231 +- 174.72)\n",
      " - Average discounted rewards (ADR):   0.155 +- 0.19 (Successful only: 0.156 +- 0.19)\n",
      " - Tmin/T:                             0.226 +- 0.14 (Successful only: 0.227 +- 0.14)\n",
      "\n",
      "shift = array([-6, -8])\n",
      "Using the provided environment, not the agent environment.\n",
      "Using the provided environment, not the agent environment.\n",
      "Simulations done in 4.461s:\n",
      "Simulations reached goal: 9159/10188 (1029 failures (reached horizon: 1029)) (89.90% success)\n",
      " - Average step count:                 341.671 +- 269.28 (Successful only: 267.709 +- 162.79)\n",
      " - Extra steps:                        292.122 +- 256.98 (Successful only: 220.959 +- 152.62)\n",
      " - Average discounted rewards (ADR):   0.147 +- 0.20 (Successful only: 0.163 +- 0.20)\n",
      " - Tmin/T:                             0.211 +- 0.14 (Successful only: 0.226 +- 0.14)\n",
      "\n",
      "shift = array([-8,  0])\n",
      "Using the provided environment, not the agent environment.\n",
      "Using the provided environment, not the agent environment.\n",
      "Simulations done in 4.417s:\n",
      "Simulations reached goal: 10129/10188 (59 failures (reached horizon: 59)) (99.42% success)\n",
      " - Average step count:                 366.902 +- 235.99 (Successful only: 363.214 +- 231.67)\n",
      " - Extra steps:                        317.710 +- 224.11 (Successful only: 314.085 +- 219.66)\n",
      " - Average discounted rewards (ADR):   0.134 +- 0.20 (Successful only: 0.135 +- 0.20)\n",
      " - Tmin/T:                             0.194 +- 0.14 (Successful only: 0.194 +- 0.14)\n",
      "\n",
      "shift = array([-8, -2])\n",
      "Using the provided environment, not the agent environment.\n",
      "Using the provided environment, not the agent environment.\n",
      "Simulations done in 4.360s:\n",
      "Simulations reached goal: 10063/10188 (125 failures (reached horizon: 125)) (98.77% success)\n",
      " - Average step count:                 298.405 +- 201.76 (Successful only: 289.690 +- 187.15)\n",
      " - Extra steps:                        249.174 +- 192.42 (Successful only: 240.637 +- 177.61)\n",
      " - Average discounted rewards (ADR):   0.150 +- 0.19 (Successful only: 0.152 +- 0.19)\n",
      " - Tmin/T:                             0.222 +- 0.14 (Successful only: 0.224 +- 0.14)\n",
      "\n",
      "shift = array([-8, -4])\n",
      "Using the provided environment, not the agent environment.\n",
      "Using the provided environment, not the agent environment.\n",
      "Simulations done in 4.356s:\n",
      "Simulations reached goal: 10063/10188 (125 failures (reached horizon: 125)) (98.77% success)\n",
      " - Average step count:                 313.022 +- 202.75 (Successful only: 304.489 +- 188.91)\n",
      " - Extra steps:                        263.671 +- 191.91 (Successful only: 255.315 +- 177.75)\n",
      " - Average discounted rewards (ADR):   0.143 +- 0.20 (Successful only: 0.145 +- 0.20)\n",
      " - Tmin/T:                             0.211 +- 0.13 (Successful only: 0.213 +- 0.13)\n",
      "\n",
      "shift = array([-8, -6])\n",
      "Using the provided environment, not the agent environment.\n",
      "Using the provided environment, not the agent environment.\n",
      "Simulations done in 4.356s:\n",
      "Simulations reached goal: 10053/10188 (135 failures (reached horizon: 135)) (98.67% success)\n",
      " - Average step count:                 306.897 +- 212.99 (Successful only: 297.589 +- 198.59)\n",
      " - Extra steps:                        257.348 +- 202.46 (Successful only: 248.247 +- 187.85)\n",
      " - Average discounted rewards (ADR):   0.151 +- 0.19 (Successful only: 0.153 +- 0.19)\n",
      " - Tmin/T:                             0.221 +- 0.14 (Successful only: 0.223 +- 0.14)\n",
      "\n",
      "shift = array([-8, -8])\n",
      "Using the provided environment, not the agent environment.\n",
      "Using the provided environment, not the agent environment.\n",
      "Simulations done in 4.506s:\n",
      "Simulations reached goal: 9088/10188 (1100 failures (reached horizon: 1100)) (89.20% success)\n",
      " - Average step count:                 349.713 +- 283.88 (Successful only: 271.003 +- 181.57)\n",
      " - Extra steps:                        299.886 +- 271.85 (Successful only: 224.139 +- 172.26)\n",
      " - Average discounted rewards (ADR):   0.149 +- 0.19 (Successful only: 0.167 +- 0.20)\n",
      " - Tmin/T:                             0.213 +- 0.14 (Successful only: 0.230 +- 0.14)\n"
     ]
    }
   ],
   "source": [
    "# Complete test\n",
    "all_point_hists = []\n",
    "for shift in point_array:\n",
    "    print(f'\\n{shift = }')\n",
    "\n",
    "    # Setup shifted environment\n",
    "    shifted_artificial_data = np.zeros(artificial_data.shape)\n",
    "    trimmed_artificial_data = artificial_data[:, *[slice(0, -s) if s > 0 else slice(-s, shape) for shape, s in zip(space_shape, shift)]]\n",
    "    shifted_artificial_data[:, *[slice(s, shape) if s >=0 else slice(0, s) for shape, s in zip(space_shape, shift)]] = trimmed_artificial_data\n",
    "\n",
    "    shifted_artificial_env  = Environment(data_file=shifted_artificial_data,\n",
    "                                          data_source_position=(np.array([50,50]) + shift).tolist(),\n",
    "                                          source_radius=source_radius,\n",
    "                                          shape=space_shape,\n",
    "                                          boundary_condition='stop',\n",
    "                                          start_zone='data_zone',\n",
    "                                          odor_present_threshold=3e-1)\n",
    "\n",
    "    # Running test\n",
    "    hist = run_all_starts_test(ag,\n",
    "                               environment=shifted_artificial_env,\n",
    "                               horizon=1000,\n",
    "                               use_gpu=True,\n",
    "                               print_progress=False)\n",
    "\n",
    "    all_point_hists.append(hist)"
   ]
  },
  {
   "cell_type": "code",
   "execution_count": 24,
   "metadata": {},
   "outputs": [],
   "source": [
    "# Extracting performance metrics\n",
    "point_convergences = []\n",
    "point_convergences_std = []\n",
    "point_tmin_over_ts = []\n",
    "point_tmin_over_ts_std = []\n",
    "\n",
    "for hist in all_point_hists:\n",
    "    df = hist.analysis_df\n",
    "    point_convergences.append(df['converged']['mean'])\n",
    "    point_convergences_std.append(df['converged']['standard_deviation'])\n",
    "    point_tmin_over_ts.append(df['t_min_over_t']['success_mean'])\n",
    "    point_tmin_over_ts_std.append(df['t_min_over_t']['success_standard_deviation'])\n",
    "\n",
    "point_array_norm = (point_array * -1/2).astype(int)\n",
    "\n",
    "point_convergences_array = np.zeros((5,5))\n",
    "point_convergences_array[*point_array_norm.T] = point_convergences\n",
    "point_convergences_std_array = np.zeros((5,5))\n",
    "point_convergences_std_array[*point_array_norm.T] = point_convergences_std\n",
    "\n",
    "point_tmin_over_ts_array = np.zeros((5,5))\n",
    "point_tmin_over_ts_array[*point_array_norm.T] = point_tmin_over_ts\n",
    "point_tmin_over_ts_std_array = np.zeros((5,5))\n",
    "point_tmin_over_ts_std_array[*point_array_norm.T] = point_tmin_over_ts_std"
   ]
  },
  {
   "cell_type": "code",
   "execution_count": 25,
   "metadata": {},
   "outputs": [
    {
     "data": {
      "image/png": "[encoded data removed]",
      "text/plain": [
       "<Figure size 640x480 with 2 Axes>"
      ]
     },
     "metadata": {},
     "output_type": "display_data"
    }
   ],
   "source": [
    "# Convergence plot\n",
    "# plt.title('Performances of the agent when shifting the source (convergence)')\n",
    "plt.imshow(point_convergences_array, cmap='RdYlGn', vmax=1.0, vmin=0.0)\n",
    "plt.colorbar()\n",
    "plt.show()"
   ]
  },
  {
   "cell_type": "code",
   "execution_count": 26,
   "metadata": {},
   "outputs": [
    {
     "data": {
      "image/png": "[encoded data removed]",
      "text/plain": [
       "<Figure size 640x480 with 2 Axes>"
      ]
     },
     "metadata": {},
     "output_type": "display_data"
    }
   ],
   "source": [
    "# Convergence plot\n",
    "# plt.title('Performances of the agent when shifting the source ($t_{min}/t$)')\n",
    "plt.imshow(point_tmin_over_ts_array, cmap='RdYlGn', vmax=0.5, vmin=0.0)\n",
    "plt.colorbar()\n",
    "plt.show()"
   ]
  },
  {
   "cell_type": "code",
   "execution_count": null,
   "metadata": {},
   "outputs": [],
   "source": []
  }
 ],
 "metadata": {
  "kernelspec": {
   "display_name": "pomdp_olf_nav_env",
   "language": "python",
   "name": "python3"
  },
  "language_info": {
   "codemirror_mode": {
    "name": "ipython",
    "version": 3
   },
   "file_extension": ".py",
   "mimetype": "text/x-python",
   "name": "python",
   "nbconvert_exporter": "python",
   "pygments_lexer": "ipython3",
   "version": "3.11.9"
  }
 },
 "nbformat": 4,
 "nbformat_minor": 2
}
