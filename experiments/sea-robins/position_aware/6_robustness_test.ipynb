{
 "cells": [
  {
   "cell_type": "code",
   "execution_count": 1,
   "metadata": {},
   "outputs": [],
   "source": [
    "import sys\n",
    "sys.path.append('../../..')\n",
    "\n",
    "import numpy as np\n",
    "\n",
    "from olfactory_navigation.environment import Environment\n",
    "from olfactory_navigation.agents import FSVI_Agent\n",
    "from olfactory_navigation.agents.model_based_util.pomdp import Model\n",
    "from olfactory_navigation.simulation import run_test\n",
    "from olfactory_navigation.test_setups import run_all_starts_test\n",
    "\n",
    "from matplotlib import pyplot as plt\n",
    "from matplotlib import colors, patches\n",
    "from scipy.stats import multivariate_normal\n",
    "from sklearn.metrics import confusion_matrix"
   ]
  },
  {
   "cell_type": "code",
   "execution_count": 2,
   "metadata": {},
   "outputs": [],
   "source": [
    "from model_6 import generate_model"
   ]
  },
  {
   "cell_type": "code",
   "execution_count": 3,
   "metadata": {},
   "outputs": [],
   "source": [
    "from cupy.cuda import runtime as cuda_runtime\n",
    "cuda_runtime.setDevice(0)"
   ]
  },
  {
   "cell_type": "markdown",
   "metadata": {},
   "source": [
    "## Variables"
   ]
  },
  {
   "cell_type": "code",
   "execution_count": 4,
   "metadata": {},
   "outputs": [],
   "source": [
    "space_shape = np.array([101,101])\n",
    "cells = np.array([5,5])\n",
    "\n",
    "source_radius = 2\n",
    "source_cell_resolution = np.array([5,5])\n",
    "\n",
    "data_mean = [50,50]\n",
    "data_covariance = 50"
   ]
  },
  {
   "cell_type": "markdown",
   "metadata": {},
   "source": [
    "## Model"
   ]
  },
  {
   "cell_type": "code",
   "execution_count": 5,
   "metadata": {},
   "outputs": [],
   "source": [
    "model = generate_model(\n",
    "    space_shape=space_shape,\n",
    "    cells=cells,\n",
    "    source_radius=source_radius,\n",
    "    source_cell_resolution=source_cell_resolution,\n",
    "    data_mean=data_mean,\n",
    "    data_covariance=data_covariance\n",
    ")"
   ]
  },
  {
   "cell_type": "markdown",
   "metadata": {},
   "source": [
    "## Agent"
   ]
  },
  {
   "cell_type": "code",
   "execution_count": 6,
   "metadata": {},
   "outputs": [],
   "source": [
    "def generate_fake_data(\n",
    "        space_shape: np.ndarray,\n",
    "        data_mean: list,\n",
    "        data_covariance,\n",
    "        samples: int\n",
    "        ) -> np.ndarray:\n",
    "    x,y = np.meshgrid(np.arange(space_shape[0]), np.arange(space_shape[1]))\n",
    "    pos = np.dstack((x, y))\n",
    "    rv = multivariate_normal(data_mean, data_covariance)\n",
    "    probability_map = rv.pdf(pos)\n",
    "\n",
    "    # Normalize to have 1 at the center\n",
    "    probability_map /= np.max(probability_map)\n",
    "\n",
    "    multiple_samples = (np.random.random((samples, *space_shape)) < probability_map).astype(float)\n",
    "\n",
    "    return multiple_samples"
   ]
  },
  {
   "cell_type": "code",
   "execution_count": 7,
   "metadata": {},
   "outputs": [
    {
     "data": {
      "image/png": "[encoded data removed]",
      "text/plain": [
       "<Figure size 1500x500 with 1 Axes>"
      ]
     },
     "metadata": {},
     "output_type": "display_data"
    }
   ],
   "source": [
    "artificial_data = generate_fake_data(space_shape=space_shape,\n",
    "                                     data_mean=data_mean,\n",
    "                                     data_covariance=data_covariance,\n",
    "                                     samples=1000)\n",
    "\n",
    "artificial_env  = Environment(data_file=artificial_data,\n",
    "                              data_source_position=[50, 50],\n",
    "                              source_radius=source_radius,\n",
    "                              shape=space_shape,\n",
    "                              boundary_condition='stop',\n",
    "                              start_zone='data_zone',\n",
    "                              odor_present_threshold=3e-1)\n",
    "\n",
    "artificial_env.plot()"
   ]
  },
  {
   "cell_type": "code",
   "execution_count": 8,
   "metadata": {},
   "outputs": [],
   "source": [
    "ag = FSVI_Agent(environment=artificial_env,\n",
    "                threshold=3e-8,\n",
    "                space_aware=True,\n",
    "                spacial_subdivisions=cells,\n",
    "                model=model)"
   ]
  },
  {
   "cell_type": "code",
   "execution_count": 9,
   "metadata": {},
   "outputs": [
    {
     "name": "stdout",
     "output_type": "stream",
     "text": [
      "[09/23/2024, 13:11:26] MDP_policy, not provided. Solving MDP with Value Iteration...\n",
      "[09/23/2024, 13:11:26] Sending Model to GPU...\n"
     ]
    },
    {
     "name": "stdout",
     "output_type": "stream",
     "text": [
      "[09/23/2024, 13:11:26]     > Done in 0.223s\n"
     ]
    },
    {
     "data": {
      "application/vnd.jupyter.widget-view+json": {
       "model_id": "4d61bf62e13c43d3964a0a49b21d86d9",
       "version_major": 2,
       "version_minor": 0
      },
      "text/plain": [
       "  0%|          | 0/1000 [00:00<?, ?it/s]"
      ]
     },
     "metadata": {},
     "output_type": "display_data"
    },
    {
     "name": "stdout",
     "output_type": "stream",
     "text": [
      "Summary of Value Iteration run\n",
      "  - Model: 1251-state, 4-action\n",
      "  - Converged in 918 iterations and 1.2206 seconds\n",
      "  - Took on average 0.0013s per iteration\n"
     ]
    },
    {
     "data": {
      "application/vnd.jupyter.widget-view+json": {
       "model_id": "6a76714de4ea489e943eb7099547d1d0",
       "version_major": 2,
       "version_minor": 0
      },
      "text/plain": [
       "Expansions:   0%|          | 0/300 [00:00<?, ?it/s]"
      ]
     },
     "metadata": {},
     "output_type": "display_data"
    },
    {
     "name": "stdout",
     "output_type": "stream",
     "text": [
      "Summary of Point Based Value Iteration run\n",
      "  - Model: 1251 state, 4 action, 51 observations\n",
      "  - Converged or stopped after 300 expansion steps and 300 backup steps.\n",
      "  - Resulting value function has 1982 alpha vectors.\n",
      "  - Converged in 33.6093s\n",
      "\n",
      "  - Expand function took on average 0.0129s and yielded on average 991.71 beliefs per iteration. (0.0001s/it/belief)\n",
      "  - Backup function took on average 0.0991s and yielded on average 6.59 alpha vectors per iteration. (0.0001s/it/alpha)\n",
      "  - Pruning function took on average 0.0000s and yielded on average prunings of 0.00 alpha vectors per iteration.\n"
     ]
    }
   ],
   "source": [
    "_ = ag.train(expansions=300, use_gpu=True)"
   ]
  },
  {
   "cell_type": "code",
   "execution_count": 10,
   "metadata": {},
   "outputs": [
    {
     "data": {
      "image/png": "[encoded data removed]",
      "text/plain": [
       "<Figure size 1000x500 with 3 Axes>"
      ]
     },
     "metadata": {},
     "output_type": "display_data"
    }
   ],
   "source": [
    "# CUSTOM PLOT\n",
    "COLOR_LIST = [{\n",
    "    'name': item.replace('tab:',''),\n",
    "    'id': item,\n",
    "    'hex': value,\n",
    "    'rgb': [int(value.lstrip('#')[i:i + (len(value)-1) // 3], 16) for i in range(0, (len(value)-1), (len(value)-1) // 3)]\n",
    "    } for item, value in colors.TABLEAU_COLORS.items()] # type: ignore\n",
    "\n",
    "COLOR_ARRAY = np.array([c['rgb'] for c in COLOR_LIST])\n",
    "\n",
    "# VF\n",
    "vf = ag.value_function\n",
    "new_shape = cells\n",
    "\n",
    "# ! Select here which source to plot\n",
    "source_policy = [0,0]\n",
    "source_policy_id = np.arange(np.prod(cells)).reshape(cells)[*source_policy]\n",
    "source_state_start = source_policy_id * np.prod(cells)\n",
    "\n",
    "value_table = np.max(vf.alpha_vector_array, axis=0)[vf.model.state_grid[:,source_state_start:source_state_start+np.prod(cells)]].reshape(new_shape)\n",
    "best_action_table = np.array(vf.actions)[np.argmax(vf.alpha_vector_array, axis=0)][vf.model.state_grid[:,source_state_start:source_state_start+np.prod(cells)]].reshape(new_shape)\n",
    "best_action_colors = COLOR_ARRAY[best_action_table]\n",
    "\n",
    "dimensions = new_shape\n",
    "\n",
    "fig, (ax1,ax2) = plt.subplots(1,2, figsize=(5*2, 5), width_ratios=(0.55,0.45))\n",
    "\n",
    "# Ticks\n",
    "x_ticks = np.arange(0, dimensions[1], (1 if dimensions[1] < 10 else int(dimensions[1] / 10)))\n",
    "y_ticks = np.arange(0, dimensions[0], (1 if dimensions[0] < 5 else int(dimensions[0] / 5)))\n",
    "\n",
    "ax1.set_title('Value function')\n",
    "ax1_plot = ax1.imshow(value_table)\n",
    "\n",
    "if dimensions[0] >= dimensions[1]: # If higher than wide\n",
    "    plt.colorbar(ax1_plot, ax=ax1)\n",
    "else:\n",
    "    plt.colorbar(ax1_plot, ax=ax1, location='bottom', orientation='horizontal')\n",
    "\n",
    "ax1.set_xticks(x_ticks)\n",
    "ax1.set_yticks(y_ticks)\n",
    "\n",
    "ax2.set_title('Action policy')\n",
    "ax2.imshow(best_action_colors)\n",
    "p = [ patches.Patch(color=COLOR_LIST[int(i)]['id'], label=str(vf.model.action_labels[int(i)])) for i in vf.model.actions]\n",
    "ax2.legend(handles=p, bbox_to_anchor=(1.05, 1), loc=2, borderaxespad=0., title='Actions')\n",
    "ax2.set_xticks(x_ticks)\n",
    "ax2.set_yticks(y_ticks)\n",
    "\n",
    "plt.show()"
   ]
  },
  {
   "cell_type": "markdown",
   "metadata": {},
   "source": [
    "### Validation on the artificial data"
   ]
  },
  {
   "cell_type": "code",
   "execution_count": 11,
   "metadata": {},
   "outputs": [
    {
     "data": {
      "application/vnd.jupyter.widget-view+json": {
       "model_id": "4a6304e2492e422dac178e3ffcfe07bd",
       "version_major": 2,
       "version_minor": 0
      },
      "text/plain": [
       "  0%|          | 0/1000 [00:00<?, ?it/s]"
      ]
     },
     "metadata": {},
     "output_type": "display_data"
    },
    {
     "name": "stdout",
     "output_type": "stream",
     "text": [
      "Simulations done in 7.645s:\n",
      "Simulations reached goal: 10188/10188 (0 failures (reached horizon: 0)) (100.00% success)\n",
      " - Average step count:                 269.575 +- 161.44 (Successful only: 269.575 +- 161.45)\n",
      " - Extra steps:                        221.017 +- 157.40 (Successful only: 221.017 +- 157.41)\n",
      " - Average discounted rewards (ADR):   0.175 +- 0.21 (Successful only: 0.175 +- 0.21)\n",
      " - Tmin/T:                             0.270 +- 0.21 (Successful only: 0.270 +- 0.21)\n"
     ]
    }
   ],
   "source": [
    "hist = run_all_starts_test(ag,\n",
    "                           horizon=1000,\n",
    "                           use_gpu=True)"
   ]
  },
  {
   "cell_type": "markdown",
   "metadata": {},
   "source": [
    "## Test"
   ]
  },
  {
   "cell_type": "code",
   "execution_count": 12,
   "metadata": {},
   "outputs": [],
   "source": [
    "shift = np.array([-49,-49])\n",
    "\n",
    "shifted_artificial_data = np.zeros(artificial_data.shape)\n",
    "trimmed_artificial_data = artificial_data[:, *[slice(0, -s) if s > 0 else slice(-s, shape) for shape, s in zip(space_shape, shift)]]\n",
    "shifted_artificial_data[:, *[slice(s, shape) if s >=0 else slice(0, s) for shape, s in zip(space_shape, shift)]] = trimmed_artificial_data"
   ]
  },
  {
   "cell_type": "code",
   "execution_count": 13,
   "metadata": {},
   "outputs": [
    {
     "data": {
      "image/png": "[encoded data removed]",
      "text/plain": [
       "<Figure size 1500x500 with 1 Axes>"
      ]
     },
     "metadata": {},
     "output_type": "display_data"
    }
   ],
   "source": [
    "shifted_artificial_env  = Environment(data_file=shifted_artificial_data,\n",
    "                                      data_source_position=(np.array([50,50]) + shift).tolist(),\n",
    "                                      source_radius=source_radius,\n",
    "                                      shape=space_shape,\n",
    "                                      boundary_condition='stop',\n",
    "                                      start_zone='data_zone',\n",
    "                                      odor_present_threshold=3e-1)\n",
    "\n",
    "shifted_artificial_env.plot()"
   ]
  },
  {
   "cell_type": "code",
   "execution_count": 14,
   "metadata": {},
   "outputs": [
    {
     "name": "stdout",
     "output_type": "stream",
     "text": [
      "Using the provided environment, not the agent environment.\n"
     ]
    },
    {
     "data": {
      "application/vnd.jupyter.widget-view+json": {
       "model_id": "4d63f70b5d604975b83646886e0d6951",
       "version_major": 2,
       "version_minor": 0
      },
      "text/plain": [
       "  0%|          | 0/1000 [00:00<?, ?it/s]"
      ]
     },
     "metadata": {},
     "output_type": "display_data"
    },
    {
     "name": "stdout",
     "output_type": "stream",
     "text": [
      "Simulations done in 16.965s:\n",
      "Simulations reached goal: 246/10190 (9944 failures (reached horizon: 9944)) (2.41% success)\n",
      " - Average step count:                 985.593 +- 110.10 (Successful only: 403.220 +- 393.99)\n",
      " - Extra steps:                        889.449 +- 108.42 (Successful only: 348.907 +- 350.98)\n",
      " - Average discounted rewards (ADR):   0.009 +- 0.09 (Successful only: 0.390 +- 0.40)\n",
      " - Tmin/T:                             0.101 +- 0.06 (Successful only: 0.265 +- 0.21)\n"
     ]
    }
   ],
   "source": [
    "hist = run_all_starts_test(ag,\n",
    "                           environment=shifted_artificial_env,\n",
    "                           horizon=1000,\n",
    "                           use_gpu=True)"
   ]
  },
  {
   "cell_type": "code",
   "execution_count": 15,
   "metadata": {},
   "outputs": [
    {
     "data": {
      "image/png": "[encoded data removed]",
      "text/plain": [
       "<Figure size 1000x1000 with 1 Axes>"
      ]
     },
     "metadata": {},
     "output_type": "display_data"
    }
   ],
   "source": [
    "_, ax = plt.subplots(1,1, figsize=(10,10))\n",
    "hist.plot_successes(ax)"
   ]
  },
  {
   "cell_type": "code",
   "execution_count": 16,
   "metadata": {},
   "outputs": [
    {
     "data": {
      "image/png": "[encoded data removed]",
      "text/plain": [
       "<Figure size 1000x1000 with 1 Axes>"
      ]
     },
     "metadata": {},
     "output_type": "display_data"
    }
   ],
   "source": [
    "_, ax = plt.subplots(1,1, figsize=(10,10))\n",
    "hist.plot(2000, ax=ax)"
   ]
  },
  {
   "cell_type": "code",
   "execution_count": 17,
   "metadata": {},
   "outputs": [
    {
     "data": {
      "text/html": [
       "<div>\n",
       "<style scoped>\n",
       "    .dataframe tbody tr th:only-of-type {\n",
       "        vertical-align: middle;\n",
       "    }\n",
       "\n",
       "    .dataframe tbody tr th {\n",
       "        vertical-align: top;\n",
       "    }\n",
       "\n",
       "    .dataframe thead th {\n",
       "        text-align: right;\n",
       "    }\n",
       "</style>\n",
       "<table border=\"1\" class=\"dataframe\">\n",
       "  <thead>\n",
       "    <tr style=\"text-align: right;\">\n",
       "      <th></th>\n",
       "      <th>y</th>\n",
       "      <th>x</th>\n",
       "      <th>optimal_steps_count</th>\n",
       "      <th>converged</th>\n",
       "      <th>reached_horizon</th>\n",
       "      <th>steps_taken</th>\n",
       "      <th>discounted_rewards</th>\n",
       "      <th>extra_steps</th>\n",
       "      <th>t_min_over_t</th>\n",
       "    </tr>\n",
       "  </thead>\n",
       "  <tbody>\n",
       "    <tr>\n",
       "      <th>mean</th>\n",
       "      <td>NaN</td>\n",
       "      <td>NaN</td>\n",
       "      <td>NaN</td>\n",
       "      <td>0.024141</td>\n",
       "      <td>0.975859</td>\n",
       "      <td>985.592934</td>\n",
       "      <td>0.009451</td>\n",
       "      <td>889.449068</td>\n",
       "      <td>0.101237</td>\n",
       "    </tr>\n",
       "    <tr>\n",
       "      <th>standard_deviation</th>\n",
       "      <td>NaN</td>\n",
       "      <td>NaN</td>\n",
       "      <td>NaN</td>\n",
       "      <td>0.153488</td>\n",
       "      <td>0.153488</td>\n",
       "      <td>110.102325</td>\n",
       "      <td>0.086633</td>\n",
       "      <td>108.422299</td>\n",
       "      <td>0.057222</td>\n",
       "    </tr>\n",
       "    <tr>\n",
       "      <th>success_mean</th>\n",
       "      <td>NaN</td>\n",
       "      <td>NaN</td>\n",
       "      <td>NaN</td>\n",
       "      <td>1.0</td>\n",
       "      <td>0.0</td>\n",
       "      <td>403.219512</td>\n",
       "      <td>0.389754</td>\n",
       "      <td>348.906504</td>\n",
       "      <td>0.265270</td>\n",
       "    </tr>\n",
       "    <tr>\n",
       "      <th>success_standard_deviation</th>\n",
       "      <td>NaN</td>\n",
       "      <td>NaN</td>\n",
       "      <td>NaN</td>\n",
       "      <td>0.0</td>\n",
       "      <td>0.0</td>\n",
       "      <td>393.992759</td>\n",
       "      <td>0.404161</td>\n",
       "      <td>350.975229</td>\n",
       "      <td>0.208312</td>\n",
       "    </tr>\n",
       "    <tr>\n",
       "      <th>run_0</th>\n",
       "      <td>0.0</td>\n",
       "      <td>3.0</td>\n",
       "      <td>1.0</td>\n",
       "      <td>True</td>\n",
       "      <td>False</td>\n",
       "      <td>3.000000</td>\n",
       "      <td>0.970299</td>\n",
       "      <td>2.000000</td>\n",
       "      <td>0.333333</td>\n",
       "    </tr>\n",
       "    <tr>\n",
       "      <th>...</th>\n",
       "      <td>...</td>\n",
       "      <td>...</td>\n",
       "      <td>...</td>\n",
       "      <td>...</td>\n",
       "      <td>...</td>\n",
       "      <td>...</td>\n",
       "      <td>...</td>\n",
       "      <td>...</td>\n",
       "      <td>...</td>\n",
       "    </tr>\n",
       "    <tr>\n",
       "      <th>run_10185</th>\n",
       "      <td>100.0</td>\n",
       "      <td>96.0</td>\n",
       "      <td>192.0</td>\n",
       "      <td>False</td>\n",
       "      <td>True</td>\n",
       "      <td>1000.000000</td>\n",
       "      <td>0.000043</td>\n",
       "      <td>808.000000</td>\n",
       "      <td>0.192000</td>\n",
       "    </tr>\n",
       "    <tr>\n",
       "      <th>run_10186</th>\n",
       "      <td>100.0</td>\n",
       "      <td>97.0</td>\n",
       "      <td>193.0</td>\n",
       "      <td>False</td>\n",
       "      <td>True</td>\n",
       "      <td>1000.000000</td>\n",
       "      <td>0.000043</td>\n",
       "      <td>807.000000</td>\n",
       "      <td>0.193000</td>\n",
       "    </tr>\n",
       "    <tr>\n",
       "      <th>run_10187</th>\n",
       "      <td>100.0</td>\n",
       "      <td>98.0</td>\n",
       "      <td>194.0</td>\n",
       "      <td>False</td>\n",
       "      <td>True</td>\n",
       "      <td>1000.000000</td>\n",
       "      <td>0.000043</td>\n",
       "      <td>806.000000</td>\n",
       "      <td>0.194000</td>\n",
       "    </tr>\n",
       "    <tr>\n",
       "      <th>run_10188</th>\n",
       "      <td>100.0</td>\n",
       "      <td>99.0</td>\n",
       "      <td>195.0</td>\n",
       "      <td>False</td>\n",
       "      <td>True</td>\n",
       "      <td>1000.000000</td>\n",
       "      <td>0.000043</td>\n",
       "      <td>805.000000</td>\n",
       "      <td>0.195000</td>\n",
       "    </tr>\n",
       "    <tr>\n",
       "      <th>run_10189</th>\n",
       "      <td>100.0</td>\n",
       "      <td>100.0</td>\n",
       "      <td>196.0</td>\n",
       "      <td>False</td>\n",
       "      <td>True</td>\n",
       "      <td>1000.000000</td>\n",
       "      <td>0.000043</td>\n",
       "      <td>804.000000</td>\n",
       "      <td>0.196000</td>\n",
       "    </tr>\n",
       "  </tbody>\n",
       "</table>\n",
       "<p>10194 rows × 9 columns</p>\n",
       "</div>"
      ],
      "text/plain": [
       "                                y      x  optimal_steps_count converged  \\\n",
       "mean                          NaN    NaN                  NaN  0.024141   \n",
       "standard_deviation            NaN    NaN                  NaN  0.153488   \n",
       "success_mean                  NaN    NaN                  NaN       1.0   \n",
       "success_standard_deviation    NaN    NaN                  NaN       0.0   \n",
       "run_0                         0.0    3.0                  1.0      True   \n",
       "...                           ...    ...                  ...       ...   \n",
       "run_10185                   100.0   96.0                192.0     False   \n",
       "run_10186                   100.0   97.0                193.0     False   \n",
       "run_10187                   100.0   98.0                194.0     False   \n",
       "run_10188                   100.0   99.0                195.0     False   \n",
       "run_10189                   100.0  100.0                196.0     False   \n",
       "\n",
       "                           reached_horizon  steps_taken  discounted_rewards  \\\n",
       "mean                              0.975859   985.592934            0.009451   \n",
       "standard_deviation                0.153488   110.102325            0.086633   \n",
       "success_mean                           0.0   403.219512            0.389754   \n",
       "success_standard_deviation             0.0   393.992759            0.404161   \n",
       "run_0                                False     3.000000            0.970299   \n",
       "...                                    ...          ...                 ...   \n",
       "run_10185                             True  1000.000000            0.000043   \n",
       "run_10186                             True  1000.000000            0.000043   \n",
       "run_10187                             True  1000.000000            0.000043   \n",
       "run_10188                             True  1000.000000            0.000043   \n",
       "run_10189                             True  1000.000000            0.000043   \n",
       "\n",
       "                            extra_steps  t_min_over_t  \n",
       "mean                         889.449068      0.101237  \n",
       "standard_deviation           108.422299      0.057222  \n",
       "success_mean                 348.906504      0.265270  \n",
       "success_standard_deviation   350.975229      0.208312  \n",
       "run_0                          2.000000      0.333333  \n",
       "...                                 ...           ...  \n",
       "run_10185                    808.000000      0.192000  \n",
       "run_10186                    807.000000      0.193000  \n",
       "run_10187                    806.000000      0.194000  \n",
       "run_10188                    805.000000      0.195000  \n",
       "run_10189                    804.000000      0.196000  \n",
       "\n",
       "[10194 rows x 9 columns]"
      ]
     },
     "execution_count": 17,
     "metadata": {},
     "output_type": "execute_result"
    }
   ],
   "source": [
    "hist.analysis_df"
   ]
  },
  {
   "cell_type": "markdown",
   "metadata": {},
   "source": [
    "## All Tests"
   ]
  },
  {
   "cell_type": "code",
   "execution_count": 18,
   "metadata": {},
   "outputs": [
    {
     "name": "stdout",
     "output_type": "stream",
     "text": [
      "\n",
      "shift = array([-1, -1])\n",
      "Using the provided environment, not the agent environment.\n",
      "Simulations done in 6.842s:\n",
      "Simulations reached goal: 10188/10188 (0 failures (reached horizon: 0)) (100.00% success)\n",
      " - Average step count:                 268.168 +- 159.92 (Successful only: 268.168 +- 159.93)\n",
      " - Extra steps:                        219.590 +- 156.21 (Successful only: 219.590 +- 156.22)\n",
      " - Average discounted rewards (ADR):   0.176 +- 0.21 (Successful only: 0.176 +- 0.21)\n",
      " - Tmin/T:                             0.270 +- 0.21 (Successful only: 0.270 +- 0.21)\n",
      "\n",
      "shift = array([-3, -3])\n",
      "Using the provided environment, not the agent environment.\n",
      "Simulations done in 7.284s:\n",
      "Simulations reached goal: 10188/10188 (0 failures (reached horizon: 0)) (100.00% success)\n",
      " - Average step count:                 284.198 +- 162.47 (Successful only: 284.198 +- 162.48)\n",
      " - Extra steps:                        235.462 +- 159.29 (Successful only: 235.462 +- 159.30)\n",
      " - Average discounted rewards (ADR):   0.156 +- 0.20 (Successful only: 0.156 +- 0.20)\n",
      " - Tmin/T:                             0.247 +- 0.19 (Successful only: 0.247 +- 0.19)\n",
      "\n",
      "shift = array([-5, -5])\n",
      "Using the provided environment, not the agent environment.\n",
      "Simulations done in 9.223s:\n",
      "Simulations reached goal: 10004/10188 (184 failures (reached horizon: 184)) (98.19% success)\n",
      " - Average step count:                 413.223 +- 228.13 (Successful only: 402.431 +- 215.77)\n",
      " - Extra steps:                        364.170 +- 226.36 (Successful only: 353.409 +- 213.93)\n",
      " - Average discounted rewards (ADR):   0.089 +- 0.16 (Successful only: 0.090 +- 0.16)\n",
      " - Tmin/T:                             0.175 +- 0.15 (Successful only: 0.177 +- 0.16)\n",
      "\n",
      "shift = array([-7, -7])\n",
      "Using the provided environment, not the agent environment.\n",
      "Simulations done in 13.053s:\n",
      "Simulations reached goal: 6047/10188 (4141 failures (reached horizon: 4141)) (59.35% success)\n",
      " - Average step count:                 709.421 +- 304.77 (Successful only: 510.432 +- 243.07)\n",
      " - Extra steps:                        659.892 +- 304.91 (Successful only: 460.341 +- 241.61)\n",
      " - Average discounted rewards (ADR):   0.033 +- 0.11 (Successful only: 0.056 +- 0.14)\n",
      " - Tmin/T:                             0.101 +- 0.11 (Successful only: 0.137 +- 0.12)\n",
      "\n",
      "shift = array([-9, -9])\n",
      "Using the provided environment, not the agent environment.\n",
      "Simulations done in 14.146s:\n",
      "Simulations reached goal: 4749/10188 (5439 failures (reached horizon: 5439)) (46.61% success)\n",
      " - Average step count:                 782.739 +- 287.92 (Successful only: 533.911 +- 248.76)\n",
      " - Extra steps:                        732.575 +- 287.98 (Successful only: 483.535 +- 247.45)\n",
      " - Average discounted rewards (ADR):   0.025 +- 0.10 (Successful only: 0.054 +- 0.14)\n",
      " - Tmin/T:                             0.088 +- 0.09 (Successful only: 0.132 +- 0.12)\n",
      "\n",
      "shift = array([-11, -11])\n",
      "Using the provided environment, not the agent environment.\n",
      "Simulations done in 11.708s:\n",
      "Simulations reached goal: 7243/10188 (2945 failures (reached horizon: 2945)) (71.09% success)\n",
      " - Average step count:                 606.139 +- 319.42 (Successful only: 445.996 +- 234.10)\n",
      " - Extra steps:                        555.183 +- 317.68 (Successful only: 395.466 +- 231.32)\n",
      " - Average discounted rewards (ADR):   0.055 +- 0.14 (Successful only: 0.077 +- 0.16)\n",
      " - Tmin/T:                             0.129 +- 0.13 (Successful only: 0.161 +- 0.14)\n",
      "\n",
      "shift = array([-13, -13])\n",
      "Using the provided environment, not the agent environment.\n",
      "Simulations done in 10.763s:\n",
      "Simulations reached goal: 7913/10188 (2275 failures (reached horizon: 2275)) (77.67% success)\n",
      " - Average step count:                 525.386 +- 324.63 (Successful only: 388.934 +- 228.72)\n",
      " - Extra steps:                        473.478 +- 323.01 (Successful only: 337.341 +- 226.21)\n",
      " - Average discounted rewards (ADR):   0.081 +- 0.16 (Successful only: 0.104 +- 0.17)\n",
      " - Tmin/T:                             0.164 +- 0.16 (Successful only: 0.196 +- 0.16)\n",
      "\n",
      "shift = array([-15, -15])\n",
      "Using the provided environment, not the agent environment.\n",
      "Simulations done in 8.301s:\n",
      "Simulations reached goal: 9900/10188 (288 failures (reached horizon: 288)) (97.17% success)\n",
      " - Average step count:                 338.664 +- 218.82 (Successful only: 319.425 +- 190.22)\n",
      " - Extra steps:                        285.645 +- 216.02 (Successful only: 266.420 +- 186.90)\n",
      " - Average discounted rewards (ADR):   0.121 +- 0.17 (Successful only: 0.125 +- 0.17)\n",
      " - Tmin/T:                             0.224 +- 0.17 (Successful only: 0.229 +- 0.17)\n",
      "\n",
      "shift = array([-17, -17])\n",
      "Using the provided environment, not the agent environment.\n",
      "Simulations done in 7.211s:\n",
      "Simulations reached goal: 10187/10188 (1 failures (reached horizon: 1)) (99.99% success)\n",
      " - Average step count:                 241.420 +- 113.52 (Successful only: 241.346 +- 113.28)\n",
      " - Extra steps:                        187.133 +- 107.77 (Successful only: 187.060 +- 107.53)\n",
      " - Average discounted rewards (ADR):   0.156 +- 0.18 (Successful only: 0.156 +- 0.18)\n",
      " - Tmin/T:                             0.271 +- 0.17 (Successful only: 0.271 +- 0.17)\n",
      "\n",
      "shift = array([-19, -19])\n",
      "Using the provided environment, not the agent environment.\n",
      "Simulations done in 5.792s:\n",
      "Simulations reached goal: 10188/10188 (0 failures (reached horizon: 0)) (100.00% success)\n",
      " - Average step count:                 215.840 +- 96.47 (Successful only: 215.840 +- 96.48)\n",
      " - Extra steps:                        160.125 +- 91.33 (Successful only: 160.125 +- 91.34)\n",
      " - Average discounted rewards (ADR):   0.177 +- 0.18 (Successful only: 0.177 +- 0.18)\n",
      " - Tmin/T:                             0.301 +- 0.18 (Successful only: 0.301 +- 0.18)\n",
      "\n",
      "shift = array([-21, -21])\n",
      "Using the provided environment, not the agent environment.\n",
      "Simulations done in 5.138s:\n",
      "Simulations reached goal: 10188/10188 (0 failures (reached horizon: 0)) (100.00% success)\n",
      " - Average step count:                 209.220 +- 92.62 (Successful only: 209.220 +- 92.62)\n",
      " - Extra steps:                        151.919 +- 88.62 (Successful only: 151.919 +- 88.63)\n",
      " - Average discounted rewards (ADR):   0.183 +- 0.18 (Successful only: 0.183 +- 0.18)\n",
      " - Tmin/T:                             0.315 +- 0.18 (Successful only: 0.315 +- 0.18)\n",
      "\n",
      "shift = array([-23, -23])\n",
      "Using the provided environment, not the agent environment.\n",
      "Simulations done in 5.984s:\n",
      "Simulations reached goal: 10188/10188 (0 failures (reached horizon: 0)) (100.00% success)\n",
      " - Average step count:                 232.318 +- 105.16 (Successful only: 232.318 +- 105.16)\n",
      " - Extra steps:                        173.272 +- 101.80 (Successful only: 173.272 +- 101.81)\n",
      " - Average discounted rewards (ADR):   0.156 +- 0.16 (Successful only: 0.156 +- 0.16)\n",
      " - Tmin/T:                             0.293 +- 0.17 (Successful only: 0.293 +- 0.17)\n",
      "\n",
      "shift = array([-25, -25])\n",
      "Using the provided environment, not the agent environment.\n",
      "Simulations done in 9.618s:\n",
      "Simulations reached goal: 9328/10188 (860 failures (reached horizon: 860)) (91.56% success)\n",
      " - Average step count:                 440.787 +- 284.44 (Successful only: 389.230 +- 238.50)\n",
      " - Extra steps:                        379.837 +- 284.66 (Successful only: 328.129 +- 238.21)\n",
      " - Average discounted rewards (ADR):   0.084 +- 0.14 (Successful only: 0.092 +- 0.14)\n",
      " - Tmin/T:                             0.206 +- 0.16 (Successful only: 0.220 +- 0.17)\n",
      "\n",
      "shift = array([-27, -27])\n",
      "Using the provided environment, not the agent environment.\n",
      "Simulations done in 12.750s:\n",
      "Simulations reached goal: 5622/10188 (4566 failures (reached horizon: 4566)) (55.18% success)\n",
      " - Average step count:                 678.647 +- 335.61 (Successful only: 417.654 +- 228.33)\n",
      " - Extra steps:                        615.635 +- 336.75 (Successful only: 354.173 +- 228.11)\n",
      " - Average discounted rewards (ADR):   0.041 +- 0.11 (Successful only: 0.074 +- 0.14)\n",
      " - Tmin/T:                             0.142 +- 0.14 (Successful only: 0.207 +- 0.16)\n",
      "\n",
      "shift = array([-29, -29])\n",
      "Using the provided environment, not the agent environment.\n",
      "Simulations done in 12.671s:\n",
      "Simulations reached goal: 6785/10188 (3403 failures (reached horizon: 3403)) (66.60% success)\n",
      " - Average step count:                 672.826 +- 307.64 (Successful only: 508.733 +- 248.00)\n",
      " - Extra steps:                        607.594 +- 305.66 (Successful only: 443.834 +- 243.88)\n",
      " - Average discounted rewards (ADR):   0.035 +- 0.11 (Successful only: 0.053 +- 0.13)\n",
      " - Tmin/T:                             0.135 +- 0.13 (Successful only: 0.170 +- 0.15)\n",
      "\n",
      "shift = array([-31, -31])\n",
      "Using the provided environment, not the agent environment.\n",
      "Simulations done in 12.556s:\n",
      "Simulations reached goal: 6649/10188 (3539 failures (reached horizon: 3539)) (65.26% success)\n",
      " - Average step count:                 666.628 +- 312.35 (Successful only: 489.187 +- 242.62)\n",
      " - Extra steps:                        599.017 +- 305.68 (Successful only: 424.890 +- 235.27)\n",
      " - Average discounted rewards (ADR):   0.042 +- 0.12 (Successful only: 0.064 +- 0.14)\n",
      " - Tmin/T:                             0.137 +- 0.13 (Successful only: 0.170 +- 0.14)\n",
      "\n",
      "shift = array([-33, -33])\n",
      "Using the provided environment, not the agent environment.\n",
      "Simulations done in 13.905s:\n",
      "Simulations reached goal: 4895/10188 (5293 failures (reached horizon: 5293)) (48.05% success)\n",
      " - Average step count:                 762.462 +- 311.92 (Successful only: 505.610 +- 274.84)\n",
      " - Extra steps:                        692.312 +- 307.01 (Successful only: 438.716 +- 266.76)\n",
      " - Average discounted rewards (ADR):   0.037 +- 0.11 (Successful only: 0.076 +- 0.16)\n",
      " - Tmin/T:                             0.122 +- 0.11 (Successful only: 0.176 +- 0.14)\n",
      "\n",
      "shift = array([-35, -35])\n",
      "Using the provided environment, not the agent environment.\n",
      "Simulations done in 10.371s:\n",
      "Simulations reached goal: 9006/10188 (1182 failures (reached horizon: 1182)) (88.40% success)\n",
      " - Average step count:                 498.065 +- 286.33 (Successful only: 432.188 +- 235.25)\n",
      " - Extra steps:                        425.219 +- 280.92 (Successful only: 360.087 +- 229.22)\n",
      " - Average discounted rewards (ADR):   0.066 +- 0.13 (Successful only: 0.074 +- 0.14)\n",
      " - Tmin/T:                             0.198 +- 0.15 (Successful only: 0.214 +- 0.15)\n",
      "\n",
      "shift = array([-37, -37])\n",
      "Using the provided environment, not the agent environment.\n",
      "Simulations done in 7.794s:\n",
      "Simulations reached goal: 10185/10188 (3 failures (reached horizon: 3)) (99.97% success)\n",
      " - Average step count:                 303.336 +- 131.06 (Successful only: 303.131 +- 130.54)\n",
      " - Extra steps:                        227.635 +- 123.52 (Successful only: 227.433 +- 122.98)\n",
      " - Average discounted rewards (ADR):   0.100 +- 0.14 (Successful only: 0.100 +- 0.14)\n",
      " - Tmin/T:                             0.282 +- 0.17 (Successful only: 0.282 +- 0.17)\n",
      "\n",
      "shift = array([-39, -39])\n",
      "Using the provided environment, not the agent environment.\n",
      "Simulations done in 6.596s:\n",
      "Simulations reached goal: 10188/10188 (0 failures (reached horizon: 0)) (100.00% success)\n",
      " - Average step count:                 283.930 +- 126.56 (Successful only: 283.930 +- 126.57)\n",
      " - Extra steps:                        205.215 +- 117.61 (Successful only: 205.215 +- 117.62)\n",
      " - Average discounted rewards (ADR):   0.114 +- 0.15 (Successful only: 0.114 +- 0.15)\n",
      " - Tmin/T:                             0.314 +- 0.18 (Successful only: 0.314 +- 0.18)\n",
      "\n",
      "shift = array([-41, -41])\n",
      "Using the provided environment, not the agent environment.\n",
      "Simulations done in 8.268s:\n",
      "Simulations reached goal: 10188/10188 (0 failures (reached horizon: 0)) (100.00% success)\n",
      " - Average step count:                 340.440 +- 155.36 (Successful only: 340.440 +- 155.37)\n",
      " - Extra steps:                        258.553 +- 147.45 (Successful only: 258.553 +- 147.45)\n",
      " - Average discounted rewards (ADR):   0.090 +- 0.15 (Successful only: 0.090 +- 0.15)\n",
      " - Tmin/T:                             0.278 +- 0.16 (Successful only: 0.278 +- 0.16)\n",
      "\n",
      "shift = array([-43, -43])\n",
      "Using the provided environment, not the agent environment.\n",
      "Simulations done in 9.998s:\n",
      "Simulations reached goal: 10117/10188 (71 failures (reached horizon: 71)) (99.30% success)\n",
      " - Average step count:                 472.339 +- 203.01 (Successful only: 468.636 +- 198.85)\n",
      " - Extra steps:                        387.121 +- 195.96 (Successful only: 383.359 +- 191.41)\n",
      " - Average discounted rewards (ADR):   0.055 +- 0.14 (Successful only: 0.055 +- 0.14)\n",
      " - Tmin/T:                             0.212 +- 0.13 (Successful only: 0.213 +- 0.13)\n",
      "\n",
      "shift = array([-45, -45])\n",
      "Using the provided environment, not the agent environment.\n",
      "Simulations done in 12.308s:\n",
      "Simulations reached goal: 8834/10188 (1354 failures (reached horizon: 1354)) (86.71% success)\n",
      " - Average step count:                 652.969 +- 242.76 (Successful only: 599.779 +- 216.06)\n",
      " - Extra steps:                        564.262 +- 238.96 (Successful only: 510.570 +- 209.76)\n",
      " - Average discounted rewards (ADR):   0.030 +- 0.12 (Successful only: 0.035 +- 0.13)\n",
      " - Tmin/T:                             0.159 +- 0.10 (Successful only: 0.170 +- 0.10)\n",
      "\n",
      "shift = array([-47, -47])\n",
      "Using the provided environment, not the agent environment.\n",
      "Simulations done in 15.823s:\n",
      "Simulations reached goal: 3103/10188 (7085 failures (reached horizon: 7085)) (30.46% success)\n",
      " - Average step count:                 906.469 +- 193.31 (Successful only: 692.913 +- 239.03)\n",
      " - Extra steps:                        814.113 +- 189.66 (Successful only: 603.154 +- 225.03)\n",
      " - Average discounted rewards (ADR):   0.016 +- 0.11 (Successful only: 0.053 +- 0.19)\n",
      " - Tmin/T:                             0.111 +- 0.07 (Successful only: 0.150 +- 0.10)\n",
      "\n",
      "shift = array([-49, -49])\n",
      "Using the provided environment, not the agent environment.\n",
      "Simulations done in 16.896s:\n",
      "Simulations reached goal: 246/10190 (9944 failures (reached horizon: 9944)) (2.41% success)\n",
      " - Average step count:                 985.593 +- 110.10 (Successful only: 403.220 +- 393.99)\n",
      " - Extra steps:                        889.449 +- 108.42 (Successful only: 348.907 +- 350.98)\n",
      " - Average discounted rewards (ADR):   0.009 +- 0.09 (Successful only: 0.390 +- 0.40)\n",
      " - Tmin/T:                             0.101 +- 0.06 (Successful only: 0.265 +- 0.21)\n"
     ]
    }
   ],
   "source": [
    "# Complete test\n",
    "all_hists = []\n",
    "for i in range(1,50,2):\n",
    "    shift = np.array([-i,-i])\n",
    "    print(f'\\n{shift = }')\n",
    "\n",
    "    # Setup shifted environment\n",
    "    shifted_artificial_data = np.zeros(artificial_data.shape)\n",
    "    trimmed_artificial_data = artificial_data[:, *[slice(0, -s) if s > 0 else slice(-s, shape) for shape, s in zip(space_shape, shift)]]\n",
    "    shifted_artificial_data[:, *[slice(s, shape) if s >=0 else slice(0, s) for shape, s in zip(space_shape, shift)]] = trimmed_artificial_data\n",
    "\n",
    "    shifted_artificial_env  = Environment(data_file=shifted_artificial_data,\n",
    "                                          data_source_position=(np.array([50,50]) + shift).tolist(),\n",
    "                                          source_radius=source_radius,\n",
    "                                          shape=space_shape,\n",
    "                                          boundary_condition='stop',\n",
    "                                          start_zone='data_zone',\n",
    "                                          odor_present_threshold=3e-1)\n",
    "\n",
    "    # Running test\n",
    "    hist = run_all_starts_test(ag,\n",
    "                               environment=shifted_artificial_env,\n",
    "                               horizon=1000,\n",
    "                               use_gpu=True,\n",
    "                               print_progress=False)\n",
    "\n",
    "    all_hists.append(hist)"
   ]
  },
  {
   "cell_type": "code",
   "execution_count": 19,
   "metadata": {},
   "outputs": [],
   "source": [
    "# Extracting performance metrics\n",
    "convergences = []\n",
    "convergences_std = []\n",
    "tmin_over_ts = []\n",
    "tmin_over_ts_std = []\n",
    "\n",
    "for hist in all_hists:\n",
    "    df = hist.analysis_df\n",
    "    convergences.append(df['converged']['mean'])\n",
    "    convergences_std.append(df['converged']['standard_deviation'])\n",
    "    tmin_over_ts.append(df['t_min_over_t']['success_mean'])\n",
    "    tmin_over_ts_std.append(df['t_min_over_t']['success_standard_deviation'])"
   ]
  },
  {
   "cell_type": "code",
   "execution_count": 20,
   "metadata": {},
   "outputs": [
    {
     "data": {
      "text/plain": [
       "Text(0.5, 0, 'Shift from center along diagonal')"
      ]
     },
     "execution_count": 20,
     "metadata": {},
     "output_type": "execute_result"
    },
    {
     "data": {
      "image/png": "[encoded data removed]",
      "text/plain": [
       "<Figure size 1000x500 with 1 Axes>"
      ]
     },
     "metadata": {},
     "output_type": "display_data"
    }
   ],
   "source": [
    "_, (ax0) = plt.subplots(1,1, figsize=(10,5), gridspec_kw={'hspace':0.3})\n",
    "xs = (np.arange(len(convergences)) * 2) + 1\n",
    "\n",
    "# Convergence plot\n",
    "ax0.set_title('Performances of the agent when shifting the source (convergence)')\n",
    "ax0.errorbar(xs, convergences, convergences_std)\n",
    "\n",
    "# Other formatting\n",
    "ax0.grid()\n",
    "ax0.set_xticks(xs)\n",
    "ax0.set_yticks([0.0, 0.5, 1.0], labels=[0, 50, 100])\n",
    "ax0.set_ylabel('Convergence (%)')\n",
    "ax0.set_xlabel('Shift from center along diagonal')"
   ]
  },
  {
   "cell_type": "code",
   "execution_count": 21,
   "metadata": {},
   "outputs": [
    {
     "data": {
      "text/plain": [
       "Text(0.5, 0, 'Shift from center along diagonal')"
      ]
     },
     "execution_count": 21,
     "metadata": {},
     "output_type": "execute_result"
    },
    {
     "data": {
      "image/png": "[encoded data removed]",
      "text/plain": [
       "<Figure size 1000x500 with 1 Axes>"
      ]
     },
     "metadata": {},
     "output_type": "display_data"
    }
   ],
   "source": [
    "_, (ax1) = plt.subplots(1,1, figsize=(10,5), gridspec_kw={'hspace':0.3})\n",
    "\n",
    "# tmin over t plot\n",
    "ax1.set_title('Performances of the agent when shifting the source ($t_{min}/t$)')\n",
    "ax1.errorbar(xs, tmin_over_ts, tmin_over_ts_std)\n",
    "\n",
    "# Other formatting\n",
    "ax1.grid()\n",
    "ax1.set_xticks(xs)\n",
    "ax1.set_yticks(np.arange(6)/10)\n",
    "ax1.set_ylabel('$t_{min}/t$')\n",
    "ax1.set_xlabel('Shift from center along diagonal')"
   ]
  },
  {
   "cell_type": "markdown",
   "metadata": {},
   "source": [
    "## Grid check"
   ]
  },
  {
   "cell_type": "code",
   "execution_count": 22,
   "metadata": {},
   "outputs": [
    {
     "name": "stdout",
     "output_type": "stream",
     "text": [
      "len(point_array) = 25\n"
     ]
    }
   ],
   "source": [
    "point_array = np.array(list(np.ndindex(5,5))) * -2\n",
    "\n",
    "print(f'{len(point_array) = }')"
   ]
  },
  {
   "cell_type": "code",
   "execution_count": 23,
   "metadata": {},
   "outputs": [
    {
     "name": "stdout",
     "output_type": "stream",
     "text": [
      "\n",
      "shift = array([0, 0])\n",
      "Using the provided environment, not the agent environment.\n",
      "Simulations done in 7.080s:\n",
      "Simulations reached goal: 10188/10188 (0 failures (reached horizon: 0)) (100.00% success)\n",
      " - Average step count:                 269.575 +- 161.44 (Successful only: 269.575 +- 161.45)\n",
      " - Extra steps:                        221.017 +- 157.40 (Successful only: 221.017 +- 157.41)\n",
      " - Average discounted rewards (ADR):   0.175 +- 0.21 (Successful only: 0.175 +- 0.21)\n",
      " - Tmin/T:                             0.270 +- 0.21 (Successful only: 0.270 +- 0.21)\n",
      "\n",
      "shift = array([ 0, -2])\n",
      "Using the provided environment, not the agent environment.\n",
      "Simulations done in 6.855s:\n",
      "Simulations reached goal: 10188/10188 (0 failures (reached horizon: 0)) (100.00% success)\n",
      " - Average step count:                 267.262 +- 160.59 (Successful only: 267.262 +- 160.60)\n",
      " - Extra steps:                        218.665 +- 157.00 (Successful only: 218.665 +- 157.01)\n",
      " - Average discounted rewards (ADR):   0.176 +- 0.21 (Successful only: 0.176 +- 0.21)\n",
      " - Tmin/T:                             0.270 +- 0.21 (Successful only: 0.270 +- 0.21)\n",
      "\n",
      "shift = array([ 0, -4])\n",
      "Using the provided environment, not the agent environment.\n",
      "Simulations done in 7.657s:\n",
      "Simulations reached goal: 10085/10188 (103 failures (reached horizon: 103)) (98.99% success)\n",
      " - Average step count:                 292.861 +- 185.04 (Successful only: 285.639 +- 171.56)\n",
      " - Extra steps:                        244.145 +- 182.34 (Successful only: 236.955 +- 168.74)\n",
      " - Average discounted rewards (ADR):   0.157 +- 0.19 (Successful only: 0.159 +- 0.19)\n",
      " - Tmin/T:                             0.248 +- 0.19 (Successful only: 0.250 +- 0.19)\n",
      "\n",
      "shift = array([ 0, -6])\n",
      "Using the provided environment, not the agent environment.\n",
      "Simulations done in 9.769s:\n",
      "Simulations reached goal: 7975/10188 (2213 failures (reached horizon: 2213)) (78.28% success)\n",
      " - Average step count:                 458.320 +- 325.75 (Successful only: 308.008 +- 177.62)\n",
      " - Extra steps:                        409.406 +- 322.89 (Successful only: 260.157 +- 174.70)\n",
      " - Average discounted rewards (ADR):   0.111 +- 0.18 (Successful only: 0.142 +- 0.19)\n",
      " - Tmin/T:                             0.188 +- 0.17 (Successful only: 0.226 +- 0.18)\n",
      "\n",
      "shift = array([ 0, -8])\n",
      "Using the provided environment, not the agent environment.\n",
      "Simulations done in 8.492s:\n",
      "Simulations reached goal: 10023/10188 (165 failures (reached horizon: 165)) (98.38% success)\n",
      " - Average step count:                 374.293 +- 220.65 (Successful only: 363.993 +- 207.23)\n",
      " - Extra steps:                        325.101 +- 217.90 (Successful only: 314.844 +- 204.37)\n",
      " - Average discounted rewards (ADR):   0.107 +- 0.17 (Successful only: 0.109 +- 0.17)\n",
      " - Tmin/T:                             0.193 +- 0.16 (Successful only: 0.195 +- 0.16)\n",
      "\n",
      "shift = array([-2,  0])\n",
      "Using the provided environment, not the agent environment.\n",
      "Simulations done in 6.875s:\n",
      "Simulations reached goal: 10188/10188 (0 failures (reached horizon: 0)) (100.00% success)\n",
      " - Average step count:                 273.223 +- 159.97 (Successful only: 273.223 +- 159.97)\n",
      " - Extra steps:                        224.626 +- 155.89 (Successful only: 224.626 +- 155.90)\n",
      " - Average discounted rewards (ADR):   0.171 +- 0.21 (Successful only: 0.171 +- 0.21)\n",
      " - Tmin/T:                             0.265 +- 0.21 (Successful only: 0.265 +- 0.21)\n",
      "\n",
      "shift = array([-2, -2])\n",
      "Using the provided environment, not the agent environment.\n",
      "Simulations done in 7.194s:\n",
      "Simulations reached goal: 10188/10188 (0 failures (reached horizon: 0)) (100.00% success)\n",
      " - Average step count:                 272.606 +- 159.03 (Successful only: 272.606 +- 159.03)\n",
      " - Extra steps:                        223.970 +- 155.62 (Successful only: 223.970 +- 155.63)\n",
      " - Average discounted rewards (ADR):   0.169 +- 0.21 (Successful only: 0.169 +- 0.21)\n",
      " - Tmin/T:                             0.262 +- 0.20 (Successful only: 0.262 +- 0.20)\n",
      "\n",
      "shift = array([-2, -4])\n",
      "Using the provided environment, not the agent environment.\n",
      "Simulations done in 7.529s:\n",
      "Simulations reached goal: 10183/10188 (5 failures (reached horizon: 5)) (99.95% success)\n",
      " - Average step count:                 287.057 +- 166.23 (Successful only: 286.707 +- 165.53)\n",
      " - Extra steps:                        238.302 +- 163.31 (Successful only: 237.939 +- 162.54)\n",
      " - Average discounted rewards (ADR):   0.156 +- 0.20 (Successful only: 0.156 +- 0.20)\n",
      " - Tmin/T:                             0.248 +- 0.19 (Successful only: 0.248 +- 0.19)\n",
      "\n",
      "shift = array([-2, -6])\n",
      "Using the provided environment, not the agent environment.\n",
      "Simulations done in 9.285s:\n",
      "Simulations reached goal: 8417/10188 (1771 failures (reached horizon: 1771)) (82.62% success)\n",
      " - Average step count:                 430.344 +- 308.12 (Successful only: 310.484 +- 179.64)\n",
      " - Extra steps:                        381.390 +- 305.32 (Successful only: 262.414 +- 176.93)\n",
      " - Average discounted rewards (ADR):   0.116 +- 0.18 (Successful only: 0.141 +- 0.19)\n",
      " - Tmin/T:                             0.198 +- 0.18 (Successful only: 0.229 +- 0.18)\n",
      "\n",
      "shift = array([-2, -8])\n",
      "Using the provided environment, not the agent environment.\n",
      "Simulations done in 9.350s:\n",
      "Simulations reached goal: 9515/10188 (673 failures (reached horizon: 673)) (93.39% success)\n",
      " - Average step count:                 437.437 +- 267.88 (Successful only: 397.646 +- 229.94)\n",
      " - Extra steps:                        388.205 +- 265.65 (Successful only: 348.457 +- 227.21)\n",
      " - Average discounted rewards (ADR):   0.095 +- 0.17 (Successful only: 0.102 +- 0.17)\n",
      " - Tmin/T:                             0.178 +- 0.16 (Successful only: 0.187 +- 0.16)\n",
      "\n",
      "shift = array([-4,  0])\n",
      "Using the provided environment, not the agent environment.\n",
      "Simulations done in 7.727s:\n",
      "Simulations reached goal: 10135/10188 (53 failures (reached horizon: 53)) (99.48% success)\n",
      " - Average step count:                 306.328 +- 174.33 (Successful only: 302.700 +- 167.40)\n",
      " - Extra steps:                        257.612 +- 171.25 (Successful only: 253.948 +- 164.02)\n",
      " - Average discounted rewards (ADR):   0.141 +- 0.19 (Successful only: 0.142 +- 0.19)\n",
      " - Tmin/T:                             0.232 +- 0.19 (Successful only: 0.233 +- 0.19)\n",
      "\n",
      "shift = array([-4, -2])\n",
      "Using the provided environment, not the agent environment.\n",
      "Simulations done in 7.744s:\n",
      "Simulations reached goal: 10180/10188 (8 failures (reached horizon: 8)) (99.92% success)\n",
      " - Average step count:                 300.781 +- 166.86 (Successful only: 300.231 +- 165.78)\n",
      " - Extra steps:                        252.025 +- 163.42 (Successful only: 251.468 +- 162.28)\n",
      " - Average discounted rewards (ADR):   0.142 +- 0.19 (Successful only: 0.142 +- 0.19)\n",
      " - Tmin/T:                             0.231 +- 0.18 (Successful only: 0.231 +- 0.18)\n",
      "\n",
      "shift = array([-4, -4])\n",
      "Using the provided environment, not the agent environment.\n",
      "Simulations done in 7.997s:\n",
      "Simulations reached goal: 10185/10188 (3 failures (reached horizon: 3)) (99.97% success)\n",
      " - Average step count:                 314.955 +- 171.69 (Successful only: 314.753 +- 171.32)\n",
      " - Extra steps:                        266.080 +- 169.30 (Successful only: 265.883 +- 168.94)\n",
      " - Average discounted rewards (ADR):   0.129 +- 0.18 (Successful only: 0.129 +- 0.18)\n",
      " - Tmin/T:                             0.221 +- 0.18 (Successful only: 0.221 +- 0.18)\n",
      "\n",
      "shift = array([-4, -6])\n",
      "Using the provided environment, not the agent environment.\n",
      "Simulations done in 9.516s:\n",
      "Simulations reached goal: 8990/10188 (1198 failures (reached horizon: 1198)) (88.24% success)\n",
      " - Average step count:                 449.396 +- 279.30 (Successful only: 376.023 +- 206.47)\n",
      " - Extra steps:                        400.323 +- 277.49 (Successful only: 327.269 +- 204.50)\n",
      " - Average discounted rewards (ADR):   0.090 +- 0.16 (Successful only: 0.102 +- 0.17)\n",
      " - Tmin/T:                             0.171 +- 0.15 (Successful only: 0.187 +- 0.16)\n",
      "\n",
      "shift = array([-4, -8])\n",
      "Using the provided environment, not the agent environment.\n",
      "Simulations done in 11.003s:\n",
      "Simulations reached goal: 7926/10188 (2262 failures (reached horizon: 2262)) (77.80% success)\n",
      " - Average step count:                 564.497 +- 316.23 (Successful only: 440.209 +- 242.84)\n",
      " - Extra steps:                        515.146 +- 313.87 (Successful only: 392.040 +- 241.37)\n",
      " - Average discounted rewards (ADR):   0.066 +- 0.15 (Successful only: 0.085 +- 0.16)\n",
      " - Tmin/T:                             0.140 +- 0.14 (Successful only: 0.165 +- 0.15)\n",
      "\n",
      "shift = array([-6,  0])\n",
      "Using the provided environment, not the agent environment.\n",
      "Simulations done in 9.751s:\n",
      "Simulations reached goal: 8243/10188 (1945 failures (reached horizon: 1945)) (80.91% success)\n",
      " - Average step count:                 461.989 +- 301.53 (Successful only: 335.041 +- 167.22)\n",
      " - Extra steps:                        413.075 +- 302.08 (Successful only: 285.013 +- 163.65)\n",
      " - Average discounted rewards (ADR):   0.089 +- 0.17 (Successful only: 0.111 +- 0.18)\n",
      " - Tmin/T:                             0.173 +- 0.16 (Successful only: 0.203 +- 0.16)\n",
      "\n",
      "shift = array([-6, -2])\n",
      "Using the provided environment, not the agent environment.\n",
      "Simulations done in 9.603s:\n",
      "Simulations reached goal: 8419/10188 (1769 failures (reached horizon: 1769)) (82.64% success)\n",
      " - Average step count:                 451.550 +- 298.52 (Successful only: 336.310 +- 177.09)\n",
      " - Extra steps:                        402.596 +- 298.32 (Successful only: 286.937 +- 174.81)\n",
      " - Average discounted rewards (ADR):   0.093 +- 0.16 (Successful only: 0.113 +- 0.17)\n",
      " - Tmin/T:                             0.175 +- 0.15 (Successful only: 0.202 +- 0.15)\n",
      "\n",
      "shift = array([-6, -4])\n",
      "Using the provided environment, not the agent environment.\n",
      "Simulations done in 9.833s:\n",
      "Simulations reached goal: 8911/10188 (1277 failures (reached horizon: 1277)) (87.47% success)\n",
      " - Average step count:                 465.209 +- 276.71 (Successful only: 388.570 +- 201.70)\n",
      " - Extra steps:                        416.136 +- 276.14 (Successful only: 339.517 +- 200.67)\n",
      " - Average discounted rewards (ADR):   0.077 +- 0.15 (Successful only: 0.088 +- 0.16)\n",
      " - Tmin/T:                             0.161 +- 0.14 (Successful only: 0.177 +- 0.14)\n",
      "\n",
      "shift = array([-6, -6])\n",
      "Using the provided environment, not the agent environment.\n",
      "Simulations done in 11.250s:\n",
      "Simulations reached goal: 7954/10188 (2234 failures (reached horizon: 2234)) (78.07% success)\n",
      " - Average step count:                 578.382 +- 305.07 (Successful only: 459.964 +- 235.08)\n",
      " - Extra steps:                        529.111 +- 304.27 (Successful only: 410.663 +- 233.43)\n",
      " - Average discounted rewards (ADR):   0.055 +- 0.13 (Successful only: 0.070 +- 0.15)\n",
      " - Tmin/T:                             0.130 +- 0.13 (Successful only: 0.152 +- 0.13)\n",
      "\n",
      "shift = array([-6, -8])\n",
      "Using the provided environment, not the agent environment.\n",
      "Simulations done in 12.520s:\n",
      "Simulations reached goal: 6565/10188 (3623 failures (reached horizon: 3623)) (64.44% success)\n",
      " - Average step count:                 673.063 +- 309.35 (Successful only: 492.638 +- 238.69)\n",
      " - Extra steps:                        623.514 +- 309.39 (Successful only: 442.944 +- 237.97)\n",
      " - Average discounted rewards (ADR):   0.038 +- 0.12 (Successful only: 0.059 +- 0.14)\n",
      " - Tmin/T:                             0.109 +- 0.11 (Successful only: 0.141 +- 0.13)\n",
      "\n",
      "shift = array([-8,  0])\n",
      "Using the provided environment, not the agent environment.\n",
      "Simulations done in 9.508s:\n",
      "Simulations reached goal: 9465/10188 (723 failures (reached horizon: 723)) (92.90% success)\n",
      " - Average step count:                 447.724 +- 255.46 (Successful only: 405.537 +- 212.54)\n",
      " - Extra steps:                        398.532 +- 254.37 (Successful only: 356.305 +- 210.94)\n",
      " - Average discounted rewards (ADR):   0.076 +- 0.15 (Successful only: 0.082 +- 0.15)\n",
      " - Tmin/T:                             0.159 +- 0.14 (Successful only: 0.168 +- 0.14)\n",
      "\n",
      "shift = array([-8, -2])\n",
      "Using the provided environment, not the agent environment.\n",
      "Simulations done in 9.960s:\n",
      "Simulations reached goal: 9306/10188 (882 failures (reached horizon: 882)) (91.34% success)\n",
      " - Average step count:                 480.008 +- 271.48 (Successful only: 430.724 +- 229.43)\n",
      " - Extra steps:                        430.776 +- 270.74 (Successful only: 381.454 +- 228.29)\n",
      " - Average discounted rewards (ADR):   0.070 +- 0.14 (Successful only: 0.077 +- 0.15)\n",
      " - Tmin/T:                             0.152 +- 0.13 (Successful only: 0.162 +- 0.14)\n",
      "\n",
      "shift = array([-8, -4])\n",
      "Using the provided environment, not the agent environment.\n",
      "Simulations done in 10.907s:\n",
      "Simulations reached goal: 8388/10188 (1800 failures (reached horizon: 1800)) (82.33% success)\n",
      " - Average step count:                 565.987 +- 298.47 (Successful only: 472.852 +- 243.14)\n",
      " - Extra steps:                        516.637 +- 298.38 (Successful only: 423.452 +- 242.69)\n",
      " - Average discounted rewards (ADR):   0.053 +- 0.13 (Successful only: 0.064 +- 0.14)\n",
      " - Tmin/T:                             0.130 +- 0.12 (Successful only: 0.148 +- 0.13)\n",
      "\n",
      "shift = array([-8, -6])\n",
      "Using the provided environment, not the agent environment.\n",
      "Simulations done in 12.223s:\n",
      "Simulations reached goal: 6873/10188 (3315 failures (reached horizon: 3315)) (67.46% success)\n",
      " - Average step count:                 666.362 +- 305.41 (Successful only: 505.441 +- 242.25)\n",
      " - Extra steps:                        616.813 +- 305.51 (Successful only: 455.784 +- 241.80)\n",
      " - Average discounted rewards (ADR):   0.037 +- 0.11 (Successful only: 0.054 +- 0.13)\n",
      " - Tmin/T:                             0.107 +- 0.11 (Successful only: 0.135 +- 0.12)\n",
      "\n",
      "shift = array([-8, -8])\n",
      "Using the provided environment, not the agent environment.\n",
      "Simulations done in 13.809s:\n",
      "Simulations reached goal: 5266/10188 (4922 failures (reached horizon: 4922)) (51.69% success)\n",
      " - Average step count:                 771.634 +- 285.64 (Successful only: 558.186 +- 252.12)\n",
      " - Extra steps:                        721.808 +- 285.51 (Successful only: 508.381 +- 251.04)\n",
      " - Average discounted rewards (ADR):   0.024 +- 0.10 (Successful only: 0.047 +- 0.13)\n",
      " - Tmin/T:                             0.088 +- 0.09 (Successful only: 0.124 +- 0.12)\n"
     ]
    }
   ],
   "source": [
    "# Complete test\n",
    "all_point_hists = []\n",
    "for shift in point_array:\n",
    "    print(f'\\n{shift = }')\n",
    "\n",
    "    # Setup shifted environment\n",
    "    shifted_artificial_data = np.zeros(artificial_data.shape)\n",
    "    trimmed_artificial_data = artificial_data[:, *[slice(0, -s) if s > 0 else slice(-s, shape) for shape, s in zip(space_shape, shift)]]\n",
    "    shifted_artificial_data[:, *[slice(s, shape) if s >=0 else slice(0, s) for shape, s in zip(space_shape, shift)]] = trimmed_artificial_data\n",
    "\n",
    "    shifted_artificial_env  = Environment(data_file=shifted_artificial_data,\n",
    "                                          data_source_position=(np.array([50,50]) + shift).tolist(),\n",
    "                                          source_radius=source_radius,\n",
    "                                          shape=space_shape,\n",
    "                                          boundary_condition='stop',\n",
    "                                          start_zone='data_zone',\n",
    "                                          odor_present_threshold=3e-1)\n",
    "\n",
    "    # Running test\n",
    "    hist = run_all_starts_test(ag,\n",
    "                               environment=shifted_artificial_env,\n",
    "                               horizon=1000,\n",
    "                               use_gpu=True,\n",
    "                               print_progress=False)\n",
    "\n",
    "    all_point_hists.append(hist)"
   ]
  },
  {
   "cell_type": "code",
   "execution_count": 24,
   "metadata": {},
   "outputs": [],
   "source": [
    "# Extracting performance metrics\n",
    "point_convergences = []\n",
    "point_convergences_std = []\n",
    "point_tmin_over_ts = []\n",
    "point_tmin_over_ts_std = []\n",
    "\n",
    "for hist in all_point_hists:\n",
    "    df = hist.analysis_df\n",
    "    point_convergences.append(df['converged']['mean'])\n",
    "    point_convergences_std.append(df['converged']['standard_deviation'])\n",
    "    point_tmin_over_ts.append(df['t_min_over_t']['success_mean'])\n",
    "    point_tmin_over_ts_std.append(df['t_min_over_t']['success_standard_deviation'])\n",
    "\n",
    "point_array_norm = (point_array * -1/2).astype(int)\n",
    "\n",
    "point_convergences_array = np.zeros((5,5))\n",
    "point_convergences_array[*point_array_norm.T] = point_convergences\n",
    "point_convergences_std_array = np.zeros((5,5))\n",
    "point_convergences_std_array[*point_array_norm.T] = point_convergences_std\n",
    "\n",
    "point_tmin_over_ts_array = np.zeros((5,5))\n",
    "point_tmin_over_ts_array[*point_array_norm.T] = point_tmin_over_ts\n",
    "point_tmin_over_ts_std_array = np.zeros((5,5))\n",
    "point_tmin_over_ts_std_array[*point_array_norm.T] = point_tmin_over_ts_std"
   ]
  },
  {
   "cell_type": "code",
   "execution_count": 25,
   "metadata": {},
   "outputs": [
    {
     "data": {
      "image/png": "[encoded data removed]",
      "text/plain": [
       "<Figure size 640x480 with 2 Axes>"
      ]
     },
     "metadata": {},
     "output_type": "display_data"
    }
   ],
   "source": [
    "# Convergence plot\n",
    "# plt.title('Performances of the agent when shifting the source (convergence)')\n",
    "plt.imshow(point_convergences_array, cmap='RdYlGn', vmax=1.0, vmin=0.0)\n",
    "plt.colorbar()\n",
    "plt.show()"
   ]
  },
  {
   "cell_type": "code",
   "execution_count": 26,
   "metadata": {},
   "outputs": [
    {
     "data": {
      "image/png": "[encoded data removed]",
      "text/plain": [
       "<Figure size 640x480 with 2 Axes>"
      ]
     },
     "metadata": {},
     "output_type": "display_data"
    }
   ],
   "source": [
    "# Convergence plot\n",
    "# plt.title('Performances of the agent when shifting the source ($t_{min}/t$)')\n",
    "plt.imshow(point_tmin_over_ts_array, cmap='RdYlGn', vmax=0.5, vmin=0.0)\n",
    "plt.colorbar()\n",
    "plt.show()"
   ]
  },
  {
   "cell_type": "code",
   "execution_count": null,
   "metadata": {},
   "outputs": [],
   "source": []
  }
 ],
 "metadata": {
  "kernelspec": {
   "display_name": "pomdp_olf_nav_env",
   "language": "python",
   "name": "python3"
  },
  "language_info": {
   "codemirror_mode": {
    "name": "ipython",
    "version": 3
   },
   "file_extension": ".py",
   "mimetype": "text/x-python",
   "name": "python",
   "nbconvert_exporter": "python",
   "pygments_lexer": "ipython3",
   "version": "3.11.9"
  }
 },
 "nbformat": 4,
 "nbformat_minor": 2
}
