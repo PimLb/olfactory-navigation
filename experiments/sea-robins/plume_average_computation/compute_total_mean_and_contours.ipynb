{
 "cells": [
  {
   "cell_type": "code",
   "execution_count": 57,
   "metadata": {},
   "outputs": [],
   "source": [
    "import h5py\n",
    "import os\n",
    "import numpy as np\n",
    "import matplotlib.pyplot as plt"
   ]
  },
  {
   "cell_type": "code",
   "execution_count": 58,
   "metadata": {},
   "outputs": [],
   "source": [
    "# Read files and setup varibles\n",
    "\n",
    "path = '/storage/arnaud/tank_odor_field_2024_06_13/'\n",
    "\n",
    "total_odor_mean = np.zeros((1000, 1000)) # large 2d array to save the average traslated odor field for all source positions\n",
    "mean_source_y = 500 # source x position for the averaged field\n",
    "mean_source_x = 500 # source y position for the averaged field\n",
    "\n",
    "contour_levels = [-4, -3, -2, -1]\n",
    "\n",
    "files = os.listdir(path) # files containing data from differnet source positions\n",
    "\n",
    "source_num = len(files) # variable to count number of different source positions"
   ]
  },
  {
   "cell_type": "code",
   "execution_count": 59,
   "metadata": {},
   "outputs": [],
   "source": [
    "# Get sample data to read start and end times\n",
    "sample_data = h5py.File(path + files[0], 'r')\n",
    "\n",
    "thresh_scale = 5\n",
    "thresh = 3 / 10**(thresh_scale)\n",
    "\n",
    "time_slices = sample_data['odor_base']\n",
    "time_slices = sorted([int(key_name) for key_name in time_slices.keys()])\n",
    "\n",
    "experiment_end_time = 900 # seconds = 15minuts\n",
    "\n",
    "start_time = min(time_slices)\n",
    "end_time = min(max(time_slices), experiment_end_time)"
   ]
  },
  {
   "cell_type": "code",
   "execution_count": 60,
   "metadata": {},
   "outputs": [],
   "source": [
    "for file in files:\n",
    "    data = h5py.File(path + file,'r')\n",
    "\n",
    "    # Gathering data\n",
    "    odor = data['odor_base']\n",
    "    odor_data = [odor[str(time)] for time in range(start_time, end_time)]\n",
    "    odor_data_array = np.array(odor_data)\n",
    "\n",
    "    # Computing mean\n",
    "    odor_mean = np.mean(odor_data_array > thresh, axis=0)\n",
    "\n",
    "    # compute the odor source position\n",
    "    source_y, source_x = np.unravel_index(np.argmax(odor_data_array[0]), shape=odor_data_array[0].shape)\n",
    "\n",
    "    # translate the mean odor field and ad it to the total_odor_mean field\n",
    "    total_odor_mean[(mean_source_y - source_y) : (mean_source_y - source_y + odor_mean.shape[0]),\n",
    "                    (mean_source_x - source_x) : (mean_source_x - source_x + odor_mean.shape[1])] += odor_mean\n",
    "\n",
    "total_odor_mean /= source_num"
   ]
  },
  {
   "cell_type": "code",
   "execution_count": 61,
   "metadata": {},
   "outputs": [
    {
     "data": {
      "text/plain": [
       "(408, 488)"
      ]
     },
     "execution_count": 61,
     "metadata": {},
     "output_type": "execute_result"
    }
   ],
   "source": [
    "odor_mean.shape"
   ]
  },
  {
   "cell_type": "code",
   "execution_count": 62,
   "metadata": {},
   "outputs": [
    {
     "data": {
      "text/plain": [
       "<matplotlib.colorbar.Colorbar at 0x7fb173e60690>"
      ]
     },
     "execution_count": 62,
     "metadata": {},
     "output_type": "execute_result"
    },
    {
     "data": {
      "image/png": "[encoded data removed]",
      "text/plain": [
       "<Figure size 640x480 with 2 Axes>"
      ]
     },
     "metadata": {},
     "output_type": "display_data"
    }
   ],
   "source": [
    "plt.imshow(total_odor_mean, cmap='Greys')\n",
    "plt.colorbar()"
   ]
  },
  {
   "cell_type": "code",
   "execution_count": 63,
   "metadata": {},
   "outputs": [],
   "source": [
    "# threshold = -4.0\n",
    "# # total_odor_mean[total_odor_mean<=10**threshold] = 10**(-20)\n",
    "# plt.imshow(np.log10(total_odor_mean),origin='lower',vmin=threshold,vmax=0,interpolation='bilinear',cmap='viridis',alpha=1)\n",
    "# plt.contour(np.log10(total_odor_mean), levels=contour_levels, colors='white')"
   ]
  },
  {
   "cell_type": "code",
   "execution_count": 64,
   "metadata": {},
   "outputs": [],
   "source": [
    "np.save(f'./average_15min_odor_base_3e{thresh_scale}.npy', total_odor_mean)"
   ]
  }
 ],
 "metadata": {
  "kernelspec": {
   "display_name": "pomdp_olf_nav_env",
   "language": "python",
   "name": "python3"
  },
  "language_info": {
   "codemirror_mode": {
    "name": "ipython",
    "version": 3
   },
   "file_extension": ".py",
   "mimetype": "text/x-python",
   "name": "python",
   "nbconvert_exporter": "python",
   "pygments_lexer": "ipython3",
   "version": "3.11.9"
  }
 },
 "nbformat": 4,
 "nbformat_minor": 2
}
